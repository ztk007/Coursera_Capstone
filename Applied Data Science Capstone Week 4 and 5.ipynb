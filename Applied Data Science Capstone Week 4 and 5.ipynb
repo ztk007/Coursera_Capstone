{
    "cells": [
        {
            "cell_type": "markdown",
            "metadata": {},
            "source": "# Project Overview\n\nThis is a slightly modified approach to what we worked on in the first three weeks of the Capstone project. Here the list of neighboorhoods which was used for Toronto and New York is replaced by a postal zip codes. The latter was done as a surrogate for the neighborhood definition and allows unified and easy access to all US cities. In addition, the zip code database also includes the latitude and longitudes of the respective area.\n"
        },
        {
            "cell_type": "markdown",
            "metadata": {},
            "source": "# TO DO :\n- Check NAN zip codes -> regenerate missing\n\nOdd \"outlier\" values for lat,long of e.g. San Jose:\n\n603\tSan Jose\tCalifornia\t62682\t40.280\t-89.630\n\n604\tSan Jose\tCalifornia\t87565\t35.500\t-105.400\n\n606\tSan Jose\tCalifornia\t95110\t37.340\t-121.910\n\n\n- check unique longitutde , latitude values for zip codes\n- get optimal value for \"k\" for KMEANS clustering"
        },
        {
            "cell_type": "markdown",
            "metadata": {},
            "source": "### Import libraries\n"
        },
        {
            "cell_type": "code",
            "execution_count": null,
            "metadata": {},
            "outputs": [],
            "source": "#!conda create --name myenv\n#activate env\n#!conda activate myenv\n\n\n!pip install bs4\nfrom bs4 import BeautifulSoup\n\n!pip install uszipcode\nfrom uszipcode import SearchEngine\n\nimport numpy as np\n\nimport pandas as pd\nimport requests\n\n# Matplotlib and associated plotting modules\nimport matplotlib.cm as cm\nimport matplotlib.colors as colors\n\n# import k-means from clustering stage\nfrom sklearn.cluster import KMeans\n\n#!conda install -c conda-forge folium=0.5.0 --yes \n!pip install folium\nimport folium # map rendering library\n\n!conda install -c conda-forge geopy --yes \n#!pip install goepy\nfrom geopy.geocoders import Nominatim # convert an address into latitude and longitude values\n\nprint (\"Libraries imported\")"
        },
        {
            "cell_type": "markdown",
            "metadata": {},
            "source": "### Download list of most populated cities in US"
        },
        {
            "cell_type": "code",
            "execution_count": 5,
            "metadata": {},
            "outputs": [],
            "source": "# get list of most populous US cities from Wikipedia\n\nurl = \"https://en.wikipedia.org/wiki/List_of_United_States_cities_by_population\"\nhtml = requests.get(url).text\n"
        },
        {
            "cell_type": "markdown",
            "metadata": {},
            "source": "### Extract table with BeautifulSoup"
        },
        {
            "cell_type": "code",
            "execution_count": 6,
            "metadata": {},
            "outputs": [
                {
                    "name": "stdout",
                    "output_type": "stream",
                    "text": "Table found\n"
                }
            ],
            "source": "\n# get all tables with BeautifulSoup\nsoup = BeautifulSoup(html,\"html5lib\")\n\ntables = soup.find_all(\"table\")\ntable_index= -1\ntable = None\n\n# find the correct table \nfor i,table in enumerate(tables):\n    if \"New York City\" in str(table) and \"Chicago\" in str(table): #\n        table_index = i\n        #break # first table which \n\nif table_index >=0:\n    table = tables[table_index]\n    print (\"Table found\")\n    #print (table)\nelse:\n    print (\"No valid table found\")\n    table = None\n\n"
        },
        {
            "cell_type": "markdown",
            "metadata": {},
            "source": "### Extract required data from table and generate a pandas dataframe for cities with at least 1M inhabitants"
        },
        {
            "cell_type": "code",
            "execution_count": 7,
            "metadata": {},
            "outputs": [
                {
                    "data": {
                        "text/html": "<div>\n<style scoped>\n    .dataframe tbody tr th:only-of-type {\n        vertical-align: middle;\n    }\n\n    .dataframe tbody tr th {\n        vertical-align: top;\n    }\n\n    .dataframe thead th {\n        text-align: right;\n    }\n</style>\n<table border=\"1\" class=\"dataframe\">\n  <thead>\n    <tr style=\"text-align: right;\">\n      <th></th>\n      <th>City</th>\n      <th>State</th>\n      <th>Size Estimate</th>\n    </tr>\n  </thead>\n  <tbody>\n    <tr>\n      <th>0</th>\n      <td>New York City</td>\n      <td>New York</td>\n      <td>8336817</td>\n    </tr>\n    <tr>\n      <th>1</th>\n      <td>Los Angeles</td>\n      <td>California</td>\n      <td>3979576</td>\n    </tr>\n    <tr>\n      <th>2</th>\n      <td>Chicago</td>\n      <td>Illinois</td>\n      <td>2693976</td>\n    </tr>\n    <tr>\n      <th>3</th>\n      <td>Houston</td>\n      <td>Texas</td>\n      <td>2320268</td>\n    </tr>\n    <tr>\n      <th>4</th>\n      <td>Phoenix</td>\n      <td>Arizona</td>\n      <td>1680992</td>\n    </tr>\n    <tr>\n      <th>5</th>\n      <td>Philadelphia</td>\n      <td>Pennsylvania</td>\n      <td>1584064</td>\n    </tr>\n    <tr>\n      <th>6</th>\n      <td>San Antonio</td>\n      <td>Texas</td>\n      <td>1547253</td>\n    </tr>\n    <tr>\n      <th>7</th>\n      <td>San Diego</td>\n      <td>California</td>\n      <td>1423851</td>\n    </tr>\n    <tr>\n      <th>8</th>\n      <td>Dallas</td>\n      <td>Texas</td>\n      <td>1343573</td>\n    </tr>\n    <tr>\n      <th>9</th>\n      <td>San Jose</td>\n      <td>California</td>\n      <td>1021795</td>\n    </tr>\n  </tbody>\n</table>\n</div>",
                        "text/plain": "            City         State  Size Estimate\n0  New York City      New York        8336817\n1    Los Angeles    California        3979576\n2        Chicago      Illinois        2693976\n3        Houston         Texas        2320268\n4        Phoenix       Arizona        1680992\n5   Philadelphia  Pennsylvania        1584064\n6    San Antonio         Texas        1547253\n7      San Diego    California        1423851\n8         Dallas         Texas        1343573\n9       San Jose    California        1021795"
                    },
                    "execution_count": 7,
                    "metadata": {},
                    "output_type": "execute_result"
                }
            ],
            "source": "\ntable_contents=[]\n\n# loop over all cells in the table \nfor i,row in enumerate(table.findAll('tr')): # orig: td\n    \n    #create dictionary for a given cell to be added to dataframe\n\n    if not i:\n        #skip header\n        continue\n\n    arr = (row.text).split(\"\\n\")\n    cell = {}\n\n    if len(arr)>17:\n        #city \n        cell['City'] = arr[3].split(\"[\")[0]\n        #state \n        cell['State'] = arr[5].replace(\"\\xa0\",\"\")\n        #print (arr)\n        cell['Size Estimate'] = int(arr[7].replace(\",\",\"\"))\n\n        #print (cell)\n        \n        table_contents.append(cell)\n\n#print(table_contents)\n# print(table_contents)\ncities = pd.DataFrame(table_contents)\n\ncities.head(10)"
        },
        {
            "cell_type": "markdown",
            "metadata": {},
            "source": "### Download zipcode database"
        },
        {
            "cell_type": "code",
            "execution_count": 8,
            "metadata": {},
            "outputs": [
                {
                    "name": "stdout",
                    "output_type": "stream",
                    "text": "Start downloading data for simple zipcode database, total size 9MB ...\n  1 MB finished ...\n  2 MB finished ...\n  3 MB finished ...\n  4 MB finished ...\n  5 MB finished ...\n  6 MB finished ...\n  7 MB finished ...\n  8 MB finished ...\n  9 MB finished ...\n  10 MB finished ...\n  Complete!\n"
                }
            ],
            "source": "\n#download zip code database\nsearch = SearchEngine(simple_zipcode=True) # simple_zipcode=False\n"
        },
        {
            "cell_type": "markdown",
            "metadata": {},
            "source": "### Retrieve all zipcodes for cities with 1M or more inhabitants"
        },
        {
            "cell_type": "code",
            "execution_count": 9,
            "metadata": {},
            "outputs": [
                {
                    "name": "stdout",
                    "output_type": "stream",
                    "text": "Retrieved 99 zip codes for New York City\nRetrieved 64 zip codes for Los Angeles\nRetrieved 58 zip codes for Chicago\nRetrieved 106 zip codes for Houston\nRetrieved 53 zip codes for Phoenix\nRetrieved 56 zip codes for Philadelphia\nRetrieved 68 zip codes for San Antonio\nRetrieved 36 zip codes for San Diego\nRetrieved 63 zip codes for Dallas\nRetrieved 32 zip codes for San Jose\n"
                },
                {
                    "data": {
                        "text/html": "<div>\n<style scoped>\n    .dataframe tbody tr th:only-of-type {\n        vertical-align: middle;\n    }\n\n    .dataframe tbody tr th {\n        vertical-align: top;\n    }\n\n    .dataframe thead th {\n        text-align: right;\n    }\n</style>\n<table border=\"1\" class=\"dataframe\">\n  <thead>\n    <tr style=\"text-align: right;\">\n      <th></th>\n      <th>City</th>\n      <th>State</th>\n      <th>Zipcode</th>\n      <th>Latitude</th>\n      <th>Longitude</th>\n    </tr>\n  </thead>\n  <tbody>\n    <tr>\n      <th>0</th>\n      <td>New York City</td>\n      <td>New York</td>\n      <td>10001</td>\n      <td>40.750</td>\n      <td>-73.990</td>\n    </tr>\n    <tr>\n      <th>1</th>\n      <td>New York City</td>\n      <td>New York</td>\n      <td>10002</td>\n      <td>40.720</td>\n      <td>-73.990</td>\n    </tr>\n    <tr>\n      <th>2</th>\n      <td>New York City</td>\n      <td>New York</td>\n      <td>10003</td>\n      <td>40.730</td>\n      <td>-73.990</td>\n    </tr>\n    <tr>\n      <th>3</th>\n      <td>New York City</td>\n      <td>New York</td>\n      <td>10004</td>\n      <td>40.700</td>\n      <td>-74.020</td>\n    </tr>\n    <tr>\n      <th>4</th>\n      <td>New York City</td>\n      <td>New York</td>\n      <td>10005</td>\n      <td>40.705</td>\n      <td>-74.005</td>\n    </tr>\n  </tbody>\n</table>\n</div>",
                        "text/plain": "            City     State Zipcode  Latitude  Longitude\n0  New York City  New York   10001    40.750    -73.990\n1  New York City  New York   10002    40.720    -73.990\n2  New York City  New York   10003    40.730    -73.990\n3  New York City  New York   10004    40.700    -74.020\n4  New York City  New York   10005    40.705    -74.005"
                    },
                    "execution_count": 9,
                    "metadata": {},
                    "output_type": "execute_result"
                }
            ],
            "source": "#cities with at least one million inhabitants\ntmpdata = []\n\nfor city, state,size in zip(cities[\"City\"],cities[\"State\"],cities[\"Size Estimate\"]):\n    if size > 1000000:\n        #res = search.by_city_and_state(city, state)\n        res = search.by_city(city=city, returns=0)\n        if not len(res):\n            print (\"Error occurred for {}\".format(city))\n        else:\n            #pcode = {}\n            print (\"Retrieved {} zip codes for {}\".format(len(res),city))\n            #city_zipcodes[city] = [z.zipcode for z in res]\n            for z in res:\n                pcode = {'City':city,'State':state,'Zipcode':z.zipcode,'Latitude':z.lat,'Longitude':z.lng}\n                tmpdata.append(pcode)\n        #break   # REMOVE ------------------------------\ncity_wzipcodes =  pd.DataFrame(tmpdata)\ncity_wzipcodes.head()"
        },
        {
            "cell_type": "markdown",
            "metadata": {},
            "source": "### Set up foursquare information"
        },
        {
            "cell_type": "code",
            "execution_count": 10,
            "metadata": {},
            "outputs": [],
            "source": "# The code was removed by Watson Studio for sharing."
        },
        {
            "cell_type": "markdown",
            "metadata": {},
            "source": "### Function to retrieve location data from foursquare"
        },
        {
            "cell_type": "code",
            "execution_count": 31,
            "metadata": {},
            "outputs": [],
            "source": "\ndef getNearbyVenues(names, latitudes, longitudes, radius=500):\n    \n    venues_list=[]\n    for name, lat, lng in zip(names, latitudes, longitudes):\n        #print(name)\n            \n        # create the API request URL\n        url = 'https://api.foursquare.com/v2/venues/explore?&client_id={}&client_secret={}&v={}&ll={},{}&radius={}&limit={}'.format(\n            CLIENT_ID, \n            CLIENT_SECRET, \n            VERSION, \n            lat, \n            lng, \n            radius, \n            LIMIT)\n            \n        # make the GET request\n        #print (url) #REMOVE\n        results = requests.get(url).json()[\"response\"]['groups'][0]['items']\n        \n        # return only relevant information for each nearby venue\n        venues_list.append([(\n            name, \n            lat, \n            lng, \n            v['venue']['name'], \n            v['venue']['location']['lat'], \n            v['venue']['location']['lng'],  \n            v['venue']['categories'][0]['name']) for v in results])\n\n    nearby_venues = pd.DataFrame([item for venue_list in venues_list for item in venue_list])\n    nearby_venues.columns = ['Zipcode', \n                  'Zipcode Latitude', \n                  'Zipcode Longitude', \n                  'Venue', \n                  'Venue Latitude', \n                  'Venue Longitude', \n                  'Venue Category']\n    \n    return(nearby_venues)"
        },
        {
            "cell_type": "markdown",
            "metadata": {},
            "source": "# TO DO --> SOME LATITUDE AND LONGITUDE VALUES ARE MISSING FROM ZIP CODE DATABASE\n\n"
        },
        {
            "cell_type": "code",
            "execution_count": 35,
            "metadata": {},
            "outputs": [],
            "source": "# TO DO --> SOME LATITUDE AND LONGITUDE VALUES ARE MISSING FROM ZIP CODE DATABASE\n"
        },
        {
            "cell_type": "code",
            "execution_count": 61,
            "metadata": {},
            "outputs": [
                {
                    "data": {
                        "text/html": "<div>\n<style scoped>\n    .dataframe tbody tr th:only-of-type {\n        vertical-align: middle;\n    }\n\n    .dataframe tbody tr th {\n        vertical-align: top;\n    }\n\n    .dataframe thead th {\n        text-align: right;\n    }\n</style>\n<table border=\"1\" class=\"dataframe\">\n  <thead>\n    <tr style=\"text-align: right;\">\n      <th></th>\n      <th>City</th>\n      <th>State</th>\n      <th>Zipcode</th>\n      <th>Latitude</th>\n      <th>Longitude</th>\n    </tr>\n  </thead>\n  <tbody>\n    <tr>\n      <th>603</th>\n      <td>San Jose</td>\n      <td>California</td>\n      <td>62682</td>\n      <td>40.280</td>\n      <td>-89.630</td>\n    </tr>\n    <tr>\n      <th>604</th>\n      <td>San Jose</td>\n      <td>California</td>\n      <td>87565</td>\n      <td>35.500</td>\n      <td>-105.400</td>\n    </tr>\n    <tr>\n      <th>606</th>\n      <td>San Jose</td>\n      <td>California</td>\n      <td>95110</td>\n      <td>37.340</td>\n      <td>-121.910</td>\n    </tr>\n    <tr>\n      <th>607</th>\n      <td>San Jose</td>\n      <td>California</td>\n      <td>95111</td>\n      <td>37.280</td>\n      <td>-121.830</td>\n    </tr>\n    <tr>\n      <th>608</th>\n      <td>San Jose</td>\n      <td>California</td>\n      <td>95112</td>\n      <td>37.340</td>\n      <td>-121.880</td>\n    </tr>\n    <tr>\n      <th>609</th>\n      <td>San Jose</td>\n      <td>California</td>\n      <td>95113</td>\n      <td>37.334</td>\n      <td>-121.891</td>\n    </tr>\n    <tr>\n      <th>610</th>\n      <td>San Jose</td>\n      <td>California</td>\n      <td>95116</td>\n      <td>37.350</td>\n      <td>-121.850</td>\n    </tr>\n    <tr>\n      <th>611</th>\n      <td>San Jose</td>\n      <td>California</td>\n      <td>95117</td>\n      <td>37.310</td>\n      <td>-121.970</td>\n    </tr>\n    <tr>\n      <th>612</th>\n      <td>San Jose</td>\n      <td>California</td>\n      <td>95118</td>\n      <td>37.260</td>\n      <td>-121.890</td>\n    </tr>\n    <tr>\n      <th>613</th>\n      <td>San Jose</td>\n      <td>California</td>\n      <td>95119</td>\n      <td>37.230</td>\n      <td>-121.790</td>\n    </tr>\n    <tr>\n      <th>614</th>\n      <td>San Jose</td>\n      <td>California</td>\n      <td>95120</td>\n      <td>37.170</td>\n      <td>-121.840</td>\n    </tr>\n    <tr>\n      <th>615</th>\n      <td>San Jose</td>\n      <td>California</td>\n      <td>95121</td>\n      <td>37.300</td>\n      <td>-121.810</td>\n    </tr>\n    <tr>\n      <th>616</th>\n      <td>San Jose</td>\n      <td>California</td>\n      <td>95122</td>\n      <td>37.330</td>\n      <td>-121.840</td>\n    </tr>\n    <tr>\n      <th>617</th>\n      <td>San Jose</td>\n      <td>California</td>\n      <td>95123</td>\n      <td>37.240</td>\n      <td>-121.840</td>\n    </tr>\n    <tr>\n      <th>618</th>\n      <td>San Jose</td>\n      <td>California</td>\n      <td>95124</td>\n      <td>37.260</td>\n      <td>-121.930</td>\n    </tr>\n    <tr>\n      <th>619</th>\n      <td>San Jose</td>\n      <td>California</td>\n      <td>95125</td>\n      <td>37.310</td>\n      <td>-121.900</td>\n    </tr>\n    <tr>\n      <th>620</th>\n      <td>San Jose</td>\n      <td>California</td>\n      <td>95126</td>\n      <td>37.320</td>\n      <td>-121.910</td>\n    </tr>\n    <tr>\n      <th>621</th>\n      <td>San Jose</td>\n      <td>California</td>\n      <td>95127</td>\n      <td>37.390</td>\n      <td>-121.780</td>\n    </tr>\n    <tr>\n      <th>622</th>\n      <td>San Jose</td>\n      <td>California</td>\n      <td>95128</td>\n      <td>37.320</td>\n      <td>-121.930</td>\n    </tr>\n    <tr>\n      <th>623</th>\n      <td>San Jose</td>\n      <td>California</td>\n      <td>95129</td>\n      <td>37.310</td>\n      <td>-122.000</td>\n    </tr>\n    <tr>\n      <th>624</th>\n      <td>San Jose</td>\n      <td>California</td>\n      <td>95130</td>\n      <td>37.290</td>\n      <td>-121.980</td>\n    </tr>\n    <tr>\n      <th>625</th>\n      <td>San Jose</td>\n      <td>California</td>\n      <td>95131</td>\n      <td>37.380</td>\n      <td>-121.890</td>\n    </tr>\n    <tr>\n      <th>626</th>\n      <td>San Jose</td>\n      <td>California</td>\n      <td>95132</td>\n      <td>37.430</td>\n      <td>-121.800</td>\n    </tr>\n    <tr>\n      <th>627</th>\n      <td>San Jose</td>\n      <td>California</td>\n      <td>95133</td>\n      <td>37.370</td>\n      <td>-121.860</td>\n    </tr>\n    <tr>\n      <th>628</th>\n      <td>San Jose</td>\n      <td>California</td>\n      <td>95134</td>\n      <td>37.420</td>\n      <td>-121.970</td>\n    </tr>\n    <tr>\n      <th>629</th>\n      <td>San Jose</td>\n      <td>California</td>\n      <td>95135</td>\n      <td>37.300</td>\n      <td>-121.700</td>\n    </tr>\n    <tr>\n      <th>630</th>\n      <td>San Jose</td>\n      <td>California</td>\n      <td>95136</td>\n      <td>37.270</td>\n      <td>-121.840</td>\n    </tr>\n    <tr>\n      <th>631</th>\n      <td>San Jose</td>\n      <td>California</td>\n      <td>95138</td>\n      <td>37.250</td>\n      <td>-121.740</td>\n    </tr>\n    <tr>\n      <th>632</th>\n      <td>San Jose</td>\n      <td>California</td>\n      <td>95139</td>\n      <td>37.220</td>\n      <td>-121.750</td>\n    </tr>\n    <tr>\n      <th>634</th>\n      <td>San Jose</td>\n      <td>California</td>\n      <td>95148</td>\n      <td>37.330</td>\n      <td>-121.770</td>\n    </tr>\n  </tbody>\n</table>\n</div>",
                        "text/plain": "         City       State Zipcode  Latitude  Longitude\n603  San Jose  California   62682    40.280    -89.630\n604  San Jose  California   87565    35.500   -105.400\n606  San Jose  California   95110    37.340   -121.910\n607  San Jose  California   95111    37.280   -121.830\n608  San Jose  California   95112    37.340   -121.880\n609  San Jose  California   95113    37.334   -121.891\n610  San Jose  California   95116    37.350   -121.850\n611  San Jose  California   95117    37.310   -121.970\n612  San Jose  California   95118    37.260   -121.890\n613  San Jose  California   95119    37.230   -121.790\n614  San Jose  California   95120    37.170   -121.840\n615  San Jose  California   95121    37.300   -121.810\n616  San Jose  California   95122    37.330   -121.840\n617  San Jose  California   95123    37.240   -121.840\n618  San Jose  California   95124    37.260   -121.930\n619  San Jose  California   95125    37.310   -121.900\n620  San Jose  California   95126    37.320   -121.910\n621  San Jose  California   95127    37.390   -121.780\n622  San Jose  California   95128    37.320   -121.930\n623  San Jose  California   95129    37.310   -122.000\n624  San Jose  California   95130    37.290   -121.980\n625  San Jose  California   95131    37.380   -121.890\n626  San Jose  California   95132    37.430   -121.800\n627  San Jose  California   95133    37.370   -121.860\n628  San Jose  California   95134    37.420   -121.970\n629  San Jose  California   95135    37.300   -121.700\n630  San Jose  California   95136    37.270   -121.840\n631  San Jose  California   95138    37.250   -121.740\n632  San Jose  California   95139    37.220   -121.750\n634  San Jose  California   95148    37.330   -121.770"
                    },
                    "execution_count": 61,
                    "metadata": {},
                    "output_type": "execute_result"
                }
            ],
            "source": "\ndf = city_wzipcodes[city_wzipcodes[\"City\"] == \"San Jose\"] # REDO REMOVE\ndf = df.dropna()\ndf.head(10000)\n\n\n"
        },
        {
            "cell_type": "code",
            "execution_count": 58,
            "metadata": {},
            "outputs": [
                {
                    "data": {
                        "text/html": "<div>\n<style scoped>\n    .dataframe tbody tr th:only-of-type {\n        vertical-align: middle;\n    }\n\n    .dataframe tbody tr th {\n        vertical-align: top;\n    }\n\n    .dataframe thead th {\n        text-align: right;\n    }\n</style>\n<table border=\"1\" class=\"dataframe\">\n  <thead>\n    <tr style=\"text-align: right;\">\n      <th></th>\n      <th>Zipcode</th>\n      <th>Zipcode Latitude</th>\n      <th>Zipcode Longitude</th>\n      <th>Venue</th>\n      <th>Venue Latitude</th>\n      <th>Venue Longitude</th>\n      <th>Venue Category</th>\n    </tr>\n  </thead>\n  <tbody>\n    <tr>\n      <th>0</th>\n      <td>95110</td>\n      <td>37.34</td>\n      <td>-121.91</td>\n      <td>Trader Joe's</td>\n      <td>37.340948</td>\n      <td>-121.909405</td>\n      <td>Grocery Store</td>\n    </tr>\n    <tr>\n      <th>1</th>\n      <td>95110</td>\n      <td>37.34</td>\n      <td>-121.91</td>\n      <td>PetSmart</td>\n      <td>37.339942</td>\n      <td>-121.907791</td>\n      <td>Pet Store</td>\n    </tr>\n    <tr>\n      <th>2</th>\n      <td>95110</td>\n      <td>37.34</td>\n      <td>-121.91</td>\n      <td>Blaze Pizza</td>\n      <td>37.341754</td>\n      <td>-121.911114</td>\n      <td>Pizza Place</td>\n    </tr>\n    <tr>\n      <th>3</th>\n      <td>95110</td>\n      <td>37.34</td>\n      <td>-121.91</td>\n      <td>Sultan Bakery</td>\n      <td>37.340354</td>\n      <td>-121.912812</td>\n      <td>Bakery</td>\n    </tr>\n    <tr>\n      <th>4</th>\n      <td>95110</td>\n      <td>37.34</td>\n      <td>-121.91</td>\n      <td>Tacomania (Taco Truck)</td>\n      <td>37.342056</td>\n      <td>-121.910236</td>\n      <td>Taco Place</td>\n    </tr>\n  </tbody>\n</table>\n</div>",
                        "text/plain": "  Zipcode  Zipcode Latitude  Zipcode Longitude                   Venue  \\\n0   95110             37.34            -121.91            Trader Joe's   \n1   95110             37.34            -121.91                PetSmart   \n2   95110             37.34            -121.91             Blaze Pizza   \n3   95110             37.34            -121.91           Sultan Bakery   \n4   95110             37.34            -121.91  Tacomania (Taco Truck)   \n\n   Venue Latitude  Venue Longitude Venue Category  \n0       37.340948      -121.909405  Grocery Store  \n1       37.339942      -121.907791      Pet Store  \n2       37.341754      -121.911114    Pizza Place  \n3       37.340354      -121.912812         Bakery  \n4       37.342056      -121.910236     Taco Place  "
                    },
                    "execution_count": 58,
                    "metadata": {},
                    "output_type": "execute_result"
                }
            ],
            "source": "\ndf_venues = getNearbyVenues(df[\"Zipcode\"],df[\"Latitude\"] , df[\"Longitude\"], radius=500)\n\ndf_venues.head()"
        },
        {
            "cell_type": "markdown",
            "metadata": {},
            "source": "### One hot encoding of venue information:\n"
        },
        {
            "cell_type": "code",
            "execution_count": 40,
            "metadata": {},
            "outputs": [
                {
                    "data": {
                        "text/html": "<div>\n<style scoped>\n    .dataframe tbody tr th:only-of-type {\n        vertical-align: middle;\n    }\n\n    .dataframe tbody tr th {\n        vertical-align: top;\n    }\n\n    .dataframe thead th {\n        text-align: right;\n    }\n</style>\n<table border=\"1\" class=\"dataframe\">\n  <thead>\n    <tr style=\"text-align: right;\">\n      <th></th>\n      <th>Zipcode</th>\n      <th>ATM</th>\n      <th>Alternative Healer</th>\n      <th>American Restaurant</th>\n      <th>Art Gallery</th>\n      <th>Art Museum</th>\n      <th>Art Studio</th>\n      <th>Arts &amp; Crafts Store</th>\n      <th>Asian Restaurant</th>\n      <th>Athletics &amp; Sports</th>\n      <th>...</th>\n      <th>Theater</th>\n      <th>Thrift / Vintage Store</th>\n      <th>Trail</th>\n      <th>Vegetarian / Vegan Restaurant</th>\n      <th>Video Game Store</th>\n      <th>Video Store</th>\n      <th>Vietnamese Restaurant</th>\n      <th>Weight Loss Center</th>\n      <th>Wings Joint</th>\n      <th>Yoga Studio</th>\n    </tr>\n  </thead>\n  <tbody>\n    <tr>\n      <th>0</th>\n      <td>95110</td>\n      <td>0</td>\n      <td>0</td>\n      <td>0</td>\n      <td>0</td>\n      <td>0</td>\n      <td>0</td>\n      <td>0</td>\n      <td>0</td>\n      <td>0</td>\n      <td>...</td>\n      <td>0</td>\n      <td>0</td>\n      <td>0</td>\n      <td>0</td>\n      <td>0</td>\n      <td>0</td>\n      <td>0</td>\n      <td>0</td>\n      <td>0</td>\n      <td>0</td>\n    </tr>\n    <tr>\n      <th>1</th>\n      <td>95110</td>\n      <td>0</td>\n      <td>0</td>\n      <td>0</td>\n      <td>0</td>\n      <td>0</td>\n      <td>0</td>\n      <td>0</td>\n      <td>0</td>\n      <td>0</td>\n      <td>...</td>\n      <td>0</td>\n      <td>0</td>\n      <td>0</td>\n      <td>0</td>\n      <td>0</td>\n      <td>0</td>\n      <td>0</td>\n      <td>0</td>\n      <td>0</td>\n      <td>0</td>\n    </tr>\n    <tr>\n      <th>2</th>\n      <td>95110</td>\n      <td>0</td>\n      <td>0</td>\n      <td>0</td>\n      <td>0</td>\n      <td>0</td>\n      <td>0</td>\n      <td>0</td>\n      <td>0</td>\n      <td>0</td>\n      <td>...</td>\n      <td>0</td>\n      <td>0</td>\n      <td>0</td>\n      <td>0</td>\n      <td>0</td>\n      <td>0</td>\n      <td>0</td>\n      <td>0</td>\n      <td>0</td>\n      <td>0</td>\n    </tr>\n    <tr>\n      <th>3</th>\n      <td>95110</td>\n      <td>0</td>\n      <td>0</td>\n      <td>0</td>\n      <td>0</td>\n      <td>0</td>\n      <td>0</td>\n      <td>0</td>\n      <td>0</td>\n      <td>0</td>\n      <td>...</td>\n      <td>0</td>\n      <td>0</td>\n      <td>0</td>\n      <td>0</td>\n      <td>0</td>\n      <td>0</td>\n      <td>0</td>\n      <td>0</td>\n      <td>0</td>\n      <td>0</td>\n    </tr>\n    <tr>\n      <th>4</th>\n      <td>95110</td>\n      <td>0</td>\n      <td>0</td>\n      <td>0</td>\n      <td>0</td>\n      <td>0</td>\n      <td>0</td>\n      <td>0</td>\n      <td>0</td>\n      <td>0</td>\n      <td>...</td>\n      <td>0</td>\n      <td>0</td>\n      <td>0</td>\n      <td>0</td>\n      <td>0</td>\n      <td>0</td>\n      <td>0</td>\n      <td>0</td>\n      <td>0</td>\n      <td>0</td>\n    </tr>\n  </tbody>\n</table>\n<p>5 rows \u00d7 159 columns</p>\n</div>",
                        "text/plain": "  Zipcode  ATM  Alternative Healer  American Restaurant  Art Gallery  \\\n0   95110    0                   0                    0            0   \n1   95110    0                   0                    0            0   \n2   95110    0                   0                    0            0   \n3   95110    0                   0                    0            0   \n4   95110    0                   0                    0            0   \n\n   Art Museum  Art Studio  Arts & Crafts Store  Asian Restaurant  \\\n0           0           0                    0                 0   \n1           0           0                    0                 0   \n2           0           0                    0                 0   \n3           0           0                    0                 0   \n4           0           0                    0                 0   \n\n   Athletics & Sports  ...  Theater  Thrift / Vintage Store  Trail  \\\n0                   0  ...        0                       0      0   \n1                   0  ...        0                       0      0   \n2                   0  ...        0                       0      0   \n3                   0  ...        0                       0      0   \n4                   0  ...        0                       0      0   \n\n   Vegetarian / Vegan Restaurant  Video Game Store  Video Store  \\\n0                              0                 0            0   \n1                              0                 0            0   \n2                              0                 0            0   \n3                              0                 0            0   \n4                              0                 0            0   \n\n   Vietnamese Restaurant  Weight Loss Center  Wings Joint  Yoga Studio  \n0                      0                   0            0            0  \n1                      0                   0            0            0  \n2                      0                   0            0            0  \n3                      0                   0            0            0  \n4                      0                   0            0            0  \n\n[5 rows x 159 columns]"
                    },
                    "execution_count": 40,
                    "metadata": {},
                    "output_type": "execute_result"
                }
            ],
            "source": "# one hot encoding\ndf_onehot = pd.get_dummies(df_venues[['Venue Category']], prefix=\"\", prefix_sep=\"\")\n\n# add neighborhood column back to dataframe\ndf_onehot['Zipcode'] = df_venues['Zipcode'] \n\n# move neighborhood column to the first column\nfixed_columns = [df_onehot.columns[-1]] + list(df_onehot.columns[:-1])\ndf_onehot = df_onehot[fixed_columns]\n\ndf_onehot.head()\n"
        },
        {
            "cell_type": "markdown",
            "metadata": {},
            "source": "### group rows by neighborhood and by taking the mean of the frequency of occurrence of each category\n"
        },
        {
            "cell_type": "code",
            "execution_count": 42,
            "metadata": {},
            "outputs": [
                {
                    "data": {
                        "text/html": "<div>\n<style scoped>\n    .dataframe tbody tr th:only-of-type {\n        vertical-align: middle;\n    }\n\n    .dataframe tbody tr th {\n        vertical-align: top;\n    }\n\n    .dataframe thead th {\n        text-align: right;\n    }\n</style>\n<table border=\"1\" class=\"dataframe\">\n  <thead>\n    <tr style=\"text-align: right;\">\n      <th></th>\n      <th>Zipcode</th>\n      <th>ATM</th>\n      <th>Alternative Healer</th>\n      <th>American Restaurant</th>\n      <th>Art Gallery</th>\n      <th>Art Museum</th>\n      <th>Art Studio</th>\n      <th>Arts &amp; Crafts Store</th>\n      <th>Asian Restaurant</th>\n      <th>Athletics &amp; Sports</th>\n      <th>...</th>\n      <th>Theater</th>\n      <th>Thrift / Vintage Store</th>\n      <th>Trail</th>\n      <th>Vegetarian / Vegan Restaurant</th>\n      <th>Video Game Store</th>\n      <th>Video Store</th>\n      <th>Vietnamese Restaurant</th>\n      <th>Weight Loss Center</th>\n      <th>Wings Joint</th>\n      <th>Yoga Studio</th>\n    </tr>\n  </thead>\n  <tbody>\n    <tr>\n      <th>0</th>\n      <td>95110</td>\n      <td>0.0</td>\n      <td>0.0</td>\n      <td>0.00000</td>\n      <td>0.00</td>\n      <td>0.00</td>\n      <td>0.0</td>\n      <td>0.022727</td>\n      <td>0.00000</td>\n      <td>0.0</td>\n      <td>...</td>\n      <td>0.00</td>\n      <td>0.022727</td>\n      <td>0.0</td>\n      <td>0.000000</td>\n      <td>0.022727</td>\n      <td>0.00</td>\n      <td>0.000000</td>\n      <td>0.0</td>\n      <td>0.00</td>\n      <td>0.00</td>\n    </tr>\n    <tr>\n      <th>1</th>\n      <td>95111</td>\n      <td>0.0</td>\n      <td>0.0</td>\n      <td>0.00000</td>\n      <td>0.00</td>\n      <td>0.00</td>\n      <td>0.0</td>\n      <td>0.000000</td>\n      <td>0.00000</td>\n      <td>0.0</td>\n      <td>...</td>\n      <td>0.00</td>\n      <td>0.000000</td>\n      <td>0.0</td>\n      <td>0.000000</td>\n      <td>0.000000</td>\n      <td>0.05</td>\n      <td>0.050000</td>\n      <td>0.0</td>\n      <td>0.00</td>\n      <td>0.00</td>\n    </tr>\n    <tr>\n      <th>2</th>\n      <td>95112</td>\n      <td>0.0</td>\n      <td>0.0</td>\n      <td>0.02381</td>\n      <td>0.00</td>\n      <td>0.00</td>\n      <td>0.0</td>\n      <td>0.000000</td>\n      <td>0.02381</td>\n      <td>0.0</td>\n      <td>...</td>\n      <td>0.00</td>\n      <td>0.000000</td>\n      <td>0.0</td>\n      <td>0.071429</td>\n      <td>0.000000</td>\n      <td>0.00</td>\n      <td>0.119048</td>\n      <td>0.0</td>\n      <td>0.00</td>\n      <td>0.00</td>\n    </tr>\n    <tr>\n      <th>3</th>\n      <td>95113</td>\n      <td>0.0</td>\n      <td>0.0</td>\n      <td>0.01000</td>\n      <td>0.01</td>\n      <td>0.01</td>\n      <td>0.0</td>\n      <td>0.000000</td>\n      <td>0.02000</td>\n      <td>0.0</td>\n      <td>...</td>\n      <td>0.03</td>\n      <td>0.000000</td>\n      <td>0.0</td>\n      <td>0.010000</td>\n      <td>0.000000</td>\n      <td>0.00</td>\n      <td>0.000000</td>\n      <td>0.0</td>\n      <td>0.01</td>\n      <td>0.01</td>\n    </tr>\n    <tr>\n      <th>4</th>\n      <td>95116</td>\n      <td>0.0</td>\n      <td>0.0</td>\n      <td>0.00000</td>\n      <td>0.00</td>\n      <td>0.00</td>\n      <td>0.0</td>\n      <td>0.000000</td>\n      <td>0.00000</td>\n      <td>0.0</td>\n      <td>...</td>\n      <td>0.00</td>\n      <td>0.000000</td>\n      <td>0.0</td>\n      <td>0.000000</td>\n      <td>0.000000</td>\n      <td>0.00</td>\n      <td>0.200000</td>\n      <td>0.0</td>\n      <td>0.00</td>\n      <td>0.00</td>\n    </tr>\n  </tbody>\n</table>\n<p>5 rows \u00d7 159 columns</p>\n</div>",
                        "text/plain": "  Zipcode  ATM  Alternative Healer  American Restaurant  Art Gallery  \\\n0   95110  0.0                 0.0              0.00000         0.00   \n1   95111  0.0                 0.0              0.00000         0.00   \n2   95112  0.0                 0.0              0.02381         0.00   \n3   95113  0.0                 0.0              0.01000         0.01   \n4   95116  0.0                 0.0              0.00000         0.00   \n\n   Art Museum  Art Studio  Arts & Crafts Store  Asian Restaurant  \\\n0        0.00         0.0             0.022727           0.00000   \n1        0.00         0.0             0.000000           0.00000   \n2        0.00         0.0             0.000000           0.02381   \n3        0.01         0.0             0.000000           0.02000   \n4        0.00         0.0             0.000000           0.00000   \n\n   Athletics & Sports  ...  Theater  Thrift / Vintage Store  Trail  \\\n0                 0.0  ...     0.00                0.022727    0.0   \n1                 0.0  ...     0.00                0.000000    0.0   \n2                 0.0  ...     0.00                0.000000    0.0   \n3                 0.0  ...     0.03                0.000000    0.0   \n4                 0.0  ...     0.00                0.000000    0.0   \n\n   Vegetarian / Vegan Restaurant  Video Game Store  Video Store  \\\n0                       0.000000          0.022727         0.00   \n1                       0.000000          0.000000         0.05   \n2                       0.071429          0.000000         0.00   \n3                       0.010000          0.000000         0.00   \n4                       0.000000          0.000000         0.00   \n\n   Vietnamese Restaurant  Weight Loss Center  Wings Joint  Yoga Studio  \n0               0.000000                 0.0         0.00         0.00  \n1               0.050000                 0.0         0.00         0.00  \n2               0.119048                 0.0         0.00         0.00  \n3               0.000000                 0.0         0.01         0.01  \n4               0.200000                 0.0         0.00         0.00  \n\n[5 rows x 159 columns]"
                    },
                    "execution_count": 42,
                    "metadata": {},
                    "output_type": "execute_result"
                }
            ],
            "source": "df_grouped = df_onehot.groupby('Zipcode').mean().reset_index()\ndf_grouped.head()\n"
        },
        {
            "cell_type": "code",
            "execution_count": 43,
            "metadata": {},
            "outputs": [],
            "source": "def return_most_common_venues(row, num_top_venues):\n    row_categories = row.iloc[1:]\n    row_categories_sorted = row_categories.sort_values(ascending=False)\n    \n    return row_categories_sorted.index.values[0:num_top_venues]"
        },
        {
            "cell_type": "markdown",
            "metadata": {},
            "source": "### top 10 venues for each neighborhood.\n"
        },
        {
            "cell_type": "code",
            "execution_count": 49,
            "metadata": {},
            "outputs": [
                {
                    "data": {
                        "text/html": "<div>\n<style scoped>\n    .dataframe tbody tr th:only-of-type {\n        vertical-align: middle;\n    }\n\n    .dataframe tbody tr th {\n        vertical-align: top;\n    }\n\n    .dataframe thead th {\n        text-align: right;\n    }\n</style>\n<table border=\"1\" class=\"dataframe\">\n  <thead>\n    <tr style=\"text-align: right;\">\n      <th></th>\n      <th>Zipcode</th>\n      <th>1st Most Common Venue</th>\n      <th>2nd Most Common Venue</th>\n      <th>3rd Most Common Venue</th>\n      <th>4th Most Common Venue</th>\n      <th>5th Most Common Venue</th>\n      <th>6th Most Common Venue</th>\n      <th>7th Most Common Venue</th>\n      <th>8th Most Common Venue</th>\n      <th>9th Most Common Venue</th>\n      <th>10th Most Common Venue</th>\n    </tr>\n  </thead>\n  <tbody>\n    <tr>\n      <th>0</th>\n      <td>95110</td>\n      <td>Fast Food Restaurant</td>\n      <td>Pizza Place</td>\n      <td>Bank</td>\n      <td>Garden</td>\n      <td>Coffee Shop</td>\n      <td>Chinese Restaurant</td>\n      <td>Convenience Store</td>\n      <td>Rock Club</td>\n      <td>Bubble Tea Shop</td>\n      <td>Burger Joint</td>\n    </tr>\n    <tr>\n      <th>1</th>\n      <td>95111</td>\n      <td>Convenience Store</td>\n      <td>Mexican Restaurant</td>\n      <td>Caf\u00e9</td>\n      <td>Bus Station</td>\n      <td>Fried Chicken Joint</td>\n      <td>Speakeasy</td>\n      <td>Seafood Restaurant</td>\n      <td>Food</td>\n      <td>Automotive Shop</td>\n      <td>Hotel</td>\n    </tr>\n    <tr>\n      <th>2</th>\n      <td>95112</td>\n      <td>Vietnamese Restaurant</td>\n      <td>Sandwich Place</td>\n      <td>Vegetarian / Vegan Restaurant</td>\n      <td>Caf\u00e9</td>\n      <td>Grocery Store</td>\n      <td>Convenience Store</td>\n      <td>Coffee Shop</td>\n      <td>Pizza Place</td>\n      <td>Indian Restaurant</td>\n      <td>South Indian Restaurant</td>\n    </tr>\n    <tr>\n      <th>3</th>\n      <td>95113</td>\n      <td>Mexican Restaurant</td>\n      <td>Cocktail Bar</td>\n      <td>Restaurant</td>\n      <td>Hotel</td>\n      <td>Caf\u00e9</td>\n      <td>Theater</td>\n      <td>Sandwich Place</td>\n      <td>Coffee Shop</td>\n      <td>Ice Cream Shop</td>\n      <td>Pub</td>\n    </tr>\n    <tr>\n      <th>4</th>\n      <td>95116</td>\n      <td>Mexican Restaurant</td>\n      <td>Vietnamese Restaurant</td>\n      <td>Fried Chicken Joint</td>\n      <td>Golf Course</td>\n      <td>Yoga Studio</td>\n      <td>Discount Store</td>\n      <td>Fast Food Restaurant</td>\n      <td>Eye Doctor</td>\n      <td>Ethiopian Restaurant</td>\n      <td>Donut Shop</td>\n    </tr>\n  </tbody>\n</table>\n</div>",
                        "text/plain": "  Zipcode  1st Most Common Venue  2nd Most Common Venue  \\\n0   95110   Fast Food Restaurant            Pizza Place   \n1   95111      Convenience Store     Mexican Restaurant   \n2   95112  Vietnamese Restaurant         Sandwich Place   \n3   95113     Mexican Restaurant           Cocktail Bar   \n4   95116     Mexican Restaurant  Vietnamese Restaurant   \n\n           3rd Most Common Venue 4th Most Common Venue 5th Most Common Venue  \\\n0                           Bank                Garden           Coffee Shop   \n1                           Caf\u00e9           Bus Station   Fried Chicken Joint   \n2  Vegetarian / Vegan Restaurant                  Caf\u00e9         Grocery Store   \n3                     Restaurant                 Hotel                  Caf\u00e9   \n4            Fried Chicken Joint           Golf Course           Yoga Studio   \n\n  6th Most Common Venue 7th Most Common Venue 8th Most Common Venue  \\\n0    Chinese Restaurant     Convenience Store             Rock Club   \n1             Speakeasy    Seafood Restaurant                  Food   \n2     Convenience Store           Coffee Shop           Pizza Place   \n3               Theater        Sandwich Place           Coffee Shop   \n4        Discount Store  Fast Food Restaurant            Eye Doctor   \n\n  9th Most Common Venue   10th Most Common Venue  \n0       Bubble Tea Shop             Burger Joint  \n1       Automotive Shop                    Hotel  \n2     Indian Restaurant  South Indian Restaurant  \n3        Ice Cream Shop                      Pub  \n4  Ethiopian Restaurant               Donut Shop  "
                    },
                    "execution_count": 49,
                    "metadata": {},
                    "output_type": "execute_result"
                }
            ],
            "source": "num_top_venues = 10\n\nindicators = ['st', 'nd', 'rd']\n\n# create columns according to number of top venues\ncolumns = ['Zipcode']\nfor ind in np.arange(num_top_venues):\n    try:\n        columns.append('{}{} Most Common Venue'.format(ind+1, indicators[ind]))\n    except:\n        columns.append('{}th Most Common Venue'.format(ind+1))\n\n# create a new dataframe\nzipcodes_venues_sorted = pd.DataFrame(columns=columns)\nzipcodes_venues_sorted['Zipcode'] = df_grouped['Zipcode']\n\nfor ind in np.arange(df_grouped.shape[0]):\n    zipcodes_venues_sorted.iloc[ind, 1:] = return_most_common_venues(df_grouped.iloc[ind, :], num_top_venues)\n\nzipcodes_venues_sorted.head()\n"
        },
        {
            "cell_type": "markdown",
            "metadata": {},
            "source": "### cluster neighborhoods\n"
        },
        {
            "cell_type": "code",
            "execution_count": 55,
            "metadata": {},
            "outputs": [
                {
                    "data": {
                        "text/plain": "array([0, 0, 0, 0, 0, 0, 0, 2, 1, 3], dtype=int32)"
                    },
                    "execution_count": 55,
                    "metadata": {},
                    "output_type": "execute_result"
                }
            ],
            "source": "# set number of clusters\nkclusters = 5\n\ndf_grouped_clustering = df_grouped.drop('Zipcode', 1)\n#print (toronto_grouped_clustering.head())\n# run k-means clustering\nkmeans = KMeans(n_clusters=kclusters, random_state=0).fit(df_grouped_clustering)\n\n# check cluster labels generated for each row in the dataframe\nkmeans.labels_[0:10] "
        },
        {
            "cell_type": "markdown",
            "metadata": {},
            "source": "### create a new dataframe that includes the cluster as well as the top 10 venues for each neighborhood.\n"
        },
        {
            "cell_type": "code",
            "execution_count": 56,
            "metadata": {},
            "outputs": [
                {
                    "data": {
                        "text/html": "<div>\n<style scoped>\n    .dataframe tbody tr th:only-of-type {\n        vertical-align: middle;\n    }\n\n    .dataframe tbody tr th {\n        vertical-align: top;\n    }\n\n    .dataframe thead th {\n        text-align: right;\n    }\n</style>\n<table border=\"1\" class=\"dataframe\">\n  <thead>\n    <tr style=\"text-align: right;\">\n      <th></th>\n      <th>City</th>\n      <th>State</th>\n      <th>Zipcode</th>\n      <th>Latitude</th>\n      <th>Longitude</th>\n      <th>Cluster Labels</th>\n      <th>1st Most Common Venue</th>\n      <th>2nd Most Common Venue</th>\n      <th>3rd Most Common Venue</th>\n      <th>4th Most Common Venue</th>\n      <th>5th Most Common Venue</th>\n      <th>6th Most Common Venue</th>\n      <th>7th Most Common Venue</th>\n      <th>8th Most Common Venue</th>\n      <th>9th Most Common Venue</th>\n      <th>10th Most Common Venue</th>\n    </tr>\n  </thead>\n  <tbody>\n    <tr>\n      <th>603</th>\n      <td>San Jose</td>\n      <td>California</td>\n      <td>62682</td>\n      <td>40.280</td>\n      <td>-89.630</td>\n      <td>NaN</td>\n      <td>NaN</td>\n      <td>NaN</td>\n      <td>NaN</td>\n      <td>NaN</td>\n      <td>NaN</td>\n      <td>NaN</td>\n      <td>NaN</td>\n      <td>NaN</td>\n      <td>NaN</td>\n      <td>NaN</td>\n    </tr>\n    <tr>\n      <th>604</th>\n      <td>San Jose</td>\n      <td>California</td>\n      <td>87565</td>\n      <td>35.500</td>\n      <td>-105.400</td>\n      <td>NaN</td>\n      <td>NaN</td>\n      <td>NaN</td>\n      <td>NaN</td>\n      <td>NaN</td>\n      <td>NaN</td>\n      <td>NaN</td>\n      <td>NaN</td>\n      <td>NaN</td>\n      <td>NaN</td>\n      <td>NaN</td>\n    </tr>\n    <tr>\n      <th>606</th>\n      <td>San Jose</td>\n      <td>California</td>\n      <td>95110</td>\n      <td>37.340</td>\n      <td>-121.910</td>\n      <td>0.0</td>\n      <td>Fast Food Restaurant</td>\n      <td>Pizza Place</td>\n      <td>Bank</td>\n      <td>Garden</td>\n      <td>Coffee Shop</td>\n      <td>Chinese Restaurant</td>\n      <td>Convenience Store</td>\n      <td>Rock Club</td>\n      <td>Bubble Tea Shop</td>\n      <td>Burger Joint</td>\n    </tr>\n    <tr>\n      <th>607</th>\n      <td>San Jose</td>\n      <td>California</td>\n      <td>95111</td>\n      <td>37.280</td>\n      <td>-121.830</td>\n      <td>0.0</td>\n      <td>Convenience Store</td>\n      <td>Mexican Restaurant</td>\n      <td>Caf\u00e9</td>\n      <td>Bus Station</td>\n      <td>Fried Chicken Joint</td>\n      <td>Speakeasy</td>\n      <td>Seafood Restaurant</td>\n      <td>Food</td>\n      <td>Automotive Shop</td>\n      <td>Hotel</td>\n    </tr>\n    <tr>\n      <th>608</th>\n      <td>San Jose</td>\n      <td>California</td>\n      <td>95112</td>\n      <td>37.340</td>\n      <td>-121.880</td>\n      <td>0.0</td>\n      <td>Vietnamese Restaurant</td>\n      <td>Sandwich Place</td>\n      <td>Vegetarian / Vegan Restaurant</td>\n      <td>Caf\u00e9</td>\n      <td>Grocery Store</td>\n      <td>Convenience Store</td>\n      <td>Coffee Shop</td>\n      <td>Pizza Place</td>\n      <td>Indian Restaurant</td>\n      <td>South Indian Restaurant</td>\n    </tr>\n    <tr>\n      <th>609</th>\n      <td>San Jose</td>\n      <td>California</td>\n      <td>95113</td>\n      <td>37.334</td>\n      <td>-121.891</td>\n      <td>0.0</td>\n      <td>Mexican Restaurant</td>\n      <td>Cocktail Bar</td>\n      <td>Restaurant</td>\n      <td>Hotel</td>\n      <td>Caf\u00e9</td>\n      <td>Theater</td>\n      <td>Sandwich Place</td>\n      <td>Coffee Shop</td>\n      <td>Ice Cream Shop</td>\n      <td>Pub</td>\n    </tr>\n    <tr>\n      <th>610</th>\n      <td>San Jose</td>\n      <td>California</td>\n      <td>95116</td>\n      <td>37.350</td>\n      <td>-121.850</td>\n      <td>0.0</td>\n      <td>Mexican Restaurant</td>\n      <td>Vietnamese Restaurant</td>\n      <td>Fried Chicken Joint</td>\n      <td>Golf Course</td>\n      <td>Yoga Studio</td>\n      <td>Discount Store</td>\n      <td>Fast Food Restaurant</td>\n      <td>Eye Doctor</td>\n      <td>Ethiopian Restaurant</td>\n      <td>Donut Shop</td>\n    </tr>\n    <tr>\n      <th>611</th>\n      <td>San Jose</td>\n      <td>California</td>\n      <td>95117</td>\n      <td>37.310</td>\n      <td>-121.970</td>\n      <td>0.0</td>\n      <td>Convenience Store</td>\n      <td>American Restaurant</td>\n      <td>Liquor Store</td>\n      <td>Discount Store</td>\n      <td>Fish &amp; Chips Shop</td>\n      <td>Financial or Legal Service</td>\n      <td>Fast Food Restaurant</td>\n      <td>Eye Doctor</td>\n      <td>Ethiopian Restaurant</td>\n      <td>Donut Shop</td>\n    </tr>\n    <tr>\n      <th>612</th>\n      <td>San Jose</td>\n      <td>California</td>\n      <td>95118</td>\n      <td>37.260</td>\n      <td>-121.890</td>\n      <td>0.0</td>\n      <td>Pizza Place</td>\n      <td>Convenience Store</td>\n      <td>Video Store</td>\n      <td>Liquor Store</td>\n      <td>Indian Restaurant</td>\n      <td>Yoga Studio</td>\n      <td>Discount Store</td>\n      <td>Fast Food Restaurant</td>\n      <td>Eye Doctor</td>\n      <td>Ethiopian Restaurant</td>\n    </tr>\n    <tr>\n      <th>613</th>\n      <td>San Jose</td>\n      <td>California</td>\n      <td>95119</td>\n      <td>37.230</td>\n      <td>-121.790</td>\n      <td>2.0</td>\n      <td>Grocery Store</td>\n      <td>Yoga Studio</td>\n      <td>Discount Store</td>\n      <td>Fish &amp; Chips Shop</td>\n      <td>Financial or Legal Service</td>\n      <td>Fast Food Restaurant</td>\n      <td>Eye Doctor</td>\n      <td>Ethiopian Restaurant</td>\n      <td>Donut Shop</td>\n      <td>Dive Bar</td>\n    </tr>\n    <tr>\n      <th>614</th>\n      <td>San Jose</td>\n      <td>California</td>\n      <td>95120</td>\n      <td>37.170</td>\n      <td>-121.840</td>\n      <td>1.0</td>\n      <td>Trail</td>\n      <td>Yoga Studio</td>\n      <td>Diner</td>\n      <td>Financial or Legal Service</td>\n      <td>Fast Food Restaurant</td>\n      <td>Eye Doctor</td>\n      <td>Ethiopian Restaurant</td>\n      <td>Donut Shop</td>\n      <td>Dive Bar</td>\n      <td>Discount Store</td>\n    </tr>\n    <tr>\n      <th>615</th>\n      <td>San Jose</td>\n      <td>California</td>\n      <td>95121</td>\n      <td>37.300</td>\n      <td>-121.810</td>\n      <td>3.0</td>\n      <td>Playground</td>\n      <td>Intersection</td>\n      <td>Yoga Studio</td>\n      <td>Diner</td>\n      <td>Financial or Legal Service</td>\n      <td>Fast Food Restaurant</td>\n      <td>Eye Doctor</td>\n      <td>Ethiopian Restaurant</td>\n      <td>Donut Shop</td>\n      <td>Dive Bar</td>\n    </tr>\n    <tr>\n      <th>616</th>\n      <td>San Jose</td>\n      <td>California</td>\n      <td>95122</td>\n      <td>37.330</td>\n      <td>-121.840</td>\n      <td>0.0</td>\n      <td>Mexican Restaurant</td>\n      <td>Pool</td>\n      <td>Tea Room</td>\n      <td>Yoga Studio</td>\n      <td>Diner</td>\n      <td>Fast Food Restaurant</td>\n      <td>Eye Doctor</td>\n      <td>Ethiopian Restaurant</td>\n      <td>Donut Shop</td>\n      <td>Dive Bar</td>\n    </tr>\n    <tr>\n      <th>617</th>\n      <td>San Jose</td>\n      <td>California</td>\n      <td>95123</td>\n      <td>37.240</td>\n      <td>-121.840</td>\n      <td>3.0</td>\n      <td>Playground</td>\n      <td>Multiplex</td>\n      <td>Yoga Studio</td>\n      <td>Discount Store</td>\n      <td>Financial or Legal Service</td>\n      <td>Fast Food Restaurant</td>\n      <td>Eye Doctor</td>\n      <td>Ethiopian Restaurant</td>\n      <td>Donut Shop</td>\n      <td>Dive Bar</td>\n    </tr>\n    <tr>\n      <th>618</th>\n      <td>San Jose</td>\n      <td>California</td>\n      <td>95124</td>\n      <td>37.260</td>\n      <td>-121.930</td>\n      <td>0.0</td>\n      <td>Spa</td>\n      <td>Cosmetics Shop</td>\n      <td>Mexican Restaurant</td>\n      <td>Coffee Shop</td>\n      <td>Bank</td>\n      <td>Pizza Place</td>\n      <td>Juice Bar</td>\n      <td>Shopping Plaza</td>\n      <td>Board Shop</td>\n      <td>Shipping Store</td>\n    </tr>\n    <tr>\n      <th>619</th>\n      <td>San Jose</td>\n      <td>California</td>\n      <td>95125</td>\n      <td>37.310</td>\n      <td>-121.900</td>\n      <td>0.0</td>\n      <td>Mexican Restaurant</td>\n      <td>Pizza Place</td>\n      <td>Spa</td>\n      <td>Cosmetics Shop</td>\n      <td>Juice Bar</td>\n      <td>Sushi Restaurant</td>\n      <td>Plaza</td>\n      <td>Sporting Goods Shop</td>\n      <td>New American Restaurant</td>\n      <td>Bakery</td>\n    </tr>\n    <tr>\n      <th>620</th>\n      <td>San Jose</td>\n      <td>California</td>\n      <td>95126</td>\n      <td>37.320</td>\n      <td>-121.910</td>\n      <td>0.0</td>\n      <td>Grocery Store</td>\n      <td>Gym</td>\n      <td>Food Truck</td>\n      <td>Park</td>\n      <td>Pharmacy</td>\n      <td>Coffee Shop</td>\n      <td>Clothing Store</td>\n      <td>Men's Store</td>\n      <td>Ethiopian Restaurant</td>\n      <td>Eye Doctor</td>\n    </tr>\n    <tr>\n      <th>621</th>\n      <td>San Jose</td>\n      <td>California</td>\n      <td>95127</td>\n      <td>37.390</td>\n      <td>-121.780</td>\n      <td>NaN</td>\n      <td>NaN</td>\n      <td>NaN</td>\n      <td>NaN</td>\n      <td>NaN</td>\n      <td>NaN</td>\n      <td>NaN</td>\n      <td>NaN</td>\n      <td>NaN</td>\n      <td>NaN</td>\n      <td>NaN</td>\n    </tr>\n    <tr>\n      <th>622</th>\n      <td>San Jose</td>\n      <td>California</td>\n      <td>95128</td>\n      <td>37.320</td>\n      <td>-121.930</td>\n      <td>0.0</td>\n      <td>Discount Store</td>\n      <td>Nail Salon</td>\n      <td>Karaoke Bar</td>\n      <td>Dive Bar</td>\n      <td>Mexican Restaurant</td>\n      <td>Automotive Shop</td>\n      <td>Ethiopian Restaurant</td>\n      <td>Bookstore</td>\n      <td>Thrift / Vintage Store</td>\n      <td>Middle Eastern Restaurant</td>\n    </tr>\n    <tr>\n      <th>623</th>\n      <td>San Jose</td>\n      <td>California</td>\n      <td>95129</td>\n      <td>37.310</td>\n      <td>-122.000</td>\n      <td>0.0</td>\n      <td>Pharmacy</td>\n      <td>Bakery</td>\n      <td>Pool</td>\n      <td>Deli / Bodega</td>\n      <td>Nail Salon</td>\n      <td>Korean Restaurant</td>\n      <td>Pet Store</td>\n      <td>Gay Bar</td>\n      <td>Grocery Store</td>\n      <td>Dive Bar</td>\n    </tr>\n  </tbody>\n</table>\n</div>",
                        "text/plain": "         City       State Zipcode  Latitude  Longitude  Cluster Labels  \\\n603  San Jose  California   62682    40.280    -89.630             NaN   \n604  San Jose  California   87565    35.500   -105.400             NaN   \n606  San Jose  California   95110    37.340   -121.910             0.0   \n607  San Jose  California   95111    37.280   -121.830             0.0   \n608  San Jose  California   95112    37.340   -121.880             0.0   \n609  San Jose  California   95113    37.334   -121.891             0.0   \n610  San Jose  California   95116    37.350   -121.850             0.0   \n611  San Jose  California   95117    37.310   -121.970             0.0   \n612  San Jose  California   95118    37.260   -121.890             0.0   \n613  San Jose  California   95119    37.230   -121.790             2.0   \n614  San Jose  California   95120    37.170   -121.840             1.0   \n615  San Jose  California   95121    37.300   -121.810             3.0   \n616  San Jose  California   95122    37.330   -121.840             0.0   \n617  San Jose  California   95123    37.240   -121.840             3.0   \n618  San Jose  California   95124    37.260   -121.930             0.0   \n619  San Jose  California   95125    37.310   -121.900             0.0   \n620  San Jose  California   95126    37.320   -121.910             0.0   \n621  San Jose  California   95127    37.390   -121.780             NaN   \n622  San Jose  California   95128    37.320   -121.930             0.0   \n623  San Jose  California   95129    37.310   -122.000             0.0   \n\n     1st Most Common Venue  2nd Most Common Venue  \\\n603                    NaN                    NaN   \n604                    NaN                    NaN   \n606   Fast Food Restaurant            Pizza Place   \n607      Convenience Store     Mexican Restaurant   \n608  Vietnamese Restaurant         Sandwich Place   \n609     Mexican Restaurant           Cocktail Bar   \n610     Mexican Restaurant  Vietnamese Restaurant   \n611      Convenience Store    American Restaurant   \n612            Pizza Place      Convenience Store   \n613          Grocery Store            Yoga Studio   \n614                  Trail            Yoga Studio   \n615             Playground           Intersection   \n616     Mexican Restaurant                   Pool   \n617             Playground              Multiplex   \n618                    Spa         Cosmetics Shop   \n619     Mexican Restaurant            Pizza Place   \n620          Grocery Store                    Gym   \n621                    NaN                    NaN   \n622         Discount Store             Nail Salon   \n623               Pharmacy                 Bakery   \n\n             3rd Most Common Venue       4th Most Common Venue  \\\n603                            NaN                         NaN   \n604                            NaN                         NaN   \n606                           Bank                      Garden   \n607                           Caf\u00e9                 Bus Station   \n608  Vegetarian / Vegan Restaurant                        Caf\u00e9   \n609                     Restaurant                       Hotel   \n610            Fried Chicken Joint                 Golf Course   \n611                   Liquor Store              Discount Store   \n612                    Video Store                Liquor Store   \n613                 Discount Store           Fish & Chips Shop   \n614                          Diner  Financial or Legal Service   \n615                    Yoga Studio                       Diner   \n616                       Tea Room                 Yoga Studio   \n617                    Yoga Studio              Discount Store   \n618             Mexican Restaurant                 Coffee Shop   \n619                            Spa              Cosmetics Shop   \n620                     Food Truck                        Park   \n621                            NaN                         NaN   \n622                    Karaoke Bar                    Dive Bar   \n623                           Pool               Deli / Bodega   \n\n          5th Most Common Venue       6th Most Common Venue  \\\n603                         NaN                         NaN   \n604                         NaN                         NaN   \n606                 Coffee Shop          Chinese Restaurant   \n607         Fried Chicken Joint                   Speakeasy   \n608               Grocery Store           Convenience Store   \n609                        Caf\u00e9                     Theater   \n610                 Yoga Studio              Discount Store   \n611           Fish & Chips Shop  Financial or Legal Service   \n612           Indian Restaurant                 Yoga Studio   \n613  Financial or Legal Service        Fast Food Restaurant   \n614        Fast Food Restaurant                  Eye Doctor   \n615  Financial or Legal Service        Fast Food Restaurant   \n616                       Diner        Fast Food Restaurant   \n617  Financial or Legal Service        Fast Food Restaurant   \n618                        Bank                 Pizza Place   \n619                   Juice Bar            Sushi Restaurant   \n620                    Pharmacy                 Coffee Shop   \n621                         NaN                         NaN   \n622          Mexican Restaurant             Automotive Shop   \n623                  Nail Salon           Korean Restaurant   \n\n    7th Most Common Venue 8th Most Common Venue    9th Most Common Venue  \\\n603                   NaN                   NaN                      NaN   \n604                   NaN                   NaN                      NaN   \n606     Convenience Store             Rock Club          Bubble Tea Shop   \n607    Seafood Restaurant                  Food          Automotive Shop   \n608           Coffee Shop           Pizza Place        Indian Restaurant   \n609        Sandwich Place           Coffee Shop           Ice Cream Shop   \n610  Fast Food Restaurant            Eye Doctor     Ethiopian Restaurant   \n611  Fast Food Restaurant            Eye Doctor     Ethiopian Restaurant   \n612        Discount Store  Fast Food Restaurant               Eye Doctor   \n613            Eye Doctor  Ethiopian Restaurant               Donut Shop   \n614  Ethiopian Restaurant            Donut Shop                 Dive Bar   \n615            Eye Doctor  Ethiopian Restaurant               Donut Shop   \n616            Eye Doctor  Ethiopian Restaurant               Donut Shop   \n617            Eye Doctor  Ethiopian Restaurant               Donut Shop   \n618             Juice Bar        Shopping Plaza               Board Shop   \n619                 Plaza   Sporting Goods Shop  New American Restaurant   \n620        Clothing Store           Men's Store     Ethiopian Restaurant   \n621                   NaN                   NaN                      NaN   \n622  Ethiopian Restaurant             Bookstore   Thrift / Vintage Store   \n623             Pet Store               Gay Bar            Grocery Store   \n\n        10th Most Common Venue  \n603                        NaN  \n604                        NaN  \n606               Burger Joint  \n607                      Hotel  \n608    South Indian Restaurant  \n609                        Pub  \n610                 Donut Shop  \n611                 Donut Shop  \n612       Ethiopian Restaurant  \n613                   Dive Bar  \n614             Discount Store  \n615                   Dive Bar  \n616                   Dive Bar  \n617                   Dive Bar  \n618             Shipping Store  \n619                     Bakery  \n620                 Eye Doctor  \n621                        NaN  \n622  Middle Eastern Restaurant  \n623                   Dive Bar  "
                    },
                    "execution_count": 56,
                    "metadata": {},
                    "output_type": "execute_result"
                }
            ],
            "source": "# add clustering labels\nzipcodes_venues_sorted.insert(0, 'Cluster Labels', kmeans.labels_)\n\ndf_merged = df\n\n# merge toronto_grouped with toronto_data to add latitude/longitude for each neighborhood\ndf_merged = df_merged.join(zipcodes_venues_sorted.set_index('Zipcode'), on='Zipcode')\n\ndf_merged.head(20) # check the last columns!"
        },
        {
            "cell_type": "markdown",
            "metadata": {},
            "source": "### display cluster information of zip codes on map\n"
        },
        {
            "cell_type": "code",
            "execution_count": 66,
            "metadata": {},
            "outputs": [
                {
                    "ename": "KeyError",
                    "evalue": "'Neighborhood'",
                    "output_type": "error",
                    "traceback": [
                        "\u001b[0;31m---------------------------------------------------------------------------\u001b[0m",
                        "\u001b[0;31mKeyError\u001b[0m                                  Traceback (most recent call last)",
                        "\u001b[0;32m/opt/conda/envs/Python-3.7-main/lib/python3.7/site-packages/pandas/core/indexes/base.py\u001b[0m in \u001b[0;36mget_loc\u001b[0;34m(self, key, method, tolerance)\u001b[0m\n\u001b[1;32m   2645\u001b[0m             \u001b[0;32mtry\u001b[0m\u001b[0;34m:\u001b[0m\u001b[0;34m\u001b[0m\u001b[0;34m\u001b[0m\u001b[0m\n\u001b[0;32m-> 2646\u001b[0;31m                 \u001b[0;32mreturn\u001b[0m \u001b[0mself\u001b[0m\u001b[0;34m.\u001b[0m\u001b[0m_engine\u001b[0m\u001b[0;34m.\u001b[0m\u001b[0mget_loc\u001b[0m\u001b[0;34m(\u001b[0m\u001b[0mkey\u001b[0m\u001b[0;34m)\u001b[0m\u001b[0;34m\u001b[0m\u001b[0;34m\u001b[0m\u001b[0m\n\u001b[0m\u001b[1;32m   2647\u001b[0m             \u001b[0;32mexcept\u001b[0m \u001b[0mKeyError\u001b[0m\u001b[0;34m:\u001b[0m\u001b[0;34m\u001b[0m\u001b[0;34m\u001b[0m\u001b[0m\n",
                        "\u001b[0;32mpandas/_libs/index.pyx\u001b[0m in \u001b[0;36mpandas._libs.index.IndexEngine.get_loc\u001b[0;34m()\u001b[0m\n",
                        "\u001b[0;32mpandas/_libs/index.pyx\u001b[0m in \u001b[0;36mpandas._libs.index.IndexEngine.get_loc\u001b[0;34m()\u001b[0m\n",
                        "\u001b[0;32mpandas/_libs/hashtable_class_helper.pxi\u001b[0m in \u001b[0;36mpandas._libs.hashtable.PyObjectHashTable.get_item\u001b[0;34m()\u001b[0m\n",
                        "\u001b[0;32mpandas/_libs/hashtable_class_helper.pxi\u001b[0m in \u001b[0;36mpandas._libs.hashtable.PyObjectHashTable.get_item\u001b[0;34m()\u001b[0m\n",
                        "\u001b[0;31mKeyError\u001b[0m: 'Neighborhood'",
                        "\nDuring handling of the above exception, another exception occurred:\n",
                        "\u001b[0;31mKeyError\u001b[0m                                  Traceback (most recent call last)",
                        "\u001b[0;32m<ipython-input-66-708502c26b10>\u001b[0m in \u001b[0;36m<module>\u001b[0;34m\u001b[0m\n\u001b[1;32m     17\u001b[0m \u001b[0;31m# add markers to the map\u001b[0m\u001b[0;34m\u001b[0m\u001b[0;34m\u001b[0m\u001b[0;34m\u001b[0m\u001b[0m\n\u001b[1;32m     18\u001b[0m \u001b[0mmarkers_colors\u001b[0m \u001b[0;34m=\u001b[0m \u001b[0;34m[\u001b[0m\u001b[0;34m]\u001b[0m\u001b[0;34m\u001b[0m\u001b[0;34m\u001b[0m\u001b[0m\n\u001b[0;32m---> 19\u001b[0;31m \u001b[0;32mfor\u001b[0m \u001b[0mlat\u001b[0m\u001b[0;34m,\u001b[0m \u001b[0mlon\u001b[0m\u001b[0;34m,\u001b[0m \u001b[0mpoi\u001b[0m\u001b[0;34m,\u001b[0m \u001b[0mcluster\u001b[0m \u001b[0;32min\u001b[0m \u001b[0mzip\u001b[0m\u001b[0;34m(\u001b[0m\u001b[0mdf_merged\u001b[0m\u001b[0;34m[\u001b[0m\u001b[0;34m'Latitude'\u001b[0m\u001b[0;34m]\u001b[0m\u001b[0;34m,\u001b[0m \u001b[0mdf_merged\u001b[0m\u001b[0;34m[\u001b[0m\u001b[0;34m'Longitude'\u001b[0m\u001b[0;34m]\u001b[0m\u001b[0;34m,\u001b[0m \u001b[0mdf_merged\u001b[0m\u001b[0;34m[\u001b[0m\u001b[0;34m'Neighborhood'\u001b[0m\u001b[0;34m]\u001b[0m\u001b[0;34m,\u001b[0m \u001b[0mdf_merged\u001b[0m\u001b[0;34m[\u001b[0m\u001b[0;34m'Cluster Labels'\u001b[0m\u001b[0;34m]\u001b[0m\u001b[0;34m)\u001b[0m\u001b[0;34m:\u001b[0m\u001b[0;34m\u001b[0m\u001b[0;34m\u001b[0m\u001b[0m\n\u001b[0m\u001b[1;32m     20\u001b[0m     \u001b[0mlabel\u001b[0m \u001b[0;34m=\u001b[0m \u001b[0mfolium\u001b[0m\u001b[0;34m.\u001b[0m\u001b[0mPopup\u001b[0m\u001b[0;34m(\u001b[0m\u001b[0mstr\u001b[0m\u001b[0;34m(\u001b[0m\u001b[0mpoi\u001b[0m\u001b[0;34m)\u001b[0m \u001b[0;34m+\u001b[0m \u001b[0;34m' Cluster '\u001b[0m \u001b[0;34m+\u001b[0m \u001b[0mstr\u001b[0m\u001b[0;34m(\u001b[0m\u001b[0mcluster\u001b[0m\u001b[0;34m)\u001b[0m\u001b[0;34m,\u001b[0m \u001b[0mparse_html\u001b[0m\u001b[0;34m=\u001b[0m\u001b[0;32mTrue\u001b[0m\u001b[0;34m)\u001b[0m\u001b[0;34m\u001b[0m\u001b[0;34m\u001b[0m\u001b[0m\n\u001b[1;32m     21\u001b[0m     folium.CircleMarker(\n",
                        "\u001b[0;32m/opt/conda/envs/Python-3.7-main/lib/python3.7/site-packages/pandas/core/frame.py\u001b[0m in \u001b[0;36m__getitem__\u001b[0;34m(self, key)\u001b[0m\n\u001b[1;32m   2798\u001b[0m             \u001b[0;32mif\u001b[0m \u001b[0mself\u001b[0m\u001b[0;34m.\u001b[0m\u001b[0mcolumns\u001b[0m\u001b[0;34m.\u001b[0m\u001b[0mnlevels\u001b[0m \u001b[0;34m>\u001b[0m \u001b[0;36m1\u001b[0m\u001b[0;34m:\u001b[0m\u001b[0;34m\u001b[0m\u001b[0;34m\u001b[0m\u001b[0m\n\u001b[1;32m   2799\u001b[0m                 \u001b[0;32mreturn\u001b[0m \u001b[0mself\u001b[0m\u001b[0;34m.\u001b[0m\u001b[0m_getitem_multilevel\u001b[0m\u001b[0;34m(\u001b[0m\u001b[0mkey\u001b[0m\u001b[0;34m)\u001b[0m\u001b[0;34m\u001b[0m\u001b[0;34m\u001b[0m\u001b[0m\n\u001b[0;32m-> 2800\u001b[0;31m             \u001b[0mindexer\u001b[0m \u001b[0;34m=\u001b[0m \u001b[0mself\u001b[0m\u001b[0;34m.\u001b[0m\u001b[0mcolumns\u001b[0m\u001b[0;34m.\u001b[0m\u001b[0mget_loc\u001b[0m\u001b[0;34m(\u001b[0m\u001b[0mkey\u001b[0m\u001b[0;34m)\u001b[0m\u001b[0;34m\u001b[0m\u001b[0;34m\u001b[0m\u001b[0m\n\u001b[0m\u001b[1;32m   2801\u001b[0m             \u001b[0;32mif\u001b[0m \u001b[0mis_integer\u001b[0m\u001b[0;34m(\u001b[0m\u001b[0mindexer\u001b[0m\u001b[0;34m)\u001b[0m\u001b[0;34m:\u001b[0m\u001b[0;34m\u001b[0m\u001b[0;34m\u001b[0m\u001b[0m\n\u001b[1;32m   2802\u001b[0m                 \u001b[0mindexer\u001b[0m \u001b[0;34m=\u001b[0m \u001b[0;34m[\u001b[0m\u001b[0mindexer\u001b[0m\u001b[0;34m]\u001b[0m\u001b[0;34m\u001b[0m\u001b[0;34m\u001b[0m\u001b[0m\n",
                        "\u001b[0;32m/opt/conda/envs/Python-3.7-main/lib/python3.7/site-packages/pandas/core/indexes/base.py\u001b[0m in \u001b[0;36mget_loc\u001b[0;34m(self, key, method, tolerance)\u001b[0m\n\u001b[1;32m   2646\u001b[0m                 \u001b[0;32mreturn\u001b[0m \u001b[0mself\u001b[0m\u001b[0;34m.\u001b[0m\u001b[0m_engine\u001b[0m\u001b[0;34m.\u001b[0m\u001b[0mget_loc\u001b[0m\u001b[0;34m(\u001b[0m\u001b[0mkey\u001b[0m\u001b[0;34m)\u001b[0m\u001b[0;34m\u001b[0m\u001b[0;34m\u001b[0m\u001b[0m\n\u001b[1;32m   2647\u001b[0m             \u001b[0;32mexcept\u001b[0m \u001b[0mKeyError\u001b[0m\u001b[0;34m:\u001b[0m\u001b[0;34m\u001b[0m\u001b[0;34m\u001b[0m\u001b[0m\n\u001b[0;32m-> 2648\u001b[0;31m                 \u001b[0;32mreturn\u001b[0m \u001b[0mself\u001b[0m\u001b[0;34m.\u001b[0m\u001b[0m_engine\u001b[0m\u001b[0;34m.\u001b[0m\u001b[0mget_loc\u001b[0m\u001b[0;34m(\u001b[0m\u001b[0mself\u001b[0m\u001b[0;34m.\u001b[0m\u001b[0m_maybe_cast_indexer\u001b[0m\u001b[0;34m(\u001b[0m\u001b[0mkey\u001b[0m\u001b[0;34m)\u001b[0m\u001b[0;34m)\u001b[0m\u001b[0;34m\u001b[0m\u001b[0;34m\u001b[0m\u001b[0m\n\u001b[0m\u001b[1;32m   2649\u001b[0m         \u001b[0mindexer\u001b[0m \u001b[0;34m=\u001b[0m \u001b[0mself\u001b[0m\u001b[0;34m.\u001b[0m\u001b[0mget_indexer\u001b[0m\u001b[0;34m(\u001b[0m\u001b[0;34m[\u001b[0m\u001b[0mkey\u001b[0m\u001b[0;34m]\u001b[0m\u001b[0;34m,\u001b[0m \u001b[0mmethod\u001b[0m\u001b[0;34m=\u001b[0m\u001b[0mmethod\u001b[0m\u001b[0;34m,\u001b[0m \u001b[0mtolerance\u001b[0m\u001b[0;34m=\u001b[0m\u001b[0mtolerance\u001b[0m\u001b[0;34m)\u001b[0m\u001b[0;34m\u001b[0m\u001b[0;34m\u001b[0m\u001b[0m\n\u001b[1;32m   2650\u001b[0m         \u001b[0;32mif\u001b[0m \u001b[0mindexer\u001b[0m\u001b[0;34m.\u001b[0m\u001b[0mndim\u001b[0m \u001b[0;34m>\u001b[0m \u001b[0;36m1\u001b[0m \u001b[0;32mor\u001b[0m \u001b[0mindexer\u001b[0m\u001b[0;34m.\u001b[0m\u001b[0msize\u001b[0m \u001b[0;34m>\u001b[0m \u001b[0;36m1\u001b[0m\u001b[0;34m:\u001b[0m\u001b[0;34m\u001b[0m\u001b[0;34m\u001b[0m\u001b[0m\n",
                        "\u001b[0;32mpandas/_libs/index.pyx\u001b[0m in \u001b[0;36mpandas._libs.index.IndexEngine.get_loc\u001b[0;34m()\u001b[0m\n",
                        "\u001b[0;32mpandas/_libs/index.pyx\u001b[0m in \u001b[0;36mpandas._libs.index.IndexEngine.get_loc\u001b[0;34m()\u001b[0m\n",
                        "\u001b[0;32mpandas/_libs/hashtable_class_helper.pxi\u001b[0m in \u001b[0;36mpandas._libs.hashtable.PyObjectHashTable.get_item\u001b[0;34m()\u001b[0m\n",
                        "\u001b[0;32mpandas/_libs/hashtable_class_helper.pxi\u001b[0m in \u001b[0;36mpandas._libs.hashtable.PyObjectHashTable.get_item\u001b[0;34m()\u001b[0m\n",
                        "\u001b[0;31mKeyError\u001b[0m: 'Neighborhood'"
                    ]
                }
            ],
            "source": "# create map\naddress = 'San Diego, California'\n\ngeolocator = Nominatim(user_agent=\"us_explorer\")\nlocation = geolocator.geocode(address)\nlatitude = location.latitude\nlongitude = location.longitude\n\nmap_clusters = folium.Map(location=[latitude, longitude], zoom_start=12.5)\n\n# set color scheme for the clusters\nx = np.arange(kclusters)\nys = [i + x + (i*x)**2 for i in range(kclusters)]\ncolors_array = cm.rainbow(np.linspace(0, 1, len(ys)))\nrainbow = [colors.rgb2hex(i) for i in colors_array]\n\n# add markers to the map\nmarkers_colors = []\nfor lat, lon, poi, cluster in zip(df_merged['Latitude'], df_merged['Longitude'], df_merged['Neighborhood'], df_merged['Cluster Labels']):\n    label = folium.Popup(str(poi) + ' Cluster ' + str(cluster), parse_html=True)\n    folium.CircleMarker(\n        [lat, lon],\n        radius=5,\n        popup=label,\n        color=rainbow[(cluster)-1],\n        fill=True,\n        fill_color=rainbow[(cluster)-1],\n        fill_opacity=0.7).add_to(map_clusters)\n       \nmap_clusters"
        },
        {
            "cell_type": "code",
            "execution_count": null,
            "metadata": {},
            "outputs": [],
            "source": ""
        },
        {
            "cell_type": "code",
            "execution_count": null,
            "metadata": {},
            "outputs": [],
            "source": ""
        },
        {
            "cell_type": "code",
            "execution_count": null,
            "metadata": {},
            "outputs": [],
            "source": ""
        },
        {
            "cell_type": "code",
            "execution_count": null,
            "metadata": {},
            "outputs": [],
            "source": ""
        }
    ],
    "metadata": {
        "kernelspec": {
            "display_name": "Python 3.7",
            "language": "python",
            "name": "python3"
        },
        "language_info": {
            "codemirror_mode": {
                "name": "ipython",
                "version": 3
            },
            "file_extension": ".py",
            "mimetype": "text/x-python",
            "name": "python",
            "nbconvert_exporter": "python",
            "pygments_lexer": "ipython3",
            "version": "3.7.10"
        }
    },
    "nbformat": 4,
    "nbformat_minor": 5
}