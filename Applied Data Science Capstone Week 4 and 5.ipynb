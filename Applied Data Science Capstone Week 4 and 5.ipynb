{
    "cells": [
        {
            "cell_type": "markdown",
            "metadata": {},
            "source": "# Project Overview\n\nThis is a slightly modified approach to what we worked on in the first three weeks of the Capstone project. Here the list of neighboorhoods which was used for Toronto and New York is replaced by a postal zip codes. The latter was done as a surrogate for the neighborhood definition and allows unified and easy access to all US cities. In addition, the zip code database also includes the latitude and longitudes of the respective area.\n"
        },
        {
            "cell_type": "markdown",
            "metadata": {},
            "source": "# TO DO :\n- Check NAN zip codes -> regenerate missing\n\nOdd \"outlier\" values for lat,long of e.g. San Jose:\n\n603\tSan Jose\tCalifornia\t62682\t40.280\t-89.630\n\n604\tSan Jose\tCalifornia\t87565\t35.500\t-105.400\n\n606\tSan Jose\tCalifornia\t95110\t37.340\t-121.910\n\n\n- check unique longitutde , latitude values for zip codes\n- get optimal value for \"k\" for KMEANS clustering\n-> check DBX values\n\n--> check proximity to original restaurant!\n\ngo through identified cluster and examine zipcodes which:\n -> do not have a \"Southern / Soul Food Restaurant\" venue in the top 10 list\n -> check gegraphical distance\n -> euclidan vector distance\n -> check number of restaurants is below average ? or there are at least some restaurants in the area\n"
        },
        {
            "cell_type": "markdown",
            "metadata": {},
            "source": "### Import libraries\n"
        },
        {
            "cell_type": "code",
            "execution_count": 1,
            "metadata": {},
            "outputs": [
                {
                    "name": "stdout",
                    "output_type": "stream",
                    "text": "Collecting package metadata (current_repodata.json): done\nSolving environment: done\n\n## Package Plan ##\n\n  environment location: /home/wsuser/.conda/envs/myenv\n\n\n\nPreparing transaction: done\nVerifying transaction: done\nExecuting transaction: done\n#\n# To activate this environment, use\n#\n#     $ conda activate myenv\n#\n# To deactivate an active environment, use\n#\n#     $ conda deactivate\n\n"
                }
            ],
            "source": "!conda create --name myenv\n#activate env\n!activate myenv\n"
        },
        {
            "cell_type": "code",
            "execution_count": 2,
            "metadata": {},
            "outputs": [
                {
                    "name": "stdout",
                    "output_type": "stream",
                    "text": "/opt/conda/envs/Python-3.7-main/lib/python3.7/site-packages/secretstorage/dhcrypto.py:16: CryptographyDeprecationWarning: int_from_bytes is deprecated, use int.from_bytes instead\n  from cryptography.utils import int_from_bytes\n/opt/conda/envs/Python-3.7-main/lib/python3.7/site-packages/secretstorage/util.py:25: CryptographyDeprecationWarning: int_from_bytes is deprecated, use int.from_bytes instead\n  from cryptography.utils import int_from_bytes\nCollecting bs4\n  Downloading bs4-0.0.1.tar.gz (1.1 kB)\nRequirement already satisfied: beautifulsoup4 in /opt/conda/envs/Python-3.7-main/lib/python3.7/site-packages (from bs4) (4.9.1)\nRequirement already satisfied: soupsieve>1.2 in /opt/conda/envs/Python-3.7-main/lib/python3.7/site-packages (from beautifulsoup4->bs4) (2.0.1)\nBuilding wheels for collected packages: bs4\n  Building wheel for bs4 (setup.py) ... \u001b[?25ldone\n\u001b[?25h  Created wheel for bs4: filename=bs4-0.0.1-py3-none-any.whl size=1272 sha256=8b0a557909d1d71214c4dc720eb0b50fea778c19c1309ed8a88b1035a16fcd59\n  Stored in directory: /tmp/wsuser/.cache/pip/wheels/0a/9e/ba/20e5bbc1afef3a491f0b3bb74d508f99403aabe76eda2167ca\nSuccessfully built bs4\nInstalling collected packages: bs4\nSuccessfully installed bs4-0.0.1\n/opt/conda/envs/Python-3.7-main/lib/python3.7/site-packages/secretstorage/dhcrypto.py:16: CryptographyDeprecationWarning: int_from_bytes is deprecated, use int.from_bytes instead\n  from cryptography.utils import int_from_bytes\n/opt/conda/envs/Python-3.7-main/lib/python3.7/site-packages/secretstorage/util.py:25: CryptographyDeprecationWarning: int_from_bytes is deprecated, use int.from_bytes instead\n  from cryptography.utils import int_from_bytes\nCollecting uszipcode\n  Downloading uszipcode-0.2.5-py2.py3-none-any.whl (453 kB)\n\u001b[K     |\u2588\u2588\u2588\u2588\u2588\u2588\u2588\u2588\u2588\u2588\u2588\u2588\u2588\u2588\u2588\u2588\u2588\u2588\u2588\u2588\u2588\u2588\u2588\u2588\u2588\u2588\u2588\u2588\u2588\u2588\u2588\u2588| 453 kB 20.2 MB/s eta 0:00:01\n\u001b[?25hCollecting pathlib-mate\n  Downloading pathlib_mate-1.0.1-py2.py3-none-any.whl (78 kB)\n\u001b[K     |\u2588\u2588\u2588\u2588\u2588\u2588\u2588\u2588\u2588\u2588\u2588\u2588\u2588\u2588\u2588\u2588\u2588\u2588\u2588\u2588\u2588\u2588\u2588\u2588\u2588\u2588\u2588\u2588\u2588\u2588\u2588\u2588| 78 kB 15.3 MB/s eta 0:00:01\n\u001b[?25hRequirement already satisfied: attrs in /opt/conda/envs/Python-3.7-main/lib/python3.7/site-packages (from uszipcode) (19.3.0)\nCollecting SQLAlchemy>=1.4.0\n  Downloading SQLAlchemy-1.4.14-cp37-cp37m-manylinux_2_5_x86_64.manylinux1_x86_64.manylinux_2_17_x86_64.manylinux2014_x86_64.whl (1.5 MB)\n\u001b[K     |\u2588\u2588\u2588\u2588\u2588\u2588\u2588\u2588\u2588\u2588\u2588\u2588\u2588\u2588\u2588\u2588\u2588\u2588\u2588\u2588\u2588\u2588\u2588\u2588\u2588\u2588\u2588\u2588\u2588\u2588\u2588\u2588| 1.5 MB 51.3 MB/s eta 0:00:01\n\u001b[?25hRequirement already satisfied: requests in /opt/conda/envs/Python-3.7-main/lib/python3.7/site-packages (from uszipcode) (2.24.0)\nCollecting atomicwrites\n  Downloading atomicwrites-1.4.0-py2.py3-none-any.whl (6.8 kB)\nCollecting autopep8\n  Downloading autopep8-1.5.7-py2.py3-none-any.whl (45 kB)\n\u001b[K     |\u2588\u2588\u2588\u2588\u2588\u2588\u2588\u2588\u2588\u2588\u2588\u2588\u2588\u2588\u2588\u2588\u2588\u2588\u2588\u2588\u2588\u2588\u2588\u2588\u2588\u2588\u2588\u2588\u2588\u2588\u2588\u2588| 45 kB 8.1 MB/s  eta 0:00:01\n\u001b[?25hRequirement already satisfied: six in /opt/conda/envs/Python-3.7-main/lib/python3.7/site-packages (from pathlib-mate->uszipcode) (1.15.0)\nCollecting greenlet!=0.4.17; python_version >= \"3\"\n  Downloading greenlet-1.1.0-cp37-cp37m-manylinux_2_17_x86_64.manylinux2014_x86_64.whl (160 kB)\n\u001b[K     |\u2588\u2588\u2588\u2588\u2588\u2588\u2588\u2588\u2588\u2588\u2588\u2588\u2588\u2588\u2588\u2588\u2588\u2588\u2588\u2588\u2588\u2588\u2588\u2588\u2588\u2588\u2588\u2588\u2588\u2588\u2588\u2588| 160 kB 62.1 MB/s eta 0:00:01\n\u001b[?25hRequirement already satisfied: importlib-metadata; python_version < \"3.8\" in /opt/conda/envs/Python-3.7-main/lib/python3.7/site-packages (from SQLAlchemy>=1.4.0->uszipcode) (1.6.1)\nRequirement already satisfied: chardet<4,>=3.0.2 in /opt/conda/envs/Python-3.7-main/lib/python3.7/site-packages (from requests->uszipcode) (3.0.4)\nRequirement already satisfied: urllib3!=1.25.0,!=1.25.1,<1.26,>=1.21.1 in /opt/conda/envs/Python-3.7-main/lib/python3.7/site-packages (from requests->uszipcode) (1.25.9)\nRequirement already satisfied: idna<3,>=2.5 in /opt/conda/envs/Python-3.7-main/lib/python3.7/site-packages (from requests->uszipcode) (2.9)\nRequirement already satisfied: certifi>=2017.4.17 in /opt/conda/envs/Python-3.7-main/lib/python3.7/site-packages (from requests->uszipcode) (2020.12.5)\nCollecting toml\n  Downloading toml-0.10.2-py2.py3-none-any.whl (16 kB)\nCollecting pycodestyle>=2.7.0\n  Downloading pycodestyle-2.7.0-py2.py3-none-any.whl (41 kB)\n\u001b[K     |\u2588\u2588\u2588\u2588\u2588\u2588\u2588\u2588\u2588\u2588\u2588\u2588\u2588\u2588\u2588\u2588\u2588\u2588\u2588\u2588\u2588\u2588\u2588\u2588\u2588\u2588\u2588\u2588\u2588\u2588\u2588\u2588| 41 kB 1.6 MB/s  eta 0:00:01\n\u001b[?25hRequirement already satisfied: zipp>=0.5 in /opt/conda/envs/Python-3.7-main/lib/python3.7/site-packages (from importlib-metadata; python_version < \"3.8\"->SQLAlchemy>=1.4.0->uszipcode) (3.1.0)\nInstalling collected packages: atomicwrites, toml, pycodestyle, autopep8, pathlib-mate, greenlet, SQLAlchemy, uszipcode\n  Attempting uninstall: SQLAlchemy\n    Found existing installation: SQLAlchemy 1.3.17\n    Uninstalling SQLAlchemy-1.3.17:\n      Successfully uninstalled SQLAlchemy-1.3.17\nSuccessfully installed SQLAlchemy-1.4.14 atomicwrites-1.4.0 autopep8-1.5.7 greenlet-1.1.0 pathlib-mate-1.0.1 pycodestyle-2.7.0 toml-0.10.2 uszipcode-0.2.5\n/opt/conda/envs/Python-3.7-main/lib/python3.7/site-packages/secretstorage/dhcrypto.py:16: CryptographyDeprecationWarning: int_from_bytes is deprecated, use int.from_bytes instead\n  from cryptography.utils import int_from_bytes\n/opt/conda/envs/Python-3.7-main/lib/python3.7/site-packages/secretstorage/util.py:25: CryptographyDeprecationWarning: int_from_bytes is deprecated, use int.from_bytes instead\n  from cryptography.utils import int_from_bytes\nCollecting folium\n  Downloading folium-0.12.1-py2.py3-none-any.whl (94 kB)\n\u001b[K     |\u2588\u2588\u2588\u2588\u2588\u2588\u2588\u2588\u2588\u2588\u2588\u2588\u2588\u2588\u2588\u2588\u2588\u2588\u2588\u2588\u2588\u2588\u2588\u2588\u2588\u2588\u2588\u2588\u2588\u2588\u2588\u2588| 94 kB 7.3 MB/s  eta 0:00:01\n\u001b[?25hRequirement already satisfied: jinja2>=2.9 in /opt/conda/envs/Python-3.7-main/lib/python3.7/site-packages (from folium) (2.11.2)\nRequirement already satisfied: requests in /opt/conda/envs/Python-3.7-main/lib/python3.7/site-packages (from folium) (2.24.0)\nCollecting branca>=0.3.0\n  Downloading branca-0.4.2-py3-none-any.whl (24 kB)\nRequirement already satisfied: numpy in /opt/conda/envs/Python-3.7-main/lib/python3.7/site-packages (from folium) (1.18.5)\nRequirement already satisfied: MarkupSafe>=0.23 in /opt/conda/envs/Python-3.7-main/lib/python3.7/site-packages (from jinja2>=2.9->folium) (1.1.1)\nRequirement already satisfied: urllib3!=1.25.0,!=1.25.1,<1.26,>=1.21.1 in /opt/conda/envs/Python-3.7-main/lib/python3.7/site-packages (from requests->folium) (1.25.9)\nRequirement already satisfied: certifi>=2017.4.17 in /opt/conda/envs/Python-3.7-main/lib/python3.7/site-packages (from requests->folium) (2020.12.5)\nRequirement already satisfied: chardet<4,>=3.0.2 in /opt/conda/envs/Python-3.7-main/lib/python3.7/site-packages (from requests->folium) (3.0.4)\nRequirement already satisfied: idna<3,>=2.5 in /opt/conda/envs/Python-3.7-main/lib/python3.7/site-packages (from requests->folium) (2.9)\nInstalling collected packages: branca, folium\nSuccessfully installed branca-0.4.2 folium-0.12.1\nLibraries imported\n"
                }
            ],
            "source": "\n\n!pip install bs4\nfrom bs4 import BeautifulSoup\n\n!pip install uszipcode\nfrom uszipcode import SearchEngine\n\nimport numpy as np\n\nimport pandas as pd\nimport requests\n\n# Matplotlib and associated plotting modules\nimport matplotlib.cm as cm\nimport matplotlib.colors as colors\n\n# import k-means from clustering stage\nfrom sklearn.cluster import KMeans\n\n#!conda install -c conda-forge folium=0.5.0 --yes \n!pip install folium\nimport folium # map rendering library\n\n#!conda install -c conda-forge geopy --yes \n#!pip install goepy\nfrom geopy.geocoders import Nominatim # convert an address into latitude and longitude values\n\n\nprint (\"Libraries imported\")"
        },
        {
            "cell_type": "markdown",
            "metadata": {},
            "source": "### Download list of most populated cities in US"
        },
        {
            "cell_type": "code",
            "execution_count": 4,
            "metadata": {},
            "outputs": [],
            "source": "# get list of most populous US cities from Wikipedia\n\nurl = \"https://en.wikipedia.org/wiki/List_of_United_States_cities_by_population\"\nhtml = requests.get(url).text\n"
        },
        {
            "cell_type": "markdown",
            "metadata": {},
            "source": "### Extract table with BeautifulSoup"
        },
        {
            "cell_type": "code",
            "execution_count": 5,
            "metadata": {},
            "outputs": [
                {
                    "name": "stdout",
                    "output_type": "stream",
                    "text": "Table found\n"
                }
            ],
            "source": "\n# get all tables with BeautifulSoup\nsoup = BeautifulSoup(html,\"html5lib\")\n\ntables = soup.find_all(\"table\")\ntable_index= -1\ntable = None\n\n# find the correct table \nfor i,table in enumerate(tables):\n    if \"New York City\" in str(table) and \"Chicago\" in str(table): #\n        table_index = i\n        #break # first table which \n\nif table_index >=0:\n    table = tables[table_index]\n    print (\"Table found\")\n    #print (table)\nelse:\n    print (\"No valid table found\")\n    table = None\n\n"
        },
        {
            "cell_type": "markdown",
            "metadata": {},
            "source": "### Extract required data from table and generate a pandas dataframe for cities with at least 1M inhabitants"
        },
        {
            "cell_type": "code",
            "execution_count": 6,
            "metadata": {},
            "outputs": [
                {
                    "data": {
                        "text/html": "<div>\n<style scoped>\n    .dataframe tbody tr th:only-of-type {\n        vertical-align: middle;\n    }\n\n    .dataframe tbody tr th {\n        vertical-align: top;\n    }\n\n    .dataframe thead th {\n        text-align: right;\n    }\n</style>\n<table border=\"1\" class=\"dataframe\">\n  <thead>\n    <tr style=\"text-align: right;\">\n      <th></th>\n      <th>City</th>\n      <th>State</th>\n      <th>Size Estimate</th>\n    </tr>\n  </thead>\n  <tbody>\n    <tr>\n      <th>0</th>\n      <td>New York City</td>\n      <td>New York</td>\n      <td>8336817</td>\n    </tr>\n    <tr>\n      <th>1</th>\n      <td>Los Angeles</td>\n      <td>California</td>\n      <td>3979576</td>\n    </tr>\n    <tr>\n      <th>2</th>\n      <td>Chicago</td>\n      <td>Illinois</td>\n      <td>2693976</td>\n    </tr>\n    <tr>\n      <th>3</th>\n      <td>Houston</td>\n      <td>Texas</td>\n      <td>2320268</td>\n    </tr>\n    <tr>\n      <th>4</th>\n      <td>Phoenix</td>\n      <td>Arizona</td>\n      <td>1680992</td>\n    </tr>\n    <tr>\n      <th>5</th>\n      <td>Philadelphia</td>\n      <td>Pennsylvania</td>\n      <td>1584064</td>\n    </tr>\n    <tr>\n      <th>6</th>\n      <td>San Antonio</td>\n      <td>Texas</td>\n      <td>1547253</td>\n    </tr>\n    <tr>\n      <th>7</th>\n      <td>San Diego</td>\n      <td>California</td>\n      <td>1423851</td>\n    </tr>\n    <tr>\n      <th>8</th>\n      <td>Dallas</td>\n      <td>Texas</td>\n      <td>1343573</td>\n    </tr>\n    <tr>\n      <th>9</th>\n      <td>San Jose</td>\n      <td>California</td>\n      <td>1021795</td>\n    </tr>\n  </tbody>\n</table>\n</div>",
                        "text/plain": "            City         State  Size Estimate\n0  New York City      New York        8336817\n1    Los Angeles    California        3979576\n2        Chicago      Illinois        2693976\n3        Houston         Texas        2320268\n4        Phoenix       Arizona        1680992\n5   Philadelphia  Pennsylvania        1584064\n6    San Antonio         Texas        1547253\n7      San Diego    California        1423851\n8         Dallas         Texas        1343573\n9       San Jose    California        1021795"
                    },
                    "execution_count": 6,
                    "metadata": {},
                    "output_type": "execute_result"
                }
            ],
            "source": "\ntable_contents=[]\n\n# loop over all cells in the table \nfor i,row in enumerate(table.findAll('tr')): # orig: td\n    \n    #create dictionary for a given cell to be added to dataframe\n\n    if not i:\n        #skip header\n        continue\n\n    arr = (row.text).split(\"\\n\")\n    cell = {}\n\n    if len(arr)>17:\n        #city \n        cell['City'] = arr[3].split(\"[\")[0]\n        #state \n        cell['State'] = arr[5].replace(\"\\xa0\",\"\")\n        #print (arr)\n        cell['Size Estimate'] = int(arr[7].replace(\",\",\"\"))\n\n        #print (cell)\n        \n        table_contents.append(cell)\n\n#print(table_contents)\n# print(table_contents)\ncities = pd.DataFrame(table_contents)\n\ncities.head(10)"
        },
        {
            "cell_type": "markdown",
            "metadata": {},
            "source": "### Download zipcode database"
        },
        {
            "cell_type": "code",
            "execution_count": 7,
            "metadata": {},
            "outputs": [
                {
                    "name": "stdout",
                    "output_type": "stream",
                    "text": "Start downloading data for simple zipcode database, total size 9MB ...\n  1 MB finished ...\n  2 MB finished ...\n  3 MB finished ...\n  4 MB finished ...\n  5 MB finished ...\n  6 MB finished ...\n  7 MB finished ...\n  8 MB finished ...\n  9 MB finished ...\n  10 MB finished ...\n  Complete!\n"
                }
            ],
            "source": "\n#download zip code database\nsearch = SearchEngine(simple_zipcode=True) # simple_zipcode=False\n"
        },
        {
            "cell_type": "markdown",
            "metadata": {},
            "source": "### Retrieve all zipcodes for cities with 1M or more inhabitants"
        },
        {
            "cell_type": "code",
            "execution_count": 8,
            "metadata": {},
            "outputs": [
                {
                    "name": "stdout",
                    "output_type": "stream",
                    "text": "Retrieved 99 zip codes for New York City\nRetrieved 64 zip codes for Los Angeles\nRetrieved 58 zip codes for Chicago\nRetrieved 106 zip codes for Houston\nRetrieved 53 zip codes for Phoenix\nRetrieved 56 zip codes for Philadelphia\nRetrieved 68 zip codes for San Antonio\nRetrieved 36 zip codes for San Diego\nRetrieved 63 zip codes for Dallas\nRetrieved 32 zip codes for San Jose\n"
                },
                {
                    "data": {
                        "text/html": "<div>\n<style scoped>\n    .dataframe tbody tr th:only-of-type {\n        vertical-align: middle;\n    }\n\n    .dataframe tbody tr th {\n        vertical-align: top;\n    }\n\n    .dataframe thead th {\n        text-align: right;\n    }\n</style>\n<table border=\"1\" class=\"dataframe\">\n  <thead>\n    <tr style=\"text-align: right;\">\n      <th></th>\n      <th>City</th>\n      <th>State</th>\n      <th>Zipcode</th>\n      <th>Latitude</th>\n      <th>Longitude</th>\n    </tr>\n  </thead>\n  <tbody>\n    <tr>\n      <th>0</th>\n      <td>New York City</td>\n      <td>New York</td>\n      <td>10001</td>\n      <td>40.750</td>\n      <td>-73.990</td>\n    </tr>\n    <tr>\n      <th>1</th>\n      <td>New York City</td>\n      <td>New York</td>\n      <td>10002</td>\n      <td>40.720</td>\n      <td>-73.990</td>\n    </tr>\n    <tr>\n      <th>2</th>\n      <td>New York City</td>\n      <td>New York</td>\n      <td>10003</td>\n      <td>40.730</td>\n      <td>-73.990</td>\n    </tr>\n    <tr>\n      <th>3</th>\n      <td>New York City</td>\n      <td>New York</td>\n      <td>10004</td>\n      <td>40.700</td>\n      <td>-74.020</td>\n    </tr>\n    <tr>\n      <th>4</th>\n      <td>New York City</td>\n      <td>New York</td>\n      <td>10005</td>\n      <td>40.705</td>\n      <td>-74.005</td>\n    </tr>\n  </tbody>\n</table>\n</div>",
                        "text/plain": "            City     State Zipcode  Latitude  Longitude\n0  New York City  New York   10001    40.750    -73.990\n1  New York City  New York   10002    40.720    -73.990\n2  New York City  New York   10003    40.730    -73.990\n3  New York City  New York   10004    40.700    -74.020\n4  New York City  New York   10005    40.705    -74.005"
                    },
                    "execution_count": 8,
                    "metadata": {},
                    "output_type": "execute_result"
                }
            ],
            "source": "#cities with at least one million inhabitants\ntmpdata = []\n\nfor city, state,size in zip(cities[\"City\"],cities[\"State\"],cities[\"Size Estimate\"]):\n    if size > 1000000:\n        #res = search.by_city_and_state(city, state)\n        res = search.by_city(city=city, returns=0)\n        if not len(res):\n            print (\"Error occurred for {}\".format(city))\n        else:\n            #pcode = {}\n            print (\"Retrieved {} zip codes for {}\".format(len(res),city))\n            #city_zipcodes[city] = [z.zipcode for z in res]\n            for z in res:\n                pcode = {'City':city,'State':state,'Zipcode':z.zipcode,'Latitude':z.lat,'Longitude':z.lng}\n                tmpdata.append(pcode)\n        #break   # REMOVE ------------------------------\ncity_wzipcodes =  pd.DataFrame(tmpdata)\ncity_wzipcodes.head()\n"
        },
        {
            "cell_type": "markdown",
            "metadata": {},
            "source": "### Set up foursquare information"
        },
        {
            "cell_type": "code",
            "execution_count": 9,
            "metadata": {},
            "outputs": [],
            "source": "# The code was removed by Watson Studio for sharing."
        },
        {
            "cell_type": "markdown",
            "metadata": {},
            "source": "### Function to retrieve location data from foursquare"
        },
        {
            "cell_type": "code",
            "execution_count": 10,
            "metadata": {},
            "outputs": [],
            "source": "\ndef getNearbyVenues(names, latitudes, longitudes, radius=500):\n    \n    venues_list=[]\n    for name, lat, lng in zip(names, latitudes, longitudes):\n        #print(name)\n            \n        # create the API request URL\n        url = 'https://api.foursquare.com/v2/venues/explore?&client_id={}&client_secret={}&v={}&ll={},{}&radius={}&limit={}'.format(\n            CLIENT_ID, \n            CLIENT_SECRET, \n            VERSION, \n            lat, \n            lng, \n            radius, \n            LIMIT)\n            \n        # make the GET request\n        #print (url) #REMOVE\n        results = requests.get(url).json()[\"response\"]['groups'][0]['items']\n        \n        # return only relevant information for each nearby venue\n        venues_list.append([(\n            name, \n            lat, \n            lng, \n            v['venue']['name'], \n            v['venue']['location']['lat'], \n            v['venue']['location']['lng'],  \n            v['venue']['categories'][0]['name']) for v in results])\n\n    nearby_venues = pd.DataFrame([item for venue_list in venues_list for item in venue_list])\n    nearby_venues.columns = ['Zipcode', \n                  'Zipcode Latitude', \n                  'Zipcode Longitude', \n                  'Venue', \n                  'Venue Latitude', \n                  'Venue Longitude', \n                  'Venue Category']\n    \n    return(nearby_venues)"
        },
        {
            "cell_type": "markdown",
            "metadata": {},
            "source": "# TO DO --> SOME LATITUDE AND LONGITUDE VALUES ARE MISSING FROM ZIP CODE DATABASE\n\n"
        },
        {
            "cell_type": "code",
            "execution_count": 10,
            "metadata": {},
            "outputs": [],
            "source": "# TO DO --> SOME LATITUDE AND LONGITUDE VALUES ARE MISSING FROM ZIP CODE DATABASE\n"
        },
        {
            "cell_type": "code",
            "execution_count": 13,
            "metadata": {},
            "outputs": [
                {
                    "name": "stdout",
                    "output_type": "stream",
                    "text": "            City     State Zipcode  Latitude  Longitude\n0  New York City  New York   10001    40.750    -73.990\n1  New York City  New York   10002    40.720    -73.990\n2  New York City  New York   10003    40.730    -73.990\n3  New York City  New York   10004    40.700    -74.020\n4  New York City  New York   10005    40.705    -74.005\n(572, 5)\n"
                }
            ],
            "source": "\n#df = city_wzipcodes[city_wzipcodes[\"City\"] == \"San Jose\"] # REDO REMOVE\ndf = city_wzipcodes \n\ndf = df.dropna()\nprint (df.head())\nprint (df.shape)\n\n\n"
        },
        {
            "cell_type": "code",
            "execution_count": 14,
            "metadata": {},
            "outputs": [
                {
                    "data": {
                        "text/html": "<div>\n<style scoped>\n    .dataframe tbody tr th:only-of-type {\n        vertical-align: middle;\n    }\n\n    .dataframe tbody tr th {\n        vertical-align: top;\n    }\n\n    .dataframe thead th {\n        text-align: right;\n    }\n</style>\n<table border=\"1\" class=\"dataframe\">\n  <thead>\n    <tr style=\"text-align: right;\">\n      <th></th>\n      <th>Zipcode</th>\n      <th>Zipcode Latitude</th>\n      <th>Zipcode Longitude</th>\n      <th>Venue</th>\n      <th>Venue Latitude</th>\n      <th>Venue Longitude</th>\n      <th>Venue Category</th>\n    </tr>\n  </thead>\n  <tbody>\n    <tr>\n      <th>0</th>\n      <td>10001</td>\n      <td>40.75</td>\n      <td>-73.99</td>\n      <td>STORY</td>\n      <td>40.750866</td>\n      <td>-73.989272</td>\n      <td>Gift Shop</td>\n    </tr>\n    <tr>\n      <th>1</th>\n      <td>10001</td>\n      <td>40.75</td>\n      <td>-73.99</td>\n      <td>Louis Vuitton</td>\n      <td>40.750274</td>\n      <td>-73.988146</td>\n      <td>Boutique</td>\n    </tr>\n    <tr>\n      <th>2</th>\n      <td>10001</td>\n      <td>40.75</td>\n      <td>-73.99</td>\n      <td>Krispy Kreme Doughnuts</td>\n      <td>40.749990</td>\n      <td>-73.992149</td>\n      <td>Donut Shop</td>\n    </tr>\n    <tr>\n      <th>3</th>\n      <td>10001</td>\n      <td>40.75</td>\n      <td>-73.99</td>\n      <td>Victoria's Secret</td>\n      <td>40.749745</td>\n      <td>-73.987693</td>\n      <td>Lingerie Store</td>\n    </tr>\n    <tr>\n      <th>4</th>\n      <td>10001</td>\n      <td>40.75</td>\n      <td>-73.99</td>\n      <td>Vans Off The Wall</td>\n      <td>40.750377</td>\n      <td>-73.989716</td>\n      <td>Shoe Store</td>\n    </tr>\n  </tbody>\n</table>\n</div>",
                        "text/plain": "  Zipcode  Zipcode Latitude  Zipcode Longitude                   Venue  \\\n0   10001             40.75             -73.99                   STORY   \n1   10001             40.75             -73.99           Louis Vuitton   \n2   10001             40.75             -73.99  Krispy Kreme Doughnuts   \n3   10001             40.75             -73.99       Victoria's Secret   \n4   10001             40.75             -73.99       Vans Off The Wall   \n\n   Venue Latitude  Venue Longitude  Venue Category  \n0       40.750866       -73.989272       Gift Shop  \n1       40.750274       -73.988146        Boutique  \n2       40.749990       -73.992149      Donut Shop  \n3       40.749745       -73.987693  Lingerie Store  \n4       40.750377       -73.989716      Shoe Store  "
                    },
                    "execution_count": 14,
                    "metadata": {},
                    "output_type": "execute_result"
                }
            ],
            "source": "\ndf_venues = getNearbyVenues(df[\"Zipcode\"],df[\"Latitude\"] , df[\"Longitude\"], radius=500)\ndf_venues.head()\n"
        },
        {
            "cell_type": "code",
            "execution_count": 48,
            "metadata": {},
            "outputs": [
                {
                    "name": "stdout",
                    "output_type": "stream",
                    "text": "     Zipcode  Zipcode Latitude  Zipcode Longitude  \\\n1991   10026            40.801            -73.953   \n1992   10026            40.801            -73.953   \n1993   10026            40.801            -73.953   \n1994   10026            40.801            -73.953   \n1995   10026            40.801            -73.953   \n1996   10026            40.801            -73.953   \n1997   10026            40.801            -73.953   \n1998   10026            40.801            -73.953   \n1999   10026            40.801            -73.953   \n2000   10026            40.801            -73.953   \n2001   10026            40.801            -73.953   \n2002   10026            40.801            -73.953   \n2003   10026            40.801            -73.953   \n2004   10026            40.801            -73.953   \n2005   10026            40.801            -73.953   \n2006   10026            40.801            -73.953   \n2007   10026            40.801            -73.953   \n2008   10026            40.801            -73.953   \n2009   10026            40.801            -73.953   \n2010   10026            40.801            -73.953   \n2011   10026            40.801            -73.953   \n2012   10026            40.801            -73.953   \n2013   10026            40.801            -73.953   \n2014   10026            40.801            -73.953   \n2015   10026            40.801            -73.953   \n2016   10026            40.801            -73.953   \n2017   10026            40.801            -73.953   \n2018   10026            40.801            -73.953   \n2019   10026            40.801            -73.953   \n2020   10026            40.801            -73.953   \n2021   10026            40.801            -73.953   \n2022   10026            40.801            -73.953   \n2023   10026            40.801            -73.953   \n2024   10026            40.801            -73.953   \n2025   10026            40.801            -73.953   \n2026   10026            40.801            -73.953   \n2027   10026            40.801            -73.953   \n2028   10026            40.801            -73.953   \n2029   10026            40.801            -73.953   \n2030   10026            40.801            -73.953   \n2031   10026            40.801            -73.953   \n2032   10026            40.801            -73.953   \n2033   10026            40.801            -73.953   \n2034   10026            40.801            -73.953   \n2035   10026            40.801            -73.953   \n2036   10026            40.801            -73.953   \n2037   10026            40.801            -73.953   \n2038   10026            40.801            -73.953   \n2039   10026            40.801            -73.953   \n2040   10026            40.801            -73.953   \n2041   10026            40.801            -73.953   \n2042   10026            40.801            -73.953   \n2043   10026            40.801            -73.953   \n2044   10026            40.801            -73.953   \n\n                                                  Venue  Venue Latitude  \\\n1991                                          Fieldtrip       40.801758   \n1992                                     Seasoned Vegan       40.800625   \n1993                                 Little Bean Coffee       40.798929   \n1994                     Cantina Taqueria & Tequila Bar       40.800174   \n1995                           Central Park - North End       40.798030   \n1996                                         Amy Ruth's       40.802378   \n1997                                     Shuteye Coffee       40.802944   \n1998                                        Bo's Bagels       40.804030   \n1999                                      Farmers' Gate       40.798055   \n2000                          tropical grill restaurant       40.803038   \n2001                                        North Woods       40.797970   \n2002                      Melba's American Comfort Food       40.802952   \n2003                                    iLoveKickboxing       40.801727   \n2004                                   67 Orange Street       40.802337   \n2005                                             Safari       40.803735   \n2006                                   Harlem Pizza Co.       40.802683   \n2007                                         The Winery       40.804334   \n2008                 Central Park - 110th St Playground       40.799798   \n2009                                         Monkey Cup       40.804661   \n2010                              Sea & Sea Fish Market       40.801722   \n2011                                      Levain Bakery       40.804897   \n2012                         Central Park - Harlem Hill       40.799436   \n2013                 Food Bank of NYC Community Kitchen       40.804206   \n2014                                          Row House       40.803659   \n2015                             Lasker Pool & Ice Rink       40.797861   \n2016                               LoLo's Seafood Shack       40.804760   \n2017                                      Blink Fitness       40.801458   \n2018                                        Lido Harlem       40.804987   \n2019                                 Minton's Playhouse       40.804736   \n2020                                 Harlem Skin Clinic       40.803464   \n2021                                            Caf\u00e9ine       40.803563   \n2022                 Central Park - 110th Street Bridge       40.799858   \n2023                                            Silvana       40.804563   \n2024                                           BeBenoir       40.804768   \n2025                                    Harlem Food Bar       40.802908   \n2026                                        Blvd Bistro       40.804384   \n2027                                    Bean And Barley       40.803446   \n2028                                      Harlem Tavern       40.804611   \n2029                                        Cafe Amrita       40.800915   \n2030                       Destiny Sandwich & Juice Bar       40.804846   \n2031                          Frederick Douglass Circle       40.800554   \n2032                                  Central Park Deli       40.798294   \n2033                                Royal Curry & Kabab       40.799563   \n2034                                            Dunkin'       40.798607   \n2035                 Cooper Hewitt Harlem Design Center       40.798479   \n2036                                     The Blockhouse       40.798672   \n2037                          Fifth Avenue Deli Grocery       40.799732   \n2038                                             Subway       40.798925   \n2039                              Fine Fare 112th/Lenox       40.799245   \n2040                                    New Ebony Hotel       40.800080   \n2041   7th Ave (Adam Clayton Powell Jr. Blvd) Bike Lane       40.799644   \n2042  MTA Bus M2 / M3 / M4 at 110th Street (Central ...       40.799846   \n2043                                           112 Deli       40.799856   \n2044                                    Mountcliff Arch       40.799896   \n\n      Venue Longitude                   Venue Category  \n1991       -73.950326               African Restaurant  \n1992       -73.952693    Vegetarian / Vegan Restaurant  \n1993       -73.952211                      Coffee Shop  \n1994       -73.954836               Mexican Restaurant  \n1995       -73.953266                             Park  \n1996       -73.950423  Southern / Soul Food Restaurant  \n1997       -73.951167                      Coffee Shop  \n1998       -73.954350                       Bagel Shop  \n1999       -73.952515                            Plaza  \n2000       -73.952079               Spanish Restaurant  \n2001       -73.955358                             Park  \n2002       -73.956410  Southern / Soul Food Restaurant  \n2003       -73.948454                       Boxing Gym  \n2004       -73.956904                        Speakeasy  \n2005       -73.953712               African Restaurant  \n2006       -73.951194                      Pizza Place  \n2007       -73.955138                        Wine Shop  \n2008       -73.955439                       Playground  \n2009       -73.951469                      Coffee Shop  \n2010       -73.949012                      Fish Market  \n2011       -73.955098                           Bakery  \n2012       -73.957191                             Park  \n2013       -73.954948                       Food Court  \n2014       -73.955863                       Restaurant  \n2015       -73.953542                             Pool  \n2016       -73.955740               Seafood Restaurant  \n2017       -73.947617                              Gym  \n2018       -73.954885               Italian Restaurant  \n2019       -73.952273                        Jazz Club  \n2020       -73.956064                              Spa  \n2021       -73.955997                      Coffee Shop  \n2022       -73.957858                           Bridge  \n2023       -73.955630        Middle Eastern Restaurant  \n2024       -73.954783                         Boutique  \n2025       -73.956458                         Wine Bar  \n2026       -73.955802  Southern / Soul Food Restaurant  \n2027       -73.956077                              Bar  \n2028       -73.955420                       Sports Bar  \n2029       -73.958836                             Caf\u00e9  \n2030       -73.955151                        Juice Bar  \n2031       -73.958116                            Plaza  \n2032       -73.952397                    Deli / Bodega  \n2033       -73.952173                Indian Restaurant  \n2034       -73.952793                       Donut Shop  \n2035       -73.952874                       Art Museum  \n2036       -73.956292                    Historic Site  \n2037       -73.947614                    Deli / Bodega  \n2038       -73.952748                   Sandwich Place  \n2039       -73.951887                      Supermarket  \n2040       -73.953694                           Hostel  \n2041       -73.954698                       Bike Trail  \n2042       -73.955498                      Bus Station  \n2043       -73.955512                    Deli / Bodega  \n2044       -73.957869                           Tunnel  \n"
                },
                {
                    "data": {
                        "text/plain": "(572, 5)"
                    },
                    "execution_count": 48,
                    "metadata": {},
                    "output_type": "execute_result"
                }
            ],
            "source": "print (df_venues[df_venues[\"Zipcode\"] == \"10026\"])\n\n# Amy Ruth's New York\n#\tZipcode\t1st Most Common Venue\t2nd Most Common Venue\t3rd Most Common Venue\t4th Most Common Venue\t5th Most Common Venue\t6th Most Common Venue\t7th Most Common Venue\t8th Most Common Venue\t9th Most Common Venue\t10th Most Common Venue\n#24\t10026\tCoffee Shop\tPark\tSouthern / Soul Food Restaurant\tDeli / Bodega\tAfrican Restaurant\tPlaza\tSpeakeasy\tSeafood Restaurant\tBagel Shop\tBakery\n\ndf.shape"
        },
        {
            "cell_type": "markdown",
            "metadata": {},
            "source": "### One hot encoding of venue information:\n"
        },
        {
            "cell_type": "code",
            "execution_count": 20,
            "metadata": {},
            "outputs": [
                {
                    "data": {
                        "text/html": "<div>\n<style scoped>\n    .dataframe tbody tr th:only-of-type {\n        vertical-align: middle;\n    }\n\n    .dataframe tbody tr th {\n        vertical-align: top;\n    }\n\n    .dataframe thead th {\n        text-align: right;\n    }\n</style>\n<table border=\"1\" class=\"dataframe\">\n  <thead>\n    <tr style=\"text-align: right;\">\n      <th></th>\n      <th>Zipcode</th>\n      <th>ATM</th>\n      <th>Accessories Store</th>\n      <th>Adult Boutique</th>\n      <th>Advertising Agency</th>\n      <th>Afghan Restaurant</th>\n      <th>African Restaurant</th>\n      <th>Airport</th>\n      <th>Airport Food Court</th>\n      <th>Airport Lounge</th>\n      <th>...</th>\n      <th>Weight Loss Center</th>\n      <th>Whisky Bar</th>\n      <th>Wine Bar</th>\n      <th>Wine Shop</th>\n      <th>Winery</th>\n      <th>Wings Joint</th>\n      <th>Women's Store</th>\n      <th>Yoga Studio</th>\n      <th>Yoshoku Restaurant</th>\n      <th>Zoo Exhibit</th>\n    </tr>\n  </thead>\n  <tbody>\n    <tr>\n      <th>0</th>\n      <td>10001</td>\n      <td>0</td>\n      <td>0</td>\n      <td>0</td>\n      <td>0</td>\n      <td>0</td>\n      <td>0</td>\n      <td>0</td>\n      <td>0</td>\n      <td>0</td>\n      <td>...</td>\n      <td>0</td>\n      <td>0</td>\n      <td>0</td>\n      <td>0</td>\n      <td>0</td>\n      <td>0</td>\n      <td>0</td>\n      <td>0</td>\n      <td>0</td>\n      <td>0</td>\n    </tr>\n    <tr>\n      <th>1</th>\n      <td>10001</td>\n      <td>0</td>\n      <td>0</td>\n      <td>0</td>\n      <td>0</td>\n      <td>0</td>\n      <td>0</td>\n      <td>0</td>\n      <td>0</td>\n      <td>0</td>\n      <td>...</td>\n      <td>0</td>\n      <td>0</td>\n      <td>0</td>\n      <td>0</td>\n      <td>0</td>\n      <td>0</td>\n      <td>0</td>\n      <td>0</td>\n      <td>0</td>\n      <td>0</td>\n    </tr>\n    <tr>\n      <th>2</th>\n      <td>10001</td>\n      <td>0</td>\n      <td>0</td>\n      <td>0</td>\n      <td>0</td>\n      <td>0</td>\n      <td>0</td>\n      <td>0</td>\n      <td>0</td>\n      <td>0</td>\n      <td>...</td>\n      <td>0</td>\n      <td>0</td>\n      <td>0</td>\n      <td>0</td>\n      <td>0</td>\n      <td>0</td>\n      <td>0</td>\n      <td>0</td>\n      <td>0</td>\n      <td>0</td>\n    </tr>\n    <tr>\n      <th>3</th>\n      <td>10001</td>\n      <td>0</td>\n      <td>0</td>\n      <td>0</td>\n      <td>0</td>\n      <td>0</td>\n      <td>0</td>\n      <td>0</td>\n      <td>0</td>\n      <td>0</td>\n      <td>...</td>\n      <td>0</td>\n      <td>0</td>\n      <td>0</td>\n      <td>0</td>\n      <td>0</td>\n      <td>0</td>\n      <td>0</td>\n      <td>0</td>\n      <td>0</td>\n      <td>0</td>\n    </tr>\n    <tr>\n      <th>4</th>\n      <td>10001</td>\n      <td>0</td>\n      <td>0</td>\n      <td>0</td>\n      <td>0</td>\n      <td>0</td>\n      <td>0</td>\n      <td>0</td>\n      <td>0</td>\n      <td>0</td>\n      <td>...</td>\n      <td>0</td>\n      <td>0</td>\n      <td>0</td>\n      <td>0</td>\n      <td>0</td>\n      <td>0</td>\n      <td>0</td>\n      <td>0</td>\n      <td>0</td>\n      <td>0</td>\n    </tr>\n  </tbody>\n</table>\n<p>5 rows \u00d7 476 columns</p>\n</div>",
                        "text/plain": "  Zipcode  ATM  Accessories Store  Adult Boutique  Advertising Agency  \\\n0   10001    0                  0               0                   0   \n1   10001    0                  0               0                   0   \n2   10001    0                  0               0                   0   \n3   10001    0                  0               0                   0   \n4   10001    0                  0               0                   0   \n\n   Afghan Restaurant  African Restaurant  Airport  Airport Food Court  \\\n0                  0                   0        0                   0   \n1                  0                   0        0                   0   \n2                  0                   0        0                   0   \n3                  0                   0        0                   0   \n4                  0                   0        0                   0   \n\n   Airport Lounge  ...  Weight Loss Center  Whisky Bar  Wine Bar  Wine Shop  \\\n0               0  ...                   0           0         0          0   \n1               0  ...                   0           0         0          0   \n2               0  ...                   0           0         0          0   \n3               0  ...                   0           0         0          0   \n4               0  ...                   0           0         0          0   \n\n   Winery  Wings Joint  Women's Store  Yoga Studio  Yoshoku Restaurant  \\\n0       0            0              0            0                   0   \n1       0            0              0            0                   0   \n2       0            0              0            0                   0   \n3       0            0              0            0                   0   \n4       0            0              0            0                   0   \n\n   Zoo Exhibit  \n0            0  \n1            0  \n2            0  \n3            0  \n4            0  \n\n[5 rows x 476 columns]"
                    },
                    "execution_count": 20,
                    "metadata": {},
                    "output_type": "execute_result"
                }
            ],
            "source": "# one hot encoding\ndf_onehot = pd.get_dummies(df_venues[['Venue Category']], prefix=\"\", prefix_sep=\"\")\n\n# add zipcode column back to dataframe\ndf_onehot['Zipcode'] = df_venues['Zipcode'] \n\n# move ipcode column to the first column\nfixed_columns = [df_onehot.columns[-1]] + list(df_onehot.columns[:-1])\ndf_onehot = df_onehot[fixed_columns]\n\ndf_onehot.head()\n"
        },
        {
            "cell_type": "markdown",
            "metadata": {},
            "source": "### group rows by zip code and by taking the mean of the frequency of occurrence of each category\n"
        },
        {
            "cell_type": "code",
            "execution_count": 89,
            "metadata": {},
            "outputs": [
                {
                    "name": "stdout",
                    "output_type": "stream",
                    "text": "  Zipcode  ATM  Accessories Store  Adult Boutique  Advertising Agency  \\\n0   00690  0.0                0.0             0.0                 0.0   \n1   10001  0.0                0.0             0.0                 0.0   \n2   10002  0.0                0.0             0.0                 0.0   \n3   10003  0.0                0.0             0.0                 0.0   \n4   10004  0.0                0.0             0.0                 0.0   \n\n   Afghan Restaurant  African Restaurant  Airport  Airport Food Court  \\\n0                0.0                 0.0      0.0                 0.0   \n1                0.0                 0.0      0.0                 0.0   \n2                0.0                 0.0      0.0                 0.0   \n3                0.0                 0.0      0.0                 0.0   \n4                0.0                 0.0      0.0                 0.0   \n\n   Airport Lounge  ...  Weight Loss Center  Whisky Bar  Wine Bar  Wine Shop  \\\n0             0.0  ...                 0.0         0.0      0.00       0.00   \n1             0.0  ...                 0.0         0.0      0.01       0.00   \n2             0.0  ...                 0.0         0.0      0.03       0.01   \n3             0.0  ...                 0.0         0.0      0.01       0.03   \n4             0.0  ...                 0.0         0.0      0.00       0.00   \n\n   Winery  Wings Joint  Women's Store  Yoga Studio  Yoshoku Restaurant  \\\n0     0.0          0.0            0.0         0.00                 0.0   \n1     0.0          0.0            0.0         0.01                 0.0   \n2     0.0          0.0            0.0         0.00                 0.0   \n3     0.0          0.0            0.0         0.01                 0.0   \n4     0.0          0.0            0.0         0.00                 0.0   \n\n   Zoo Exhibit  \n0          0.0  \n1          0.0  \n2          0.0  \n3          0.0  \n4          0.0  \n\n[5 rows x 476 columns]\n(504, 476)\n"
                }
            ],
            "source": "df_grouped = df_onehot.groupby('Zipcode').mean().reset_index()\nprint (df_grouped.head())\nprint (df_grouped.shape)\n"
        },
        {
            "cell_type": "code",
            "execution_count": 90,
            "metadata": {},
            "outputs": [],
            "source": "def return_most_common_venues(row, num_top_venues):\n    row_categories = row.iloc[1:]\n    row_categories_sorted = row_categories.sort_values(ascending=False)\n    \n    return row_categories_sorted.index.values[0:num_top_venues]"
        },
        {
            "cell_type": "markdown",
            "metadata": {},
            "source": "### top 10 venues for each neighborhood.\n"
        },
        {
            "cell_type": "code",
            "execution_count": 91,
            "metadata": {},
            "outputs": [
                {
                    "data": {
                        "text/html": "<div>\n<style scoped>\n    .dataframe tbody tr th:only-of-type {\n        vertical-align: middle;\n    }\n\n    .dataframe tbody tr th {\n        vertical-align: top;\n    }\n\n    .dataframe thead th {\n        text-align: right;\n    }\n</style>\n<table border=\"1\" class=\"dataframe\">\n  <thead>\n    <tr style=\"text-align: right;\">\n      <th></th>\n      <th>Zipcode</th>\n      <th>1st Most Common Venue</th>\n      <th>2nd Most Common Venue</th>\n      <th>3rd Most Common Venue</th>\n      <th>4th Most Common Venue</th>\n      <th>5th Most Common Venue</th>\n      <th>6th Most Common Venue</th>\n      <th>7th Most Common Venue</th>\n      <th>8th Most Common Venue</th>\n      <th>9th Most Common Venue</th>\n      <th>10th Most Common Venue</th>\n    </tr>\n  </thead>\n  <tbody>\n    <tr>\n      <th>0</th>\n      <td>00690</td>\n      <td>Coworking Space</td>\n      <td>Caribbean Restaurant</td>\n      <td>Pizza Place</td>\n      <td>Zoo Exhibit</td>\n      <td>Financial or Legal Service</td>\n      <td>Event Space</td>\n      <td>Exhibit</td>\n      <td>Eye Doctor</td>\n      <td>Fabric Shop</td>\n      <td>Factory</td>\n    </tr>\n    <tr>\n      <th>1</th>\n      <td>10001</td>\n      <td>Korean Restaurant</td>\n      <td>Hotel</td>\n      <td>Coffee Shop</td>\n      <td>Gym / Fitness Center</td>\n      <td>Burger Joint</td>\n      <td>American Restaurant</td>\n      <td>Boxing Gym</td>\n      <td>Cosmetics Shop</td>\n      <td>Bakery</td>\n      <td>Clothing Store</td>\n    </tr>\n    <tr>\n      <th>2</th>\n      <td>10002</td>\n      <td>Cocktail Bar</td>\n      <td>Asian Restaurant</td>\n      <td>Caf\u00e9</td>\n      <td>Hotel</td>\n      <td>Pizza Place</td>\n      <td>Bar</td>\n      <td>Coffee Shop</td>\n      <td>Wine Bar</td>\n      <td>Ice Cream Shop</td>\n      <td>Art Gallery</td>\n    </tr>\n    <tr>\n      <th>3</th>\n      <td>10003</td>\n      <td>Coffee Shop</td>\n      <td>Japanese Restaurant</td>\n      <td>Italian Restaurant</td>\n      <td>Grocery Store</td>\n      <td>Dessert Shop</td>\n      <td>Ice Cream Shop</td>\n      <td>Caf\u00e9</td>\n      <td>Wine Shop</td>\n      <td>Pet Store</td>\n      <td>Sushi Restaurant</td>\n    </tr>\n    <tr>\n      <th>4</th>\n      <td>10004</td>\n      <td>Park</td>\n      <td>Pier</td>\n      <td>Historic Site</td>\n      <td>Harbor / Marina</td>\n      <td>Gym / Fitness Center</td>\n      <td>Snack Place</td>\n      <td>Monument / Landmark</td>\n      <td>Boat or Ferry</td>\n      <td>American Restaurant</td>\n      <td>Farm</td>\n    </tr>\n  </tbody>\n</table>\n</div>",
                        "text/plain": "  Zipcode 1st Most Common Venue 2nd Most Common Venue 3rd Most Common Venue  \\\n0   00690       Coworking Space  Caribbean Restaurant           Pizza Place   \n1   10001     Korean Restaurant                 Hotel           Coffee Shop   \n2   10002          Cocktail Bar      Asian Restaurant                  Caf\u00e9   \n3   10003           Coffee Shop   Japanese Restaurant    Italian Restaurant   \n4   10004                  Park                  Pier         Historic Site   \n\n  4th Most Common Venue       5th Most Common Venue 6th Most Common Venue  \\\n0           Zoo Exhibit  Financial or Legal Service           Event Space   \n1  Gym / Fitness Center                Burger Joint   American Restaurant   \n2                 Hotel                 Pizza Place                   Bar   \n3         Grocery Store                Dessert Shop        Ice Cream Shop   \n4       Harbor / Marina        Gym / Fitness Center           Snack Place   \n\n  7th Most Common Venue 8th Most Common Venue 9th Most Common Venue  \\\n0               Exhibit            Eye Doctor           Fabric Shop   \n1            Boxing Gym        Cosmetics Shop                Bakery   \n2           Coffee Shop              Wine Bar        Ice Cream Shop   \n3                  Caf\u00e9             Wine Shop             Pet Store   \n4   Monument / Landmark         Boat or Ferry   American Restaurant   \n\n  10th Most Common Venue  \n0                Factory  \n1         Clothing Store  \n2            Art Gallery  \n3       Sushi Restaurant  \n4                   Farm  "
                    },
                    "execution_count": 91,
                    "metadata": {},
                    "output_type": "execute_result"
                }
            ],
            "source": "num_top_venues = 10\n\nindicators = ['st', 'nd', 'rd']\n\n# create columns according to number of top venues\ncolumns = ['Zipcode']\nfor ind in np.arange(num_top_venues):\n    try:\n        columns.append('{}{} Most Common Venue'.format(ind+1, indicators[ind]))\n    except:\n        columns.append('{}th Most Common Venue'.format(ind+1))\n\n# create a new dataframe\nzipcodes_venues_sorted = pd.DataFrame(columns=columns)\nzipcodes_venues_sorted['Zipcode'] = df_grouped['Zipcode']\n\nfor ind in np.arange(df_grouped.shape[0]):\n    zipcodes_venues_sorted.iloc[ind, 1:] = return_most_common_venues(df_grouped.iloc[ind, :], num_top_venues)\n\nzipcodes_venues_sorted.head()\n\n#zipcodes_venues_sorted[zipcodes_venues_sorted[\"Zipcode\"]==\"10026\"].head()\n\n"
        },
        {
            "cell_type": "markdown",
            "metadata": {},
            "source": "### cluster neighborhoods\n"
        },
        {
            "cell_type": "code",
            "execution_count": 92,
            "metadata": {},
            "outputs": [
                {
                    "name": "stdout",
                    "output_type": "stream",
                    "text": "10\n20\n30\n"
                },
                {
                    "data": {
                        "image/png": "[encoded data removed]",
                        "text/plain": "<Figure size 432x288 with 1 Axes>"
                    },
                    "metadata": {
                        "needs_background": "light"
                    },
                    "output_type": "display_data"
                },
                {
                    "data": {
                        "text/plain": "array([29, 25, 25, 25, 25, 25, 25, 25,  7,  7], dtype=int32)"
                    },
                    "execution_count": 92,
                    "metadata": {},
                    "output_type": "execute_result"
                }
            ],
            "source": "import matplotlib.pyplot as plt \n\n# set number of clusters\ncost =[]\nk_values = [i for i in range(2,40)]\n\ndf_grouped_clustering = df_grouped.drop('Zipcode', 1)\n#print (toronto_grouped_clustering.head())\n# run k-means clustering\nfor kclusters in k_values:\n    if kclusters %10==0 and kclusters > 0:\n        print (kclusters)\n    kmeans = KMeans(n_clusters=kclusters, random_state=0).fit(df_grouped_clustering)\n    #print (dir(kmeans))\n    #print (kmeans.inertia_)\n    cost.append(kmeans.inertia_)\n    \n# plot the cost against K values\nplt.plot(k_values, cost, color ='g', linewidth ='3')\nplt.xlabel(\"Value of K\")\nplt.ylabel(\"Sqaured Error (Cost)\")\nplt.show() # clear the plot\n\n# check cluster labels generated for each row in the dataframe\nkmeans.labels_[0:10] "
        },
        {
            "cell_type": "markdown",
            "metadata": {},
            "source": "### re-cluster with appropriate \"k\"-value"
        },
        {
            "cell_type": "code",
            "execution_count": 93,
            "metadata": {},
            "outputs": [],
            "source": "kmeans = KMeans(n_clusters=100, random_state=0).fit(df_grouped_clustering)\n"
        },
        {
            "cell_type": "markdown",
            "metadata": {},
            "source": "### create a new dataframe that includes the cluster as well as the top 10 venues for each neighborhood.\n"
        },
        {
            "cell_type": "code",
            "execution_count": 94,
            "metadata": {},
            "outputs": [
                {
                    "data": {
                        "text/html": "<div>\n<style scoped>\n    .dataframe tbody tr th:only-of-type {\n        vertical-align: middle;\n    }\n\n    .dataframe tbody tr th {\n        vertical-align: top;\n    }\n\n    .dataframe thead th {\n        text-align: right;\n    }\n</style>\n<table border=\"1\" class=\"dataframe\">\n  <thead>\n    <tr style=\"text-align: right;\">\n      <th></th>\n      <th>City</th>\n      <th>State</th>\n      <th>Zipcode</th>\n      <th>Latitude</th>\n      <th>Longitude</th>\n      <th>Cluster Labels</th>\n      <th>1st Most Common Venue</th>\n      <th>2nd Most Common Venue</th>\n      <th>3rd Most Common Venue</th>\n      <th>4th Most Common Venue</th>\n      <th>5th Most Common Venue</th>\n      <th>6th Most Common Venue</th>\n      <th>7th Most Common Venue</th>\n      <th>8th Most Common Venue</th>\n      <th>9th Most Common Venue</th>\n      <th>10th Most Common Venue</th>\n    </tr>\n  </thead>\n  <tbody>\n    <tr>\n      <th>0</th>\n      <td>New York City</td>\n      <td>New York</td>\n      <td>10001</td>\n      <td>40.750</td>\n      <td>-73.990</td>\n      <td>1.0</td>\n      <td>Korean Restaurant</td>\n      <td>Hotel</td>\n      <td>Coffee Shop</td>\n      <td>Gym / Fitness Center</td>\n      <td>Burger Joint</td>\n      <td>American Restaurant</td>\n      <td>Boxing Gym</td>\n      <td>Cosmetics Shop</td>\n      <td>Bakery</td>\n      <td>Clothing Store</td>\n    </tr>\n    <tr>\n      <th>1</th>\n      <td>New York City</td>\n      <td>New York</td>\n      <td>10002</td>\n      <td>40.720</td>\n      <td>-73.990</td>\n      <td>1.0</td>\n      <td>Cocktail Bar</td>\n      <td>Asian Restaurant</td>\n      <td>Caf\u00e9</td>\n      <td>Hotel</td>\n      <td>Pizza Place</td>\n      <td>Bar</td>\n      <td>Coffee Shop</td>\n      <td>Wine Bar</td>\n      <td>Ice Cream Shop</td>\n      <td>Art Gallery</td>\n    </tr>\n    <tr>\n      <th>2</th>\n      <td>New York City</td>\n      <td>New York</td>\n      <td>10003</td>\n      <td>40.730</td>\n      <td>-73.990</td>\n      <td>1.0</td>\n      <td>Coffee Shop</td>\n      <td>Japanese Restaurant</td>\n      <td>Italian Restaurant</td>\n      <td>Grocery Store</td>\n      <td>Dessert Shop</td>\n      <td>Ice Cream Shop</td>\n      <td>Caf\u00e9</td>\n      <td>Wine Shop</td>\n      <td>Pet Store</td>\n      <td>Sushi Restaurant</td>\n    </tr>\n    <tr>\n      <th>3</th>\n      <td>New York City</td>\n      <td>New York</td>\n      <td>10004</td>\n      <td>40.700</td>\n      <td>-74.020</td>\n      <td>0.0</td>\n      <td>Park</td>\n      <td>Pier</td>\n      <td>Historic Site</td>\n      <td>Harbor / Marina</td>\n      <td>Gym / Fitness Center</td>\n      <td>Snack Place</td>\n      <td>Monument / Landmark</td>\n      <td>Boat or Ferry</td>\n      <td>American Restaurant</td>\n      <td>Farm</td>\n    </tr>\n    <tr>\n      <th>4</th>\n      <td>New York City</td>\n      <td>New York</td>\n      <td>10005</td>\n      <td>40.705</td>\n      <td>-74.005</td>\n      <td>1.0</td>\n      <td>Coffee Shop</td>\n      <td>American Restaurant</td>\n      <td>Seafood Restaurant</td>\n      <td>Cocktail Bar</td>\n      <td>Pizza Place</td>\n      <td>Caf\u00e9</td>\n      <td>Italian Restaurant</td>\n      <td>Wine Shop</td>\n      <td>Restaurant</td>\n      <td>Food Truck</td>\n    </tr>\n    <tr>\n      <th>5</th>\n      <td>New York City</td>\n      <td>New York</td>\n      <td>10006</td>\n      <td>40.708</td>\n      <td>-74.013</td>\n      <td>1.0</td>\n      <td>Coffee Shop</td>\n      <td>Pizza Place</td>\n      <td>Hotel</td>\n      <td>Memorial Site</td>\n      <td>Park</td>\n      <td>Bar</td>\n      <td>Steakhouse</td>\n      <td>Wine Shop</td>\n      <td>Gourmet Shop</td>\n      <td>Gym / Fitness Center</td>\n    </tr>\n    <tr>\n      <th>6</th>\n      <td>New York City</td>\n      <td>New York</td>\n      <td>10007</td>\n      <td>40.714</td>\n      <td>-74.008</td>\n      <td>1.0</td>\n      <td>Coffee Shop</td>\n      <td>Sandwich Place</td>\n      <td>Park</td>\n      <td>Italian Restaurant</td>\n      <td>Gym / Fitness Center</td>\n      <td>Gym</td>\n      <td>Clothing Store</td>\n      <td>Bakery</td>\n      <td>Spa</td>\n      <td>Toy / Game Store</td>\n    </tr>\n    <tr>\n      <th>7</th>\n      <td>New York City</td>\n      <td>New York</td>\n      <td>10009</td>\n      <td>40.730</td>\n      <td>-73.980</td>\n      <td>57.0</td>\n      <td>Bar</td>\n      <td>Pizza Place</td>\n      <td>Bagel Shop</td>\n      <td>Mexican Restaurant</td>\n      <td>Italian Restaurant</td>\n      <td>Vietnamese Restaurant</td>\n      <td>Ice Cream Shop</td>\n      <td>Coffee Shop</td>\n      <td>Park</td>\n      <td>Ramen Restaurant</td>\n    </tr>\n    <tr>\n      <th>8</th>\n      <td>New York City</td>\n      <td>New York</td>\n      <td>10010</td>\n      <td>40.730</td>\n      <td>-73.980</td>\n      <td>57.0</td>\n      <td>Bar</td>\n      <td>Pizza Place</td>\n      <td>Bagel Shop</td>\n      <td>Mexican Restaurant</td>\n      <td>Italian Restaurant</td>\n      <td>Vietnamese Restaurant</td>\n      <td>Ice Cream Shop</td>\n      <td>Coffee Shop</td>\n      <td>Park</td>\n      <td>Ramen Restaurant</td>\n    </tr>\n    <tr>\n      <th>9</th>\n      <td>New York City</td>\n      <td>New York</td>\n      <td>10011</td>\n      <td>40.740</td>\n      <td>-74.000</td>\n      <td>1.0</td>\n      <td>Coffee Shop</td>\n      <td>Gym / Fitness Center</td>\n      <td>American Restaurant</td>\n      <td>Italian Restaurant</td>\n      <td>Bakery</td>\n      <td>Grocery Store</td>\n      <td>Caf\u00e9</td>\n      <td>Ice Cream Shop</td>\n      <td>Cosmetics Shop</td>\n      <td>New American Restaurant</td>\n    </tr>\n    <tr>\n      <th>10</th>\n      <td>New York City</td>\n      <td>New York</td>\n      <td>10012</td>\n      <td>40.726</td>\n      <td>-73.998</td>\n      <td>1.0</td>\n      <td>Italian Restaurant</td>\n      <td>Clothing Store</td>\n      <td>Boutique</td>\n      <td>Coffee Shop</td>\n      <td>Sushi Restaurant</td>\n      <td>Sporting Goods Shop</td>\n      <td>Bakery</td>\n      <td>Dessert Shop</td>\n      <td>Spa</td>\n      <td>Caf\u00e9</td>\n    </tr>\n    <tr>\n      <th>11</th>\n      <td>New York City</td>\n      <td>New York</td>\n      <td>10013</td>\n      <td>40.720</td>\n      <td>-74.010</td>\n      <td>1.0</td>\n      <td>Spa</td>\n      <td>Italian Restaurant</td>\n      <td>American Restaurant</td>\n      <td>Gym / Fitness Center</td>\n      <td>Park</td>\n      <td>Men's Store</td>\n      <td>French Restaurant</td>\n      <td>Boutique</td>\n      <td>Steakhouse</td>\n      <td>Cocktail Bar</td>\n    </tr>\n    <tr>\n      <th>12</th>\n      <td>New York City</td>\n      <td>New York</td>\n      <td>10014</td>\n      <td>40.740</td>\n      <td>-74.010</td>\n      <td>1.0</td>\n      <td>Italian Restaurant</td>\n      <td>Caf\u00e9</td>\n      <td>Coffee Shop</td>\n      <td>Market</td>\n      <td>Shoe Store</td>\n      <td>Roof Deck</td>\n      <td>Hotel</td>\n      <td>Seafood Restaurant</td>\n      <td>Wine Bar</td>\n      <td>Clothing Store</td>\n    </tr>\n    <tr>\n      <th>14</th>\n      <td>New York City</td>\n      <td>New York</td>\n      <td>10016</td>\n      <td>40.740</td>\n      <td>-73.970</td>\n      <td>1.0</td>\n      <td>Boat or Ferry</td>\n      <td>Caf\u00e9</td>\n      <td>American Restaurant</td>\n      <td>College Cafeteria</td>\n      <td>Arts &amp; Entertainment</td>\n      <td>Heliport</td>\n      <td>Beer Garden</td>\n      <td>Farm</td>\n      <td>Restaurant</td>\n      <td>Residential Building (Apartment / Condo)</td>\n    </tr>\n    <tr>\n      <th>15</th>\n      <td>New York City</td>\n      <td>New York</td>\n      <td>10017</td>\n      <td>40.750</td>\n      <td>-73.973</td>\n      <td>1.0</td>\n      <td>Coffee Shop</td>\n      <td>Japanese Restaurant</td>\n      <td>Sandwich Place</td>\n      <td>Deli / Bodega</td>\n      <td>Sushi Restaurant</td>\n      <td>Caf\u00e9</td>\n      <td>Park</td>\n      <td>Juice Bar</td>\n      <td>Burger Joint</td>\n      <td>Gym</td>\n    </tr>\n    <tr>\n      <th>16</th>\n      <td>New York City</td>\n      <td>New York</td>\n      <td>10018</td>\n      <td>40.760</td>\n      <td>-73.990</td>\n      <td>1.0</td>\n      <td>Theater</td>\n      <td>Burger Joint</td>\n      <td>Coffee Shop</td>\n      <td>Bar</td>\n      <td>Mexican Restaurant</td>\n      <td>French Restaurant</td>\n      <td>Hotel</td>\n      <td>Pizza Place</td>\n      <td>Gift Shop</td>\n      <td>Bakery</td>\n    </tr>\n    <tr>\n      <th>17</th>\n      <td>New York City</td>\n      <td>New York</td>\n      <td>10019</td>\n      <td>40.770</td>\n      <td>-73.990</td>\n      <td>0.0</td>\n      <td>Park</td>\n      <td>Coffee Shop</td>\n      <td>Theater</td>\n      <td>Sculpture Garden</td>\n      <td>Gym / Fitness Center</td>\n      <td>Hotel</td>\n      <td>Mediterranean Restaurant</td>\n      <td>Climbing Gym</td>\n      <td>River</td>\n      <td>Liquor Store</td>\n    </tr>\n    <tr>\n      <th>18</th>\n      <td>New York City</td>\n      <td>New York</td>\n      <td>10020</td>\n      <td>40.759</td>\n      <td>-73.981</td>\n      <td>1.0</td>\n      <td>Hotel</td>\n      <td>Theater</td>\n      <td>Steakhouse</td>\n      <td>Plaza</td>\n      <td>Clothing Store</td>\n      <td>French Restaurant</td>\n      <td>American Restaurant</td>\n      <td>Toy / Game Store</td>\n      <td>Concert Hall</td>\n      <td>Sushi Restaurant</td>\n    </tr>\n    <tr>\n      <th>19</th>\n      <td>New York City</td>\n      <td>New York</td>\n      <td>10021</td>\n      <td>40.770</td>\n      <td>-73.960</td>\n      <td>1.0</td>\n      <td>Italian Restaurant</td>\n      <td>Burger Joint</td>\n      <td>Cocktail Bar</td>\n      <td>Coffee Shop</td>\n      <td>Gym / Fitness Center</td>\n      <td>French Restaurant</td>\n      <td>Gourmet Shop</td>\n      <td>Cycle Studio</td>\n      <td>BBQ Joint</td>\n      <td>Salad Place</td>\n    </tr>\n    <tr>\n      <th>20</th>\n      <td>New York City</td>\n      <td>New York</td>\n      <td>10022</td>\n      <td>40.760</td>\n      <td>-73.970</td>\n      <td>1.0</td>\n      <td>Coffee Shop</td>\n      <td>Boutique</td>\n      <td>Furniture / Home Store</td>\n      <td>American Restaurant</td>\n      <td>Steakhouse</td>\n      <td>Hotel</td>\n      <td>Japanese Restaurant</td>\n      <td>Salon / Barbershop</td>\n      <td>Spa</td>\n      <td>Juice Bar</td>\n    </tr>\n  </tbody>\n</table>\n</div>",
                        "text/plain": "             City     State Zipcode  Latitude  Longitude  Cluster Labels  \\\n0   New York City  New York   10001    40.750    -73.990             1.0   \n1   New York City  New York   10002    40.720    -73.990             1.0   \n2   New York City  New York   10003    40.730    -73.990             1.0   \n3   New York City  New York   10004    40.700    -74.020             0.0   \n4   New York City  New York   10005    40.705    -74.005             1.0   \n5   New York City  New York   10006    40.708    -74.013             1.0   \n6   New York City  New York   10007    40.714    -74.008             1.0   \n7   New York City  New York   10009    40.730    -73.980            57.0   \n8   New York City  New York   10010    40.730    -73.980            57.0   \n9   New York City  New York   10011    40.740    -74.000             1.0   \n10  New York City  New York   10012    40.726    -73.998             1.0   \n11  New York City  New York   10013    40.720    -74.010             1.0   \n12  New York City  New York   10014    40.740    -74.010             1.0   \n14  New York City  New York   10016    40.740    -73.970             1.0   \n15  New York City  New York   10017    40.750    -73.973             1.0   \n16  New York City  New York   10018    40.760    -73.990             1.0   \n17  New York City  New York   10019    40.770    -73.990             0.0   \n18  New York City  New York   10020    40.759    -73.981             1.0   \n19  New York City  New York   10021    40.770    -73.960             1.0   \n20  New York City  New York   10022    40.760    -73.970             1.0   \n\n   1st Most Common Venue 2nd Most Common Venue   3rd Most Common Venue  \\\n0      Korean Restaurant                 Hotel             Coffee Shop   \n1           Cocktail Bar      Asian Restaurant                    Caf\u00e9   \n2            Coffee Shop   Japanese Restaurant      Italian Restaurant   \n3                   Park                  Pier           Historic Site   \n4            Coffee Shop   American Restaurant      Seafood Restaurant   \n5            Coffee Shop           Pizza Place                   Hotel   \n6            Coffee Shop        Sandwich Place                    Park   \n7                    Bar           Pizza Place              Bagel Shop   \n8                    Bar           Pizza Place              Bagel Shop   \n9            Coffee Shop  Gym / Fitness Center     American Restaurant   \n10    Italian Restaurant        Clothing Store                Boutique   \n11                   Spa    Italian Restaurant     American Restaurant   \n12    Italian Restaurant                  Caf\u00e9             Coffee Shop   \n14         Boat or Ferry                  Caf\u00e9     American Restaurant   \n15           Coffee Shop   Japanese Restaurant          Sandwich Place   \n16               Theater          Burger Joint             Coffee Shop   \n17                  Park           Coffee Shop                 Theater   \n18                 Hotel               Theater              Steakhouse   \n19    Italian Restaurant          Burger Joint            Cocktail Bar   \n20           Coffee Shop              Boutique  Furniture / Home Store   \n\n   4th Most Common Venue 5th Most Common Venue  6th Most Common Venue  \\\n0   Gym / Fitness Center          Burger Joint    American Restaurant   \n1                  Hotel           Pizza Place                    Bar   \n2          Grocery Store          Dessert Shop         Ice Cream Shop   \n3        Harbor / Marina  Gym / Fitness Center            Snack Place   \n4           Cocktail Bar           Pizza Place                   Caf\u00e9   \n5          Memorial Site                  Park                    Bar   \n6     Italian Restaurant  Gym / Fitness Center                    Gym   \n7     Mexican Restaurant    Italian Restaurant  Vietnamese Restaurant   \n8     Mexican Restaurant    Italian Restaurant  Vietnamese Restaurant   \n9     Italian Restaurant                Bakery          Grocery Store   \n10           Coffee Shop      Sushi Restaurant    Sporting Goods Shop   \n11  Gym / Fitness Center                  Park            Men's Store   \n12                Market            Shoe Store              Roof Deck   \n14     College Cafeteria  Arts & Entertainment               Heliport   \n15         Deli / Bodega      Sushi Restaurant                   Caf\u00e9   \n16                   Bar    Mexican Restaurant      French Restaurant   \n17      Sculpture Garden  Gym / Fitness Center                  Hotel   \n18                 Plaza        Clothing Store      French Restaurant   \n19           Coffee Shop  Gym / Fitness Center      French Restaurant   \n20   American Restaurant            Steakhouse                  Hotel   \n\n       7th Most Common Venue 8th Most Common Venue 9th Most Common Venue  \\\n0                 Boxing Gym        Cosmetics Shop                Bakery   \n1                Coffee Shop              Wine Bar        Ice Cream Shop   \n2                       Caf\u00e9             Wine Shop             Pet Store   \n3        Monument / Landmark         Boat or Ferry   American Restaurant   \n4         Italian Restaurant             Wine Shop            Restaurant   \n5                 Steakhouse             Wine Shop          Gourmet Shop   \n6             Clothing Store                Bakery                   Spa   \n7             Ice Cream Shop           Coffee Shop                  Park   \n8             Ice Cream Shop           Coffee Shop                  Park   \n9                       Caf\u00e9        Ice Cream Shop        Cosmetics Shop   \n10                    Bakery          Dessert Shop                   Spa   \n11         French Restaurant              Boutique            Steakhouse   \n12                     Hotel    Seafood Restaurant              Wine Bar   \n14               Beer Garden                  Farm            Restaurant   \n15                      Park             Juice Bar          Burger Joint   \n16                     Hotel           Pizza Place             Gift Shop   \n17  Mediterranean Restaurant          Climbing Gym                 River   \n18       American Restaurant      Toy / Game Store          Concert Hall   \n19              Gourmet Shop          Cycle Studio             BBQ Joint   \n20       Japanese Restaurant    Salon / Barbershop                   Spa   \n\n                      10th Most Common Venue  \n0                             Clothing Store  \n1                                Art Gallery  \n2                           Sushi Restaurant  \n3                                       Farm  \n4                                 Food Truck  \n5                       Gym / Fitness Center  \n6                           Toy / Game Store  \n7                           Ramen Restaurant  \n8                           Ramen Restaurant  \n9                    New American Restaurant  \n10                                      Caf\u00e9  \n11                              Cocktail Bar  \n12                            Clothing Store  \n14  Residential Building (Apartment / Condo)  \n15                                       Gym  \n16                                    Bakery  \n17                              Liquor Store  \n18                          Sushi Restaurant  \n19                               Salad Place  \n20                                 Juice Bar  "
                    },
                    "execution_count": 94,
                    "metadata": {},
                    "output_type": "execute_result"
                }
            ],
            "source": "# add clustering labels\nzipcodes_venues_sorted.insert(0, 'Cluster Labels', kmeans.labels_)\n\ndf_merged = df\n\n# merge df_grouped with df_data to add latitude/longitude for each zipcode\ndf_merged = df_merged.join(zipcodes_venues_sorted.set_index('Zipcode'), on='Zipcode')\n\n# DBX -> FIX\ndf_merged = df_merged.dropna()\n\ndf_merged.head(20) # check the last columns!"
        },
        {
            "cell_type": "markdown",
            "metadata": {},
            "source": "### compare neigbhorhoods of a specific city as well as with neighborhoods in different cities\n"
        },
        {
            "cell_type": "code",
            "execution_count": 96,
            "metadata": {},
            "outputs": [],
            "source": "# compare cluster IDs of neighborhoods\n# --> REMOVE ???\n\nzips = list(df_merged[\"Zipcode\"])\nvals = []\n\ndiff_n = 0\nsame_n = 0\n\nfor i1 in range(0,len(zips)):\n    #print (zips[i1])\n    #print (i1)\n    for i2 in range(i1+1,len(zips)):\n    \n        #print (zips[i1],zips[i2])\n        x1 =  df_merged[df_merged[\"Zipcode\"]==zips[i1]]\n        x2 =  df_merged[df_merged[\"Zipcode\"]==zips[i2]]\n        # append identical city, cluster labels\n        #vals.append([ (x1[\"City\"].values)[0] == (x2[\"City\"].values)[0] , (x1[\"Cluster Labels\"].values)[0] == (x2[\"Cluster Labels\"].values)[0] ])\n        \n        #if (x1[\"City\"].values)[0] == (x2[\"City\"].values)[0] :\n            \n\n        #break\n        if i2> 20: #REMOVE --------------------\n            break\n    break\n#print (vals)\n            "
        },
        {
            "cell_type": "code",
            "execution_count": 97,
            "metadata": {},
            "outputs": [],
            "source": "# compare distance (Euclidean distance) between neighborhoods"
        },
        {
            "cell_type": "markdown",
            "metadata": {},
            "source": "### Find cluster information for respective zipcode"
        },
        {
            "cell_type": "code",
            "execution_count": 98,
            "metadata": {},
            "outputs": [
                {
                    "name": "stdout",
                    "output_type": "stream",
                    "text": "1.0\n"
                }
            ],
            "source": "# Venuue type -> \"Southern / Soul Food Restaurant\"\n#print (info)\n\ncluster_nr =   ((df_merged[df_merged[\"Zipcode\"]==\"10026\"])[\"Cluster Labels\"].values )[0]\n\nprint (cluster_nr)\n"
        },
        {
            "cell_type": "code",
            "execution_count": 102,
            "metadata": {
                "scrolled": true
            },
            "outputs": [
                {
                    "name": "stdout",
                    "output_type": "stream",
                    "text": "(133, 16)\n"
                },
                {
                    "data": {
                        "text/html": "<div>\n<style scoped>\n    .dataframe tbody tr th:only-of-type {\n        vertical-align: middle;\n    }\n\n    .dataframe tbody tr th {\n        vertical-align: top;\n    }\n\n    .dataframe thead th {\n        text-align: right;\n    }\n</style>\n<table border=\"1\" class=\"dataframe\">\n  <thead>\n    <tr style=\"text-align: right;\">\n      <th></th>\n      <th>City</th>\n      <th>State</th>\n      <th>Zipcode</th>\n      <th>Latitude</th>\n      <th>Longitude</th>\n      <th>Cluster Labels</th>\n      <th>1st Most Common Venue</th>\n      <th>2nd Most Common Venue</th>\n      <th>3rd Most Common Venue</th>\n      <th>4th Most Common Venue</th>\n      <th>5th Most Common Venue</th>\n      <th>6th Most Common Venue</th>\n      <th>7th Most Common Venue</th>\n      <th>8th Most Common Venue</th>\n      <th>9th Most Common Venue</th>\n      <th>10th Most Common Venue</th>\n    </tr>\n  </thead>\n  <tbody>\n    <tr>\n      <th>0</th>\n      <td>New York City</td>\n      <td>New York</td>\n      <td>10001</td>\n      <td>40.750</td>\n      <td>-73.990</td>\n      <td>1.0</td>\n      <td>Korean Restaurant</td>\n      <td>Hotel</td>\n      <td>Coffee Shop</td>\n      <td>Gym / Fitness Center</td>\n      <td>Burger Joint</td>\n      <td>American Restaurant</td>\n      <td>Boxing Gym</td>\n      <td>Cosmetics Shop</td>\n      <td>Bakery</td>\n      <td>Clothing Store</td>\n    </tr>\n    <tr>\n      <th>1</th>\n      <td>New York City</td>\n      <td>New York</td>\n      <td>10002</td>\n      <td>40.720</td>\n      <td>-73.990</td>\n      <td>1.0</td>\n      <td>Cocktail Bar</td>\n      <td>Asian Restaurant</td>\n      <td>Caf\u00e9</td>\n      <td>Hotel</td>\n      <td>Pizza Place</td>\n      <td>Bar</td>\n      <td>Coffee Shop</td>\n      <td>Wine Bar</td>\n      <td>Ice Cream Shop</td>\n      <td>Art Gallery</td>\n    </tr>\n    <tr>\n      <th>2</th>\n      <td>New York City</td>\n      <td>New York</td>\n      <td>10003</td>\n      <td>40.730</td>\n      <td>-73.990</td>\n      <td>1.0</td>\n      <td>Coffee Shop</td>\n      <td>Japanese Restaurant</td>\n      <td>Italian Restaurant</td>\n      <td>Grocery Store</td>\n      <td>Dessert Shop</td>\n      <td>Ice Cream Shop</td>\n      <td>Caf\u00e9</td>\n      <td>Wine Shop</td>\n      <td>Pet Store</td>\n      <td>Sushi Restaurant</td>\n    </tr>\n    <tr>\n      <th>4</th>\n      <td>New York City</td>\n      <td>New York</td>\n      <td>10005</td>\n      <td>40.705</td>\n      <td>-74.005</td>\n      <td>1.0</td>\n      <td>Coffee Shop</td>\n      <td>American Restaurant</td>\n      <td>Seafood Restaurant</td>\n      <td>Cocktail Bar</td>\n      <td>Pizza Place</td>\n      <td>Caf\u00e9</td>\n      <td>Italian Restaurant</td>\n      <td>Wine Shop</td>\n      <td>Restaurant</td>\n      <td>Food Truck</td>\n    </tr>\n    <tr>\n      <th>5</th>\n      <td>New York City</td>\n      <td>New York</td>\n      <td>10006</td>\n      <td>40.708</td>\n      <td>-74.013</td>\n      <td>1.0</td>\n      <td>Coffee Shop</td>\n      <td>Pizza Place</td>\n      <td>Hotel</td>\n      <td>Memorial Site</td>\n      <td>Park</td>\n      <td>Bar</td>\n      <td>Steakhouse</td>\n      <td>Wine Shop</td>\n      <td>Gourmet Shop</td>\n      <td>Gym / Fitness Center</td>\n    </tr>\n  </tbody>\n</table>\n</div>",
                        "text/plain": "            City     State Zipcode  Latitude  Longitude  Cluster Labels  \\\n0  New York City  New York   10001    40.750    -73.990             1.0   \n1  New York City  New York   10002    40.720    -73.990             1.0   \n2  New York City  New York   10003    40.730    -73.990             1.0   \n4  New York City  New York   10005    40.705    -74.005             1.0   \n5  New York City  New York   10006    40.708    -74.013             1.0   \n\n  1st Most Common Venue 2nd Most Common Venue 3rd Most Common Venue  \\\n0     Korean Restaurant                 Hotel           Coffee Shop   \n1          Cocktail Bar      Asian Restaurant                  Caf\u00e9   \n2           Coffee Shop   Japanese Restaurant    Italian Restaurant   \n4           Coffee Shop   American Restaurant    Seafood Restaurant   \n5           Coffee Shop           Pizza Place                 Hotel   \n\n  4th Most Common Venue 5th Most Common Venue 6th Most Common Venue  \\\n0  Gym / Fitness Center          Burger Joint   American Restaurant   \n1                 Hotel           Pizza Place                   Bar   \n2         Grocery Store          Dessert Shop        Ice Cream Shop   \n4          Cocktail Bar           Pizza Place                  Caf\u00e9   \n5         Memorial Site                  Park                   Bar   \n\n  7th Most Common Venue 8th Most Common Venue 9th Most Common Venue  \\\n0            Boxing Gym        Cosmetics Shop                Bakery   \n1           Coffee Shop              Wine Bar        Ice Cream Shop   \n2                  Caf\u00e9             Wine Shop             Pet Store   \n4    Italian Restaurant             Wine Shop            Restaurant   \n5            Steakhouse             Wine Shop          Gourmet Shop   \n\n  10th Most Common Venue  \n0         Clothing Store  \n1            Art Gallery  \n2       Sushi Restaurant  \n4             Food Truck  \n5   Gym / Fitness Center  "
                    },
                    "execution_count": 102,
                    "metadata": {},
                    "output_type": "execute_result"
                }
            ],
            "source": "cluster = df_merged[df_merged[\"Cluster Labels\"]==cluster_nr]\n\nprint (cluster.shape)\n\ncluster.head()\n\n"
        },
        {
            "cell_type": "code",
            "execution_count": 105,
            "metadata": {},
            "outputs": [],
            "source": "# DBX TO DO: go through list and identify zip codes in cluster which:\n# -> do not have a \"Southern / Soul Food Restaurant\" venue in the top 10 list\n# -> check gegraphical distance\n# -> euclidan vector distance\n# -> check number of restaurants is below average ? or there are at least some restaurants in the area\n\n"
        },
        {
            "cell_type": "code",
            "execution_count": null,
            "metadata": {},
            "outputs": [],
            "source": ""
        },
        {
            "cell_type": "code",
            "execution_count": null,
            "metadata": {},
            "outputs": [],
            "source": ""
        },
        {
            "cell_type": "markdown",
            "metadata": {},
            "source": "### display cluster information of zip codes on map\n"
        },
        {
            "cell_type": "code",
            "execution_count": null,
            "metadata": {
                "scrolled": true
            },
            "outputs": [],
            "source": "# create map\naddress = 'San Jose, California'\n\ngeolocator = Nominatim(user_agent=\"us_explorer\")\nlocation = geolocator.geocode(address)\nlatitude = location.latitude\nlongitude = location.longitude\n\nmap_clusters = folium.Map(location=[latitude, longitude], zoom_start=10.5)\n\n# set color scheme for the clusters\nx = np.arange(kclusters)\nys = [i + x + (i*x)**2 for i in range(kclusters)]\ncolors_array = cm.rainbow(np.linspace(0, 1, len(ys)))\nrainbow = [colors.rgb2hex(i) for i in colors_array]\n\n# add markers to the map\nmarkers_colors = []\nfor lat, lon, poi, cluster in zip(df_merged['Latitude'], df_merged['Longitude'], df_merged['Zipcode'], df_merged['Cluster Labels']):\n    label = folium.Popup(str(poi) + ' Cluster ' + str(cluster), parse_html=True)\n    folium.CircleMarker(\n        [lat, lon],\n        radius=5,\n        popup=label,\n        color=rainbow[(int(cluster))-1],\n        fill=True,\n        fill_color=rainbow[int(cluster-1)],\n        fill_opacity=0.7).add_to(map_clusters)\n       \nmap_clusters"
        },
        {
            "cell_type": "code",
            "execution_count": null,
            "metadata": {},
            "outputs": [],
            "source": ""
        },
        {
            "cell_type": "code",
            "execution_count": null,
            "metadata": {},
            "outputs": [],
            "source": ""
        },
        {
            "cell_type": "code",
            "execution_count": null,
            "metadata": {},
            "outputs": [],
            "source": ""
        },
        {
            "cell_type": "code",
            "execution_count": null,
            "metadata": {},
            "outputs": [],
            "source": ""
        },
        {
            "cell_type": "code",
            "execution_count": null,
            "metadata": {},
            "outputs": [],
            "source": ""
        },
        {
            "cell_type": "code",
            "execution_count": null,
            "metadata": {},
            "outputs": [],
            "source": ""
        },
        {
            "cell_type": "code",
            "execution_count": null,
            "metadata": {},
            "outputs": [],
            "source": ""
        }
    ],
    "metadata": {
        "kernelspec": {
            "display_name": "Python 3.7",
            "language": "python",
            "name": "python3"
        },
        "language_info": {
            "codemirror_mode": {
                "name": "ipython",
                "version": 3
            },
            "file_extension": ".py",
            "mimetype": "text/x-python",
            "name": "python",
            "nbconvert_exporter": "python",
            "pygments_lexer": "ipython3",
            "version": "3.7.10"
        }
    },
    "nbformat": 4,
    "nbformat_minor": 5
}