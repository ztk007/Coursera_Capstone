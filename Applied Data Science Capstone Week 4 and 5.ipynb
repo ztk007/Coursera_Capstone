{
    "cells": [
        {
            "cell_type": "markdown",
            "metadata": {},
            "source": "# Project Overview\n\nThis is a slightly modified approach to what we worked on in the first three weeks of the Capstone project. Here the list of neighboorhoods which was used for Toronto and New York is replaced by a postal zip codes. The latter was done as a surrogate for the neighborhood definition and allows unified and easy access to all US cities. In addition, the zip code database also includes the latitude and longitudes of the respective area.\n"
        },
        {
            "cell_type": "markdown",
            "metadata": {},
            "source": "# TO DO :\n- Check NAN zip codes -> regenerate missing\n- check unique longitutde , latitude values for zip codes"
        },
        {
            "cell_type": "markdown",
            "metadata": {},
            "source": "### Import libraries\n"
        },
        {
            "cell_type": "code",
            "execution_count": 45,
            "metadata": {},
            "outputs": [
                {
                    "name": "stdout",
                    "output_type": "stream",
                    "text": "/opt/conda/envs/Python-3.7-main/lib/python3.7/site-packages/secretstorage/dhcrypto.py:16: CryptographyDeprecationWarning: int_from_bytes is deprecated, use int.from_bytes instead\n  from cryptography.utils import int_from_bytes\n/opt/conda/envs/Python-3.7-main/lib/python3.7/site-packages/secretstorage/util.py:25: CryptographyDeprecationWarning: int_from_bytes is deprecated, use int.from_bytes instead\n  from cryptography.utils import int_from_bytes\nRequirement already satisfied: bs4 in /opt/conda/envs/Python-3.7-main/lib/python3.7/site-packages (0.0.1)\nRequirement already satisfied: beautifulsoup4 in /opt/conda/envs/Python-3.7-main/lib/python3.7/site-packages (from bs4) (4.9.1)\nRequirement already satisfied: soupsieve>1.2 in /opt/conda/envs/Python-3.7-main/lib/python3.7/site-packages (from beautifulsoup4->bs4) (2.0.1)\n/opt/conda/envs/Python-3.7-main/lib/python3.7/site-packages/secretstorage/dhcrypto.py:16: CryptographyDeprecationWarning: int_from_bytes is deprecated, use int.from_bytes instead\n  from cryptography.utils import int_from_bytes\n/opt/conda/envs/Python-3.7-main/lib/python3.7/site-packages/secretstorage/util.py:25: CryptographyDeprecationWarning: int_from_bytes is deprecated, use int.from_bytes instead\n  from cryptography.utils import int_from_bytes\nRequirement already satisfied: uszipcode in /opt/conda/envs/Python-3.7-main/lib/python3.7/site-packages (0.2.5)\nRequirement already satisfied: requests in /opt/conda/envs/Python-3.7-main/lib/python3.7/site-packages (from uszipcode) (2.24.0)\nRequirement already satisfied: pathlib-mate in /opt/conda/envs/Python-3.7-main/lib/python3.7/site-packages (from uszipcode) (1.0.1)\nRequirement already satisfied: SQLAlchemy>=1.4.0 in /opt/conda/envs/Python-3.7-main/lib/python3.7/site-packages (from uszipcode) (1.4.13)\nRequirement already satisfied: attrs in /opt/conda/envs/Python-3.7-main/lib/python3.7/site-packages (from uszipcode) (19.3.0)\nRequirement already satisfied: urllib3!=1.25.0,!=1.25.1,<1.26,>=1.21.1 in /opt/conda/envs/Python-3.7-main/lib/python3.7/site-packages (from requests->uszipcode) (1.25.9)\nRequirement already satisfied: idna<3,>=2.5 in /opt/conda/envs/Python-3.7-main/lib/python3.7/site-packages (from requests->uszipcode) (2.9)\nRequirement already satisfied: chardet<4,>=3.0.2 in /opt/conda/envs/Python-3.7-main/lib/python3.7/site-packages (from requests->uszipcode) (3.0.4)\nRequirement already satisfied: certifi>=2017.4.17 in /opt/conda/envs/Python-3.7-main/lib/python3.7/site-packages (from requests->uszipcode) (2020.12.5)\nRequirement already satisfied: atomicwrites in /opt/conda/envs/Python-3.7-main/lib/python3.7/site-packages (from pathlib-mate->uszipcode) (1.4.0)\nRequirement already satisfied: six in /opt/conda/envs/Python-3.7-main/lib/python3.7/site-packages (from pathlib-mate->uszipcode) (1.15.0)\nRequirement already satisfied: autopep8 in /opt/conda/envs/Python-3.7-main/lib/python3.7/site-packages (from pathlib-mate->uszipcode) (1.5.7)\nRequirement already satisfied: importlib-metadata; python_version < \"3.8\" in /opt/conda/envs/Python-3.7-main/lib/python3.7/site-packages (from SQLAlchemy>=1.4.0->uszipcode) (1.6.1)\nRequirement already satisfied: greenlet!=0.4.17; python_version >= \"3\" in /opt/conda/envs/Python-3.7-main/lib/python3.7/site-packages (from SQLAlchemy>=1.4.0->uszipcode) (1.0.0)\nRequirement already satisfied: pycodestyle>=2.7.0 in /opt/conda/envs/Python-3.7-main/lib/python3.7/site-packages (from autopep8->pathlib-mate->uszipcode) (2.7.0)\nRequirement already satisfied: toml in /opt/conda/envs/Python-3.7-main/lib/python3.7/site-packages (from autopep8->pathlib-mate->uszipcode) (0.10.2)\nRequirement already satisfied: zipp>=0.5 in /opt/conda/envs/Python-3.7-main/lib/python3.7/site-packages (from importlib-metadata; python_version < \"3.8\"->SQLAlchemy>=1.4.0->uszipcode) (3.1.0)\nLibraries imported\n"
                }
            ],
            "source": "!pip install bs4\nfrom bs4 import BeautifulSoup\n\n!pip install uszipcode\nfrom uszipcode import SearchEngine\n\nimport numpy as np\n\nimport pandas as pd\nimport requests\nprint (\"Libraries imported\")"
        },
        {
            "cell_type": "markdown",
            "metadata": {},
            "source": "### Download list of most populated cities in US"
        },
        {
            "cell_type": "code",
            "execution_count": 5,
            "metadata": {},
            "outputs": [],
            "source": "# get list of most populous US cities from Wikipedia\n\nurl = \"https://en.wikipedia.org/wiki/List_of_United_States_cities_by_population\"\nhtml = requests.get(url).text\n"
        },
        {
            "cell_type": "markdown",
            "metadata": {},
            "source": "### Extract table with BeautifulSoup"
        },
        {
            "cell_type": "code",
            "execution_count": 6,
            "metadata": {},
            "outputs": [
                {
                    "name": "stdout",
                    "output_type": "stream",
                    "text": "Table found\n"
                }
            ],
            "source": "\n# get all tables with BeautifulSoup\nsoup = BeautifulSoup(html,\"html5lib\")\n\ntables = soup.find_all(\"table\")\ntable_index= -1\ntable = None\n\n# find the correct table \nfor i,table in enumerate(tables):\n    if \"New York City\" in str(table) and \"Chicago\" in str(table): #\n        table_index = i\n        #break # first table which \n\nif table_index >=0:\n    table = tables[table_index]\n    print (\"Table found\")\n    #print (table)\nelse:\n    print (\"No valid table found\")\n    table = None\n\n"
        },
        {
            "cell_type": "markdown",
            "metadata": {},
            "source": "### Extract required data from table and generate a pandas dataframe for cities with at least 1M inhabitants"
        },
        {
            "cell_type": "code",
            "execution_count": 7,
            "metadata": {},
            "outputs": [
                {
                    "data": {
                        "text/html": "<div>\n<style scoped>\n    .dataframe tbody tr th:only-of-type {\n        vertical-align: middle;\n    }\n\n    .dataframe tbody tr th {\n        vertical-align: top;\n    }\n\n    .dataframe thead th {\n        text-align: right;\n    }\n</style>\n<table border=\"1\" class=\"dataframe\">\n  <thead>\n    <tr style=\"text-align: right;\">\n      <th></th>\n      <th>City</th>\n      <th>State</th>\n      <th>Size Estimate</th>\n    </tr>\n  </thead>\n  <tbody>\n    <tr>\n      <th>0</th>\n      <td>New York City</td>\n      <td>New York</td>\n      <td>8336817</td>\n    </tr>\n    <tr>\n      <th>1</th>\n      <td>Los Angeles</td>\n      <td>California</td>\n      <td>3979576</td>\n    </tr>\n    <tr>\n      <th>2</th>\n      <td>Chicago</td>\n      <td>Illinois</td>\n      <td>2693976</td>\n    </tr>\n    <tr>\n      <th>3</th>\n      <td>Houston</td>\n      <td>Texas</td>\n      <td>2320268</td>\n    </tr>\n    <tr>\n      <th>4</th>\n      <td>Phoenix</td>\n      <td>Arizona</td>\n      <td>1680992</td>\n    </tr>\n    <tr>\n      <th>5</th>\n      <td>Philadelphia</td>\n      <td>Pennsylvania</td>\n      <td>1584064</td>\n    </tr>\n    <tr>\n      <th>6</th>\n      <td>San Antonio</td>\n      <td>Texas</td>\n      <td>1547253</td>\n    </tr>\n    <tr>\n      <th>7</th>\n      <td>San Diego</td>\n      <td>California</td>\n      <td>1423851</td>\n    </tr>\n    <tr>\n      <th>8</th>\n      <td>Dallas</td>\n      <td>Texas</td>\n      <td>1343573</td>\n    </tr>\n    <tr>\n      <th>9</th>\n      <td>San Jose</td>\n      <td>California</td>\n      <td>1021795</td>\n    </tr>\n  </tbody>\n</table>\n</div>",
                        "text/plain": "            City         State  Size Estimate\n0  New York City      New York        8336817\n1    Los Angeles    California        3979576\n2        Chicago      Illinois        2693976\n3        Houston         Texas        2320268\n4        Phoenix       Arizona        1680992\n5   Philadelphia  Pennsylvania        1584064\n6    San Antonio         Texas        1547253\n7      San Diego    California        1423851\n8         Dallas         Texas        1343573\n9       San Jose    California        1021795"
                    },
                    "execution_count": 7,
                    "metadata": {},
                    "output_type": "execute_result"
                }
            ],
            "source": "\ntable_contents=[]\n\n# loop over all cells in the table \nfor i,row in enumerate(table.findAll('tr')): # orig: td\n    \n    #create dictionary for a given cell to be added to dataframe\n\n    if not i:\n        #skip header\n        continue\n\n    arr = (row.text).split(\"\\n\")\n    cell = {}\n\n    if len(arr)>17:\n        #city \n        cell['City'] = arr[3].split(\"[\")[0]\n        #state \n        cell['State'] = arr[5].replace(\"\\xa0\",\"\")\n        #print (arr)\n        cell['Size Estimate'] = int(arr[7].replace(\",\",\"\"))\n\n        #print (cell)\n        \n        table_contents.append(cell)\n\n#print(table_contents)\n# print(table_contents)\ncities = pd.DataFrame(table_contents)\n\ncities.head(10)"
        },
        {
            "cell_type": "markdown",
            "metadata": {},
            "source": "### Download zipcode database"
        },
        {
            "cell_type": "code",
            "execution_count": 8,
            "metadata": {},
            "outputs": [
                {
                    "name": "stdout",
                    "output_type": "stream",
                    "text": "Start downloading data for simple zipcode database, total size 9MB ...\n  1 MB finished ...\n  2 MB finished ...\n  3 MB finished ...\n  4 MB finished ...\n  5 MB finished ...\n  6 MB finished ...\n  7 MB finished ...\n  8 MB finished ...\n  9 MB finished ...\n  10 MB finished ...\n  Complete!\n"
                }
            ],
            "source": "\n#download zip code database\nsearch = SearchEngine(simple_zipcode=True) # simple_zipcode=False\n"
        },
        {
            "cell_type": "markdown",
            "metadata": {},
            "source": "### Retrieve all zipcodes for cities with 1M or more inhabitants"
        },
        {
            "cell_type": "code",
            "execution_count": 9,
            "metadata": {},
            "outputs": [
                {
                    "name": "stdout",
                    "output_type": "stream",
                    "text": "Retrieved 99 zip codes for New York City\nRetrieved 64 zip codes for Los Angeles\nRetrieved 58 zip codes for Chicago\nRetrieved 106 zip codes for Houston\nRetrieved 53 zip codes for Phoenix\nRetrieved 56 zip codes for Philadelphia\nRetrieved 68 zip codes for San Antonio\nRetrieved 36 zip codes for San Diego\nRetrieved 63 zip codes for Dallas\nRetrieved 32 zip codes for San Jose\n"
                },
                {
                    "data": {
                        "text/html": "<div>\n<style scoped>\n    .dataframe tbody tr th:only-of-type {\n        vertical-align: middle;\n    }\n\n    .dataframe tbody tr th {\n        vertical-align: top;\n    }\n\n    .dataframe thead th {\n        text-align: right;\n    }\n</style>\n<table border=\"1\" class=\"dataframe\">\n  <thead>\n    <tr style=\"text-align: right;\">\n      <th></th>\n      <th>City</th>\n      <th>State</th>\n      <th>Zipcode</th>\n      <th>Latitude</th>\n      <th>Longitude</th>\n    </tr>\n  </thead>\n  <tbody>\n    <tr>\n      <th>0</th>\n      <td>New York City</td>\n      <td>New York</td>\n      <td>10001</td>\n      <td>40.750</td>\n      <td>-73.990</td>\n    </tr>\n    <tr>\n      <th>1</th>\n      <td>New York City</td>\n      <td>New York</td>\n      <td>10002</td>\n      <td>40.720</td>\n      <td>-73.990</td>\n    </tr>\n    <tr>\n      <th>2</th>\n      <td>New York City</td>\n      <td>New York</td>\n      <td>10003</td>\n      <td>40.730</td>\n      <td>-73.990</td>\n    </tr>\n    <tr>\n      <th>3</th>\n      <td>New York City</td>\n      <td>New York</td>\n      <td>10004</td>\n      <td>40.700</td>\n      <td>-74.020</td>\n    </tr>\n    <tr>\n      <th>4</th>\n      <td>New York City</td>\n      <td>New York</td>\n      <td>10005</td>\n      <td>40.705</td>\n      <td>-74.005</td>\n    </tr>\n  </tbody>\n</table>\n</div>",
                        "text/plain": "            City     State Zipcode  Latitude  Longitude\n0  New York City  New York   10001    40.750    -73.990\n1  New York City  New York   10002    40.720    -73.990\n2  New York City  New York   10003    40.730    -73.990\n3  New York City  New York   10004    40.700    -74.020\n4  New York City  New York   10005    40.705    -74.005"
                    },
                    "execution_count": 9,
                    "metadata": {},
                    "output_type": "execute_result"
                }
            ],
            "source": "#cities with at least one million inhabitants\ntmpdata = []\n\nfor city, state,size in zip(cities[\"City\"],cities[\"State\"],cities[\"Size Estimate\"]):\n    if size > 1000000:\n        #res = search.by_city_and_state(city, state)\n        res = search.by_city(city=city, returns=0)\n        if not len(res):\n            print (\"Error occurred for {}\".format(city))\n        else:\n            #pcode = {}\n            print (\"Retrieved {} zip codes for {}\".format(len(res),city))\n            #city_zipcodes[city] = [z.zipcode for z in res]\n            for z in res:\n                pcode = {'City':city,'State':state,'Zipcode':z.zipcode,'Latitude':z.lat,'Longitude':z.lng}\n                tmpdata.append(pcode)\n        #break   # REMOVE ------------------------------\ncity_wzipcodes =  pd.DataFrame(tmpdata)\ncity_wzipcodes.head()"
        },
        {
            "cell_type": "markdown",
            "metadata": {},
            "source": "### Set up foursquare information"
        },
        {
            "cell_type": "code",
            "execution_count": 10,
            "metadata": {},
            "outputs": [],
            "source": "# The code was removed by Watson Studio for sharing."
        },
        {
            "cell_type": "markdown",
            "metadata": {},
            "source": "### Function to retrieve location data from foursquare"
        },
        {
            "cell_type": "code",
            "execution_count": 31,
            "metadata": {},
            "outputs": [],
            "source": "\ndef getNearbyVenues(names, latitudes, longitudes, radius=500):\n    \n    venues_list=[]\n    for name, lat, lng in zip(names, latitudes, longitudes):\n        #print(name)\n            \n        # create the API request URL\n        url = 'https://api.foursquare.com/v2/venues/explore?&client_id={}&client_secret={}&v={}&ll={},{}&radius={}&limit={}'.format(\n            CLIENT_ID, \n            CLIENT_SECRET, \n            VERSION, \n            lat, \n            lng, \n            radius, \n            LIMIT)\n            \n        # make the GET request\n        #print (url) #REMOVE\n        results = requests.get(url).json()[\"response\"]['groups'][0]['items']\n        \n        # return only relevant information for each nearby venue\n        venues_list.append([(\n            name, \n            lat, \n            lng, \n            v['venue']['name'], \n            v['venue']['location']['lat'], \n            v['venue']['location']['lng'],  \n            v['venue']['categories'][0]['name']) for v in results])\n\n    nearby_venues = pd.DataFrame([item for venue_list in venues_list for item in venue_list])\n    nearby_venues.columns = ['Zipcode', \n                  'Zipcode Latitude', \n                  'Zipcode Longitude', \n                  'Venue', \n                  'Venue Latitude', \n                  'Venue Longitude', \n                  'Venue Category']\n    \n    return(nearby_venues)"
        },
        {
            "cell_type": "markdown",
            "metadata": {},
            "source": "# TO DO --> SOME LATITUDE AND LONGITUDE VALUES ARE MISSING FROM ZIP CODE DATABASE\n\n"
        },
        {
            "cell_type": "code",
            "execution_count": 35,
            "metadata": {},
            "outputs": [],
            "source": "# TO DO --> SOME LATITUDE AND LONGITUDE VALUES ARE MISSING FROM ZIP CODE DATABASE\n"
        },
        {
            "cell_type": "code",
            "execution_count": 37,
            "metadata": {},
            "outputs": [],
            "source": "\ndf = city_wzipcodes[city_wzipcodes[\"City\"] == \"San Jose\"] # REDO REMOVE\ndf = df.dropna()\ndf.head()\n\ndf_venues = getNearbyVenues(df[\"Zipcode\"],df[\"Latitude\"] , df[\"Longitude\"], radius=500)\n\n"
        },
        {
            "cell_type": "code",
            "execution_count": 38,
            "metadata": {},
            "outputs": [
                {
                    "data": {
                        "text/html": "<div>\n<style scoped>\n    .dataframe tbody tr th:only-of-type {\n        vertical-align: middle;\n    }\n\n    .dataframe tbody tr th {\n        vertical-align: top;\n    }\n\n    .dataframe thead th {\n        text-align: right;\n    }\n</style>\n<table border=\"1\" class=\"dataframe\">\n  <thead>\n    <tr style=\"text-align: right;\">\n      <th></th>\n      <th>Zipcode</th>\n      <th>Zipcode Latitude</th>\n      <th>Zipcode Longitude</th>\n      <th>Venue</th>\n      <th>Venue Latitude</th>\n      <th>Venue Longitude</th>\n      <th>Venue Category</th>\n    </tr>\n  </thead>\n  <tbody>\n    <tr>\n      <th>0</th>\n      <td>95110</td>\n      <td>37.34</td>\n      <td>-121.91</td>\n      <td>Trader Joe's</td>\n      <td>37.340948</td>\n      <td>-121.909405</td>\n      <td>Grocery Store</td>\n    </tr>\n    <tr>\n      <th>1</th>\n      <td>95110</td>\n      <td>37.34</td>\n      <td>-121.91</td>\n      <td>PetSmart</td>\n      <td>37.339942</td>\n      <td>-121.907791</td>\n      <td>Pet Store</td>\n    </tr>\n    <tr>\n      <th>2</th>\n      <td>95110</td>\n      <td>37.34</td>\n      <td>-121.91</td>\n      <td>Blaze Pizza</td>\n      <td>37.341754</td>\n      <td>-121.911114</td>\n      <td>Pizza Place</td>\n    </tr>\n    <tr>\n      <th>3</th>\n      <td>95110</td>\n      <td>37.34</td>\n      <td>-121.91</td>\n      <td>Sultan Bakery</td>\n      <td>37.340354</td>\n      <td>-121.912812</td>\n      <td>Bakery</td>\n    </tr>\n    <tr>\n      <th>4</th>\n      <td>95110</td>\n      <td>37.34</td>\n      <td>-121.91</td>\n      <td>Tacomania (Taco Truck)</td>\n      <td>37.342056</td>\n      <td>-121.910236</td>\n      <td>Taco Place</td>\n    </tr>\n  </tbody>\n</table>\n</div>",
                        "text/plain": "  Zipcode  Zipcode Latitude  Zipcode Longitude                   Venue  \\\n0   95110             37.34            -121.91            Trader Joe's   \n1   95110             37.34            -121.91                PetSmart   \n2   95110             37.34            -121.91             Blaze Pizza   \n3   95110             37.34            -121.91           Sultan Bakery   \n4   95110             37.34            -121.91  Tacomania (Taco Truck)   \n\n   Venue Latitude  Venue Longitude Venue Category  \n0       37.340948      -121.909405  Grocery Store  \n1       37.339942      -121.907791      Pet Store  \n2       37.341754      -121.911114    Pizza Place  \n3       37.340354      -121.912812         Bakery  \n4       37.342056      -121.910236     Taco Place  "
                    },
                    "execution_count": 38,
                    "metadata": {},
                    "output_type": "execute_result"
                }
            ],
            "source": "df_venues.head()"
        },
        {
            "cell_type": "markdown",
            "metadata": {},
            "source": "### One hot encoding of venue information:\n"
        },
        {
            "cell_type": "code",
            "execution_count": 40,
            "metadata": {},
            "outputs": [
                {
                    "data": {
                        "text/html": "<div>\n<style scoped>\n    .dataframe tbody tr th:only-of-type {\n        vertical-align: middle;\n    }\n\n    .dataframe tbody tr th {\n        vertical-align: top;\n    }\n\n    .dataframe thead th {\n        text-align: right;\n    }\n</style>\n<table border=\"1\" class=\"dataframe\">\n  <thead>\n    <tr style=\"text-align: right;\">\n      <th></th>\n      <th>Zipcode</th>\n      <th>ATM</th>\n      <th>Alternative Healer</th>\n      <th>American Restaurant</th>\n      <th>Art Gallery</th>\n      <th>Art Museum</th>\n      <th>Art Studio</th>\n      <th>Arts &amp; Crafts Store</th>\n      <th>Asian Restaurant</th>\n      <th>Athletics &amp; Sports</th>\n      <th>...</th>\n      <th>Theater</th>\n      <th>Thrift / Vintage Store</th>\n      <th>Trail</th>\n      <th>Vegetarian / Vegan Restaurant</th>\n      <th>Video Game Store</th>\n      <th>Video Store</th>\n      <th>Vietnamese Restaurant</th>\n      <th>Weight Loss Center</th>\n      <th>Wings Joint</th>\n      <th>Yoga Studio</th>\n    </tr>\n  </thead>\n  <tbody>\n    <tr>\n      <th>0</th>\n      <td>95110</td>\n      <td>0</td>\n      <td>0</td>\n      <td>0</td>\n      <td>0</td>\n      <td>0</td>\n      <td>0</td>\n      <td>0</td>\n      <td>0</td>\n      <td>0</td>\n      <td>...</td>\n      <td>0</td>\n      <td>0</td>\n      <td>0</td>\n      <td>0</td>\n      <td>0</td>\n      <td>0</td>\n      <td>0</td>\n      <td>0</td>\n      <td>0</td>\n      <td>0</td>\n    </tr>\n    <tr>\n      <th>1</th>\n      <td>95110</td>\n      <td>0</td>\n      <td>0</td>\n      <td>0</td>\n      <td>0</td>\n      <td>0</td>\n      <td>0</td>\n      <td>0</td>\n      <td>0</td>\n      <td>0</td>\n      <td>...</td>\n      <td>0</td>\n      <td>0</td>\n      <td>0</td>\n      <td>0</td>\n      <td>0</td>\n      <td>0</td>\n      <td>0</td>\n      <td>0</td>\n      <td>0</td>\n      <td>0</td>\n    </tr>\n    <tr>\n      <th>2</th>\n      <td>95110</td>\n      <td>0</td>\n      <td>0</td>\n      <td>0</td>\n      <td>0</td>\n      <td>0</td>\n      <td>0</td>\n      <td>0</td>\n      <td>0</td>\n      <td>0</td>\n      <td>...</td>\n      <td>0</td>\n      <td>0</td>\n      <td>0</td>\n      <td>0</td>\n      <td>0</td>\n      <td>0</td>\n      <td>0</td>\n      <td>0</td>\n      <td>0</td>\n      <td>0</td>\n    </tr>\n    <tr>\n      <th>3</th>\n      <td>95110</td>\n      <td>0</td>\n      <td>0</td>\n      <td>0</td>\n      <td>0</td>\n      <td>0</td>\n      <td>0</td>\n      <td>0</td>\n      <td>0</td>\n      <td>0</td>\n      <td>...</td>\n      <td>0</td>\n      <td>0</td>\n      <td>0</td>\n      <td>0</td>\n      <td>0</td>\n      <td>0</td>\n      <td>0</td>\n      <td>0</td>\n      <td>0</td>\n      <td>0</td>\n    </tr>\n    <tr>\n      <th>4</th>\n      <td>95110</td>\n      <td>0</td>\n      <td>0</td>\n      <td>0</td>\n      <td>0</td>\n      <td>0</td>\n      <td>0</td>\n      <td>0</td>\n      <td>0</td>\n      <td>0</td>\n      <td>...</td>\n      <td>0</td>\n      <td>0</td>\n      <td>0</td>\n      <td>0</td>\n      <td>0</td>\n      <td>0</td>\n      <td>0</td>\n      <td>0</td>\n      <td>0</td>\n      <td>0</td>\n    </tr>\n  </tbody>\n</table>\n<p>5 rows \u00d7 159 columns</p>\n</div>",
                        "text/plain": "  Zipcode  ATM  Alternative Healer  American Restaurant  Art Gallery  \\\n0   95110    0                   0                    0            0   \n1   95110    0                   0                    0            0   \n2   95110    0                   0                    0            0   \n3   95110    0                   0                    0            0   \n4   95110    0                   0                    0            0   \n\n   Art Museum  Art Studio  Arts & Crafts Store  Asian Restaurant  \\\n0           0           0                    0                 0   \n1           0           0                    0                 0   \n2           0           0                    0                 0   \n3           0           0                    0                 0   \n4           0           0                    0                 0   \n\n   Athletics & Sports  ...  Theater  Thrift / Vintage Store  Trail  \\\n0                   0  ...        0                       0      0   \n1                   0  ...        0                       0      0   \n2                   0  ...        0                       0      0   \n3                   0  ...        0                       0      0   \n4                   0  ...        0                       0      0   \n\n   Vegetarian / Vegan Restaurant  Video Game Store  Video Store  \\\n0                              0                 0            0   \n1                              0                 0            0   \n2                              0                 0            0   \n3                              0                 0            0   \n4                              0                 0            0   \n\n   Vietnamese Restaurant  Weight Loss Center  Wings Joint  Yoga Studio  \n0                      0                   0            0            0  \n1                      0                   0            0            0  \n2                      0                   0            0            0  \n3                      0                   0            0            0  \n4                      0                   0            0            0  \n\n[5 rows x 159 columns]"
                    },
                    "execution_count": 40,
                    "metadata": {},
                    "output_type": "execute_result"
                }
            ],
            "source": "# one hot encoding\ndf_onehot = pd.get_dummies(df_venues[['Venue Category']], prefix=\"\", prefix_sep=\"\")\n\n# add neighborhood column back to dataframe\ndf_onehot['Zipcode'] = df_venues['Zipcode'] \n\n# move neighborhood column to the first column\nfixed_columns = [df_onehot.columns[-1]] + list(df_onehot.columns[:-1])\ndf_onehot = df_onehot[fixed_columns]\n\ndf_onehot.head()\n"
        },
        {
            "cell_type": "markdown",
            "metadata": {},
            "source": "### group rows by neighborhood and by taking the mean of the frequency of occurrence of each category\n"
        },
        {
            "cell_type": "code",
            "execution_count": 42,
            "metadata": {},
            "outputs": [
                {
                    "data": {
                        "text/html": "<div>\n<style scoped>\n    .dataframe tbody tr th:only-of-type {\n        vertical-align: middle;\n    }\n\n    .dataframe tbody tr th {\n        vertical-align: top;\n    }\n\n    .dataframe thead th {\n        text-align: right;\n    }\n</style>\n<table border=\"1\" class=\"dataframe\">\n  <thead>\n    <tr style=\"text-align: right;\">\n      <th></th>\n      <th>Zipcode</th>\n      <th>ATM</th>\n      <th>Alternative Healer</th>\n      <th>American Restaurant</th>\n      <th>Art Gallery</th>\n      <th>Art Museum</th>\n      <th>Art Studio</th>\n      <th>Arts &amp; Crafts Store</th>\n      <th>Asian Restaurant</th>\n      <th>Athletics &amp; Sports</th>\n      <th>...</th>\n      <th>Theater</th>\n      <th>Thrift / Vintage Store</th>\n      <th>Trail</th>\n      <th>Vegetarian / Vegan Restaurant</th>\n      <th>Video Game Store</th>\n      <th>Video Store</th>\n      <th>Vietnamese Restaurant</th>\n      <th>Weight Loss Center</th>\n      <th>Wings Joint</th>\n      <th>Yoga Studio</th>\n    </tr>\n  </thead>\n  <tbody>\n    <tr>\n      <th>0</th>\n      <td>95110</td>\n      <td>0.0</td>\n      <td>0.0</td>\n      <td>0.00000</td>\n      <td>0.00</td>\n      <td>0.00</td>\n      <td>0.0</td>\n      <td>0.022727</td>\n      <td>0.00000</td>\n      <td>0.0</td>\n      <td>...</td>\n      <td>0.00</td>\n      <td>0.022727</td>\n      <td>0.0</td>\n      <td>0.000000</td>\n      <td>0.022727</td>\n      <td>0.00</td>\n      <td>0.000000</td>\n      <td>0.0</td>\n      <td>0.00</td>\n      <td>0.00</td>\n    </tr>\n    <tr>\n      <th>1</th>\n      <td>95111</td>\n      <td>0.0</td>\n      <td>0.0</td>\n      <td>0.00000</td>\n      <td>0.00</td>\n      <td>0.00</td>\n      <td>0.0</td>\n      <td>0.000000</td>\n      <td>0.00000</td>\n      <td>0.0</td>\n      <td>...</td>\n      <td>0.00</td>\n      <td>0.000000</td>\n      <td>0.0</td>\n      <td>0.000000</td>\n      <td>0.000000</td>\n      <td>0.05</td>\n      <td>0.050000</td>\n      <td>0.0</td>\n      <td>0.00</td>\n      <td>0.00</td>\n    </tr>\n    <tr>\n      <th>2</th>\n      <td>95112</td>\n      <td>0.0</td>\n      <td>0.0</td>\n      <td>0.02381</td>\n      <td>0.00</td>\n      <td>0.00</td>\n      <td>0.0</td>\n      <td>0.000000</td>\n      <td>0.02381</td>\n      <td>0.0</td>\n      <td>...</td>\n      <td>0.00</td>\n      <td>0.000000</td>\n      <td>0.0</td>\n      <td>0.071429</td>\n      <td>0.000000</td>\n      <td>0.00</td>\n      <td>0.119048</td>\n      <td>0.0</td>\n      <td>0.00</td>\n      <td>0.00</td>\n    </tr>\n    <tr>\n      <th>3</th>\n      <td>95113</td>\n      <td>0.0</td>\n      <td>0.0</td>\n      <td>0.01000</td>\n      <td>0.01</td>\n      <td>0.01</td>\n      <td>0.0</td>\n      <td>0.000000</td>\n      <td>0.02000</td>\n      <td>0.0</td>\n      <td>...</td>\n      <td>0.03</td>\n      <td>0.000000</td>\n      <td>0.0</td>\n      <td>0.010000</td>\n      <td>0.000000</td>\n      <td>0.00</td>\n      <td>0.000000</td>\n      <td>0.0</td>\n      <td>0.01</td>\n      <td>0.01</td>\n    </tr>\n    <tr>\n      <th>4</th>\n      <td>95116</td>\n      <td>0.0</td>\n      <td>0.0</td>\n      <td>0.00000</td>\n      <td>0.00</td>\n      <td>0.00</td>\n      <td>0.0</td>\n      <td>0.000000</td>\n      <td>0.00000</td>\n      <td>0.0</td>\n      <td>...</td>\n      <td>0.00</td>\n      <td>0.000000</td>\n      <td>0.0</td>\n      <td>0.000000</td>\n      <td>0.000000</td>\n      <td>0.00</td>\n      <td>0.200000</td>\n      <td>0.0</td>\n      <td>0.00</td>\n      <td>0.00</td>\n    </tr>\n  </tbody>\n</table>\n<p>5 rows \u00d7 159 columns</p>\n</div>",
                        "text/plain": "  Zipcode  ATM  Alternative Healer  American Restaurant  Art Gallery  \\\n0   95110  0.0                 0.0              0.00000         0.00   \n1   95111  0.0                 0.0              0.00000         0.00   \n2   95112  0.0                 0.0              0.02381         0.00   \n3   95113  0.0                 0.0              0.01000         0.01   \n4   95116  0.0                 0.0              0.00000         0.00   \n\n   Art Museum  Art Studio  Arts & Crafts Store  Asian Restaurant  \\\n0        0.00         0.0             0.022727           0.00000   \n1        0.00         0.0             0.000000           0.00000   \n2        0.00         0.0             0.000000           0.02381   \n3        0.01         0.0             0.000000           0.02000   \n4        0.00         0.0             0.000000           0.00000   \n\n   Athletics & Sports  ...  Theater  Thrift / Vintage Store  Trail  \\\n0                 0.0  ...     0.00                0.022727    0.0   \n1                 0.0  ...     0.00                0.000000    0.0   \n2                 0.0  ...     0.00                0.000000    0.0   \n3                 0.0  ...     0.03                0.000000    0.0   \n4                 0.0  ...     0.00                0.000000    0.0   \n\n   Vegetarian / Vegan Restaurant  Video Game Store  Video Store  \\\n0                       0.000000          0.022727         0.00   \n1                       0.000000          0.000000         0.05   \n2                       0.071429          0.000000         0.00   \n3                       0.010000          0.000000         0.00   \n4                       0.000000          0.000000         0.00   \n\n   Vietnamese Restaurant  Weight Loss Center  Wings Joint  Yoga Studio  \n0               0.000000                 0.0         0.00         0.00  \n1               0.050000                 0.0         0.00         0.00  \n2               0.119048                 0.0         0.00         0.00  \n3               0.000000                 0.0         0.01         0.01  \n4               0.200000                 0.0         0.00         0.00  \n\n[5 rows x 159 columns]"
                    },
                    "execution_count": 42,
                    "metadata": {},
                    "output_type": "execute_result"
                }
            ],
            "source": "df_grouped = df_onehot.groupby('Zipcode').mean().reset_index()\ndf_grouped.head()\n"
        },
        {
            "cell_type": "code",
            "execution_count": 43,
            "metadata": {},
            "outputs": [],
            "source": "def return_most_common_venues(row, num_top_venues):\n    row_categories = row.iloc[1:]\n    row_categories_sorted = row_categories.sort_values(ascending=False)\n    \n    return row_categories_sorted.index.values[0:num_top_venues]"
        },
        {
            "cell_type": "markdown",
            "metadata": {},
            "source": "### top 10 venues for each neighborhood.\n"
        },
        {
            "cell_type": "code",
            "execution_count": 44,
            "metadata": {},
            "outputs": [
                {
                    "ename": "NameError",
                    "evalue": "name 'np' is not defined",
                    "output_type": "error",
                    "traceback": [
                        "\u001b[0;31m---------------------------------------------------------------------------\u001b[0m",
                        "\u001b[0;31mNameError\u001b[0m                                 Traceback (most recent call last)",
                        "\u001b[0;32m<ipython-input-44-3bdba3f733c8>\u001b[0m in \u001b[0;36m<module>\u001b[0;34m\u001b[0m\n\u001b[1;32m      5\u001b[0m \u001b[0;31m# create columns according to number of top venues\u001b[0m\u001b[0;34m\u001b[0m\u001b[0;34m\u001b[0m\u001b[0;34m\u001b[0m\u001b[0m\n\u001b[1;32m      6\u001b[0m \u001b[0mcolumns\u001b[0m \u001b[0;34m=\u001b[0m \u001b[0;34m[\u001b[0m\u001b[0;34m'Neighborhood'\u001b[0m\u001b[0;34m]\u001b[0m\u001b[0;34m\u001b[0m\u001b[0;34m\u001b[0m\u001b[0m\n\u001b[0;32m----> 7\u001b[0;31m \u001b[0;32mfor\u001b[0m \u001b[0mind\u001b[0m \u001b[0;32min\u001b[0m \u001b[0mnp\u001b[0m\u001b[0;34m.\u001b[0m\u001b[0marange\u001b[0m\u001b[0;34m(\u001b[0m\u001b[0mnum_top_venues\u001b[0m\u001b[0;34m)\u001b[0m\u001b[0;34m:\u001b[0m\u001b[0;34m\u001b[0m\u001b[0;34m\u001b[0m\u001b[0m\n\u001b[0m\u001b[1;32m      8\u001b[0m     \u001b[0;32mtry\u001b[0m\u001b[0;34m:\u001b[0m\u001b[0;34m\u001b[0m\u001b[0;34m\u001b[0m\u001b[0m\n\u001b[1;32m      9\u001b[0m         \u001b[0mcolumns\u001b[0m\u001b[0;34m.\u001b[0m\u001b[0mappend\u001b[0m\u001b[0;34m(\u001b[0m\u001b[0;34m'{}{} Most Common Venue'\u001b[0m\u001b[0;34m.\u001b[0m\u001b[0mformat\u001b[0m\u001b[0;34m(\u001b[0m\u001b[0mind\u001b[0m\u001b[0;34m+\u001b[0m\u001b[0;36m1\u001b[0m\u001b[0;34m,\u001b[0m \u001b[0mindicators\u001b[0m\u001b[0;34m[\u001b[0m\u001b[0mind\u001b[0m\u001b[0;34m]\u001b[0m\u001b[0;34m)\u001b[0m\u001b[0;34m)\u001b[0m\u001b[0;34m\u001b[0m\u001b[0;34m\u001b[0m\u001b[0m\n",
                        "\u001b[0;31mNameError\u001b[0m: name 'np' is not defined"
                    ]
                }
            ],
            "source": "num_top_venues = 10\n\nindicators = ['st', 'nd', 'rd']\n\n# create columns according to number of top venues\ncolumns = ['Neighborhood']\nfor ind in np.arange(num_top_venues):\n    try:\n        columns.append('{}{} Most Common Venue'.format(ind+1, indicators[ind]))\n    except:\n        columns.append('{}th Most Common Venue'.format(ind+1))\n\n# create a new dataframe\nneighborhoods_venues_sorted = pd.DataFrame(columns=columns)\nneighborhoods_venues_sorted['Neighborhood'] = toronto_grouped['Neighborhood']\n\nfor ind in np.arange(toronto_grouped.shape[0]):\n    neighborhoods_venues_sorted.iloc[ind, 1:] = return_most_common_venues(toronto_grouped.iloc[ind, :], num_top_venues)\n\nneighborhoods_venues_sorted.head()"
        },
        {
            "cell_type": "code",
            "execution_count": null,
            "metadata": {},
            "outputs": [],
            "source": ""
        },
        {
            "cell_type": "code",
            "execution_count": null,
            "metadata": {},
            "outputs": [],
            "source": ""
        },
        {
            "cell_type": "code",
            "execution_count": null,
            "metadata": {},
            "outputs": [],
            "source": ""
        },
        {
            "cell_type": "code",
            "execution_count": null,
            "metadata": {},
            "outputs": [],
            "source": ""
        }
    ],
    "metadata": {
        "kernelspec": {
            "display_name": "Python 3.7",
            "language": "python",
            "name": "python3"
        },
        "language_info": {
            "codemirror_mode": {
                "name": "ipython",
                "version": 3
            },
            "file_extension": ".py",
            "mimetype": "text/x-python",
            "name": "python",
            "nbconvert_exporter": "python",
            "pygments_lexer": "ipython3",
            "version": "3.7.10"
        }
    },
    "nbformat": 4,
    "nbformat_minor": 5
}