{
    "cells": [
        {
            "cell_type": "markdown",
            "metadata": {},
            "source": "### Import libraries"
        },
        {
            "cell_type": "code",
            "execution_count": null,
            "metadata": {},
            "outputs": [],
            "source": "!pip install bs4\nfrom bs4 import BeautifulSoup\n\n!pip install uszipcode\nfrom uszipcode import SearchEngine\n\nimport pandas as pd\nimport requests\nprint (\"Libraries imported\")"
        },
        {
            "cell_type": "markdown",
            "metadata": {},
            "source": "### Download list of most populated cities in US"
        },
        {
            "cell_type": "code",
            "execution_count": 3,
            "metadata": {},
            "outputs": [],
            "source": "# get list of 50 most populous US cities\n\nurl = \"https://en.wikipedia.org/wiki/List_of_United_States_cities_by_population\"\nhtml = requests.get(url).text\n"
        },
        {
            "cell_type": "markdown",
            "metadata": {},
            "source": "### Extract table with BeautifulSoup"
        },
        {
            "cell_type": "code",
            "execution_count": 4,
            "metadata": {},
            "outputs": [
                {
                    "name": "stdout",
                    "output_type": "stream",
                    "text": "Table found\n"
                }
            ],
            "source": "\n# get all tables with BeautifulSoup\nsoup = BeautifulSoup(html,\"html5lib\")\n\ntables = soup.find_all(\"table\")\ntable_index= -1\ntable = None\n\n# find the correct table \nfor i,table in enumerate(tables):\n    if \"New York City\" in str(table) and \"Chicago\" in str(table): #\n        table_index = i\n        #break # first table which \n\nif table_index >=0:\n    table = tables[table_index]\n    print (\"Table found\")\n    #print (table)\nelse:\n    print (\"No valid table found\")\n    table = None\n\n"
        },
        {
            "cell_type": "markdown",
            "metadata": {},
            "source": "### Extract required data from table and generate a pandas dataframe"
        },
        {
            "cell_type": "code",
            "execution_count": 5,
            "metadata": {},
            "outputs": [
                {
                    "data": {
                        "text/html": "<div>\n<style scoped>\n    .dataframe tbody tr th:only-of-type {\n        vertical-align: middle;\n    }\n\n    .dataframe tbody tr th {\n        vertical-align: top;\n    }\n\n    .dataframe thead th {\n        text-align: right;\n    }\n</style>\n<table border=\"1\" class=\"dataframe\">\n  <thead>\n    <tr style=\"text-align: right;\">\n      <th></th>\n      <th>City</th>\n      <th>State</th>\n      <th>Size Estimate</th>\n    </tr>\n  </thead>\n  <tbody>\n    <tr>\n      <th>0</th>\n      <td>New York City</td>\n      <td>New York</td>\n      <td>8336817</td>\n    </tr>\n    <tr>\n      <th>1</th>\n      <td>Los Angeles</td>\n      <td>California</td>\n      <td>3979576</td>\n    </tr>\n    <tr>\n      <th>2</th>\n      <td>Chicago</td>\n      <td>Illinois</td>\n      <td>2693976</td>\n    </tr>\n    <tr>\n      <th>3</th>\n      <td>Houston</td>\n      <td>Texas</td>\n      <td>2320268</td>\n    </tr>\n    <tr>\n      <th>4</th>\n      <td>Phoenix</td>\n      <td>Arizona</td>\n      <td>1680992</td>\n    </tr>\n    <tr>\n      <th>5</th>\n      <td>Philadelphia</td>\n      <td>Pennsylvania</td>\n      <td>1584064</td>\n    </tr>\n    <tr>\n      <th>6</th>\n      <td>San Antonio</td>\n      <td>Texas</td>\n      <td>1547253</td>\n    </tr>\n    <tr>\n      <th>7</th>\n      <td>San Diego</td>\n      <td>California</td>\n      <td>1423851</td>\n    </tr>\n    <tr>\n      <th>8</th>\n      <td>Dallas</td>\n      <td>Texas</td>\n      <td>1343573</td>\n    </tr>\n    <tr>\n      <th>9</th>\n      <td>San Jose</td>\n      <td>California</td>\n      <td>1021795</td>\n    </tr>\n  </tbody>\n</table>\n</div>",
                        "text/plain": "            City         State  Size Estimate\n0  New York City      New York        8336817\n1    Los Angeles    California        3979576\n2        Chicago      Illinois        2693976\n3        Houston         Texas        2320268\n4        Phoenix       Arizona        1680992\n5   Philadelphia  Pennsylvania        1584064\n6    San Antonio         Texas        1547253\n7      San Diego    California        1423851\n8         Dallas         Texas        1343573\n9       San Jose    California        1021795"
                    },
                    "execution_count": 5,
                    "metadata": {},
                    "output_type": "execute_result"
                }
            ],
            "source": "\ntable_contents=[]\n\n# loop over all cells in the table \nfor i,row in enumerate(table.findAll('tr')): # orig: td\n    \n    #create dictionary for a given cell to be added to dataframe\n\n    if not i:\n        #skip header\n        continue\n\n    arr = (row.text).split(\"\\n\")\n    cell = {}\n\n    if len(arr)>17:\n        #city \n        cell['City'] = arr[3].split(\"[\")[0]\n        #state \n        cell['State'] = arr[5].replace(\"\\xa0\",\"\")\n        #print (arr)\n        cell['Size Estimate'] = int(arr[7].replace(\",\",\"\"))\n\n        #print (cell)\n        \n        table_contents.append(cell)\n\n#print(table_contents)\n# print(table_contents)\ncities = pd.DataFrame(table_contents)\n\ncities.head(10)"
        },
        {
            "cell_type": "markdown",
            "metadata": {},
            "source": "### Download zipcode database"
        },
        {
            "cell_type": "code",
            "execution_count": 8,
            "metadata": {},
            "outputs": [],
            "source": "\n#download zip code database\nsearch = SearchEngine(simple_zipcode=True) # simple_zipcode=False\n"
        },
        {
            "cell_type": "markdown",
            "metadata": {},
            "source": "### Retrieve all zipcodes for cities with 1M or more inhabitants"
        },
        {
            "cell_type": "code",
            "execution_count": 10,
            "metadata": {},
            "outputs": [
                {
                    "name": "stdout",
                    "output_type": "stream",
                    "text": "Retrieved 99 zip codes for New York City\nRetrieved 64 zip codes for Los Angeles\nRetrieved 58 zip codes for Chicago\nRetrieved 106 zip codes for Houston\nRetrieved 53 zip codes for Phoenix\nRetrieved 56 zip codes for Philadelphia\nRetrieved 68 zip codes for San Antonio\nRetrieved 36 zip codes for San Diego\nRetrieved 63 zip codes for Dallas\nRetrieved 32 zip codes for San Jose\n"
                },
                {
                    "data": {
                        "text/html": "<div>\n<style scoped>\n    .dataframe tbody tr th:only-of-type {\n        vertical-align: middle;\n    }\n\n    .dataframe tbody tr th {\n        vertical-align: top;\n    }\n\n    .dataframe thead th {\n        text-align: right;\n    }\n</style>\n<table border=\"1\" class=\"dataframe\">\n  <thead>\n    <tr style=\"text-align: right;\">\n      <th></th>\n      <th>City</th>\n      <th>State</th>\n      <th>Zipcode</th>\n      <th>Latitude</th>\n      <th>Longitude</th>\n    </tr>\n  </thead>\n  <tbody>\n    <tr>\n      <th>0</th>\n      <td>New York City</td>\n      <td>New York</td>\n      <td>10001</td>\n      <td>40.750</td>\n      <td>-73.990</td>\n    </tr>\n    <tr>\n      <th>1</th>\n      <td>New York City</td>\n      <td>New York</td>\n      <td>10002</td>\n      <td>40.720</td>\n      <td>-73.990</td>\n    </tr>\n    <tr>\n      <th>2</th>\n      <td>New York City</td>\n      <td>New York</td>\n      <td>10003</td>\n      <td>40.730</td>\n      <td>-73.990</td>\n    </tr>\n    <tr>\n      <th>3</th>\n      <td>New York City</td>\n      <td>New York</td>\n      <td>10004</td>\n      <td>40.700</td>\n      <td>-74.020</td>\n    </tr>\n    <tr>\n      <th>4</th>\n      <td>New York City</td>\n      <td>New York</td>\n      <td>10005</td>\n      <td>40.705</td>\n      <td>-74.005</td>\n    </tr>\n  </tbody>\n</table>\n</div>",
                        "text/plain": "            City     State Zipcode  Latitude  Longitude\n0  New York City  New York   10001    40.750    -73.990\n1  New York City  New York   10002    40.720    -73.990\n2  New York City  New York   10003    40.730    -73.990\n3  New York City  New York   10004    40.700    -74.020\n4  New York City  New York   10005    40.705    -74.005"
                    },
                    "execution_count": 10,
                    "metadata": {},
                    "output_type": "execute_result"
                }
            ],
            "source": "#cities with at least one million inhabitants\ntmpdata = []\n\nfor city, state,size in zip(cities[\"City\"],cities[\"State\"],cities[\"Size Estimate\"]):\n    if size > 1000000:\n        #res = search.by_city_and_state(city, state)\n        res = search.by_city(city=city, returns=0)\n        if not len(res):\n            print (\"Error occurred for {}\".format(city))\n        else:\n            #pcode = {}\n            print (\"Retrieved {} zip codes for {}\".format(len(res),city))\n            #city_zipcodes[city] = [z.zipcode for z in res]\n            for z in res:\n                pcode = {'City':city,'State':state,'Zipcode':z.zipcode,'Latitude':z.lat,'Longitude':z.lng}\n                tmpdata.append(pcode)\n        #break   # REMOVE ------------------------------\ncity_wzipcodes =  pd.DataFrame(tmpdata)\ncity_wzipcodes.head()"
        },
        {
            "cell_type": "markdown",
            "metadata": {},
            "source": "### Set up foursquare information"
        },
        {
            "cell_type": "code",
            "execution_count": null,
            "metadata": {},
            "outputs": [],
            "source": "# The code was removed by Watson Studio for sharing."
        },
        {
            "cell_type": "markdown",
            "metadata": {},
            "source": "### Function to retrieve location data from foursquare"
        },
        {
            "cell_type": "code",
            "execution_count": 11,
            "metadata": {},
            "outputs": [],
            "source": "\ndef getNearbyVenues(names, latitudes, longitudes, radius=500):\n    \n    venues_list=[]\n    for name, lat, lng in zip(names, latitudes, longitudes):\n        #print(name)\n            \n        # create the API request URL\n        url = 'https://api.foursquare.com/v2/venues/explore?&client_id={}&client_secret={}&v={}&ll={},{}&radius={}&limit={}'.format(\n            CLIENT_ID, \n            CLIENT_SECRET, \n            VERSION, \n            lat, \n            lng, \n            radius, \n            LIMIT)\n            \n        # make the GET request\n        results = requests.get(url).json()[\"response\"]['groups'][0]['items']\n        \n        # return only relevant information for each nearby venue\n        venues_list.append([(\n            name, \n            lat, \n            lng, \n            v['venue']['name'], \n            v['venue']['location']['lat'], \n            v['venue']['location']['lng'],  \n            v['venue']['categories'][0]['name']) for v in results])\n\n    nearby_venues = pd.DataFrame([item for venue_list in venues_list for item in venue_list])\n    nearby_venues.columns = ['Neighborhood', \n                  'Neighborhood Latitude', \n                  'Neighborhood Longitude', \n                  'Venue', \n                  'Venue Latitude', \n                  'Venue Longitude', \n                  'Venue Category']\n    \n    return(nearby_venues)"
        },
        {
            "cell_type": "code",
            "execution_count": null,
            "metadata": {},
            "outputs": [],
            "source": "\ndf.head()\n\n#subset = df[df['Borough'].str.contains('Toronto')]\n\n#print (subset[\"Borough\"].unique())\n#subset.head(1000)\n\n#toronto_venues = getNearbyVenues(subset[\"Neighborhood\"],subset[\"Latitude\"] , subset[\"Longitude\"], radius=500)\n#toronto_venues = getNearbyVenues(df[\"Neighborhood\"],df[\"Latitude\"] , df[\"Longitude\"], radius=500)\n"
        },
        {
            "cell_type": "code",
            "execution_count": null,
            "metadata": {},
            "outputs": [],
            "source": ""
        },
        {
            "cell_type": "code",
            "execution_count": null,
            "metadata": {},
            "outputs": [],
            "source": ""
        }
    ],
    "metadata": {
        "kernelspec": {
            "display_name": "Python 3.7",
            "language": "python",
            "name": "python3"
        },
        "language_info": {
            "codemirror_mode": {
                "name": "ipython",
                "version": 3
            },
            "file_extension": ".py",
            "mimetype": "text/x-python",
            "name": "python",
            "nbconvert_exporter": "python",
            "pygments_lexer": "ipython3",
            "version": "3.7.10"
        }
    },
    "nbformat": 4,
    "nbformat_minor": 5
}